{
  "nbformat": 4,
  "nbformat_minor": 0,
  "metadata": {
    "colab": {
      "name": "Data Group Assignment 1.ipynb",
      "provenance": [],
      "collapsed_sections": []
    },
    "kernelspec": {
      "display_name": "Python 3",
      "language": "python",
      "name": "python3"
    }
  },
  "cells": [
    {
      "cell_type": "code",
      "metadata": {
        "colab_type": "code",
        "id": "Op5idGRk8iri",
        "colab": {}
      },
      "source": [
        "#Assignment Group: Section B\n",
        "#Yeji (Amy) Lee               63843416\n",
        "#Zhuoer (Stella) Yang         71165437\n",
        "#Kuang (Steven) Li            46448655\n",
        "#Tanvir Brar                  36241934\n",
        "#Teng-Yun (Jacob) Chung       92443989\n",
        "\n",
        "#People we discussed with outside the team : Yuan Liu\n"
      ],
      "execution_count": 0,
      "outputs": []
    },
    {
      "cell_type": "markdown",
      "metadata": {
        "colab_type": "text",
        "id": "vDYfpupBwnRB"
      },
      "source": [
        "**Question 1 (50 points):** Visit https://www.indeed.com/m/website and search for Data Scientist in Los Angles. Now click on the “Find Jobs” button and you will be able to seethe search results.Please find the top 200 jobs and obtain the frequencies of jobs that mention C, C++, Java, Javascript, Python, R, SQL, Hadoop, Hive, Pig, Spark, AWS and Tableau, respectively.Bonus question (10 points): compare the skill frequencies for Data Science jobs in San Francisco, Los Angeles, New York, Boston, Chicago, Austin and DC.\n",
        "\n"
      ]
    },
    {
      "cell_type": "code",
      "metadata": {
        "colab_type": "code",
        "id": "ALQOYEDB8M8D",
        "colab": {}
      },
      "source": [
        "from bs4 import BeautifulSoup\n",
        "import urllib\n",
        "import re\n",
        "import pandas as pd\n",
        "import requests\n",
        "from urllib.request import urlopen\n",
        "import numpy as np\n",
        "import matplotlib.pyplot as plt\n",
        "import time\n",
        "import seaborn as sns"
      ],
      "execution_count": 0,
      "outputs": []
    },
    {
      "cell_type": "code",
      "metadata": {
        "colab_type": "code",
        "id": "iU6eFzTZTBI1",
        "outputId": "a1f388ff-e32e-4b1e-d65e-d305aa9ca1ac",
        "colab": {
          "base_uri": "https://localhost:8080/",
          "height": 357
        }
      },
      "source": [
        "#Question 1 Los Angeles\n",
        "title = []\n",
        "company = []\n",
        "location = []\n",
        "jd = []\n",
        "url = \"https://www.indeed.com/m/jobs?q=data+scientist&l=Los+Angeles%2C+CA\"\n",
        "for i in range(20):\n",
        "    \n",
        "    page = urlopen(url)\n",
        "    soup = BeautifulSoup(page, 'lxml')\n",
        "    all_matches = soup.findAll(attrs={'rel':['nofollow']})\n",
        "    for each in all_matches:\n",
        "        jd_url= 'http://www.indeed.com/m/'+each['href']\n",
        "        jd_page =urlopen(jd_url)\n",
        "        jd_soup = BeautifulSoup(jd_page, 'lxml')\n",
        "        jd_desc = jd_soup.findAll(attrs={'id':['desc']})\n",
        "        title.append(jd_soup.body.p.b.font.text)\n",
        "        company.append(jd_desc[0].span.text)\n",
        "        location.append(jd_soup.body.p.span.text)\n",
        "        jd.append(jd_desc[0].text)\n",
        "        \n",
        "    ## Change the pages to Next Page\n",
        "    url_all = soup.findAll(attrs={'rel':['next']})\n",
        "    print(url_all)\n",
        "    url = 'http://www.indeed.com/m/'+ str(url_all[0]['href'])"
      ],
      "execution_count": 0,
      "outputs": [
        {
          "output_type": "stream",
          "text": [
            "[<link href=\"jobs?q=data+scientist&amp;l=Los+Angeles%2C+CA&amp;start=10\" rel=\"next\"/>]\n",
            "[<link href=\"jobs?q=data+scientist&amp;l=Los+Angeles%2C+CA&amp;start=20\" rel=\"next\"/>]\n",
            "[<link href=\"jobs?q=data+scientist&amp;l=Los+Angeles%2C+CA&amp;start=30\" rel=\"next\"/>]\n",
            "[<link href=\"jobs?q=data+scientist&amp;l=Los+Angeles%2C+CA&amp;start=40\" rel=\"next\"/>]\n",
            "[<link href=\"jobs?q=data+scientist&amp;l=Los+Angeles%2C+CA&amp;start=50\" rel=\"next\"/>]\n",
            "[<link href=\"jobs?q=data+scientist&amp;l=Los+Angeles%2C+CA&amp;start=60\" rel=\"next\"/>]\n",
            "[<link href=\"jobs?q=data+scientist&amp;l=Los+Angeles%2C+CA&amp;start=70\" rel=\"next\"/>]\n",
            "[<link href=\"jobs?q=data+scientist&amp;l=Los+Angeles%2C+CA&amp;start=80\" rel=\"next\"/>]\n",
            "[<link href=\"jobs?q=data+scientist&amp;l=Los+Angeles%2C+CA&amp;start=90\" rel=\"next\"/>]\n",
            "[<link href=\"jobs?q=data+scientist&amp;l=Los+Angeles%2C+CA&amp;start=100\" rel=\"next\"/>]\n",
            "[<link href=\"jobs?q=data+scientist&amp;l=Los+Angeles%2C+CA&amp;start=110\" rel=\"next\"/>]\n",
            "[<link href=\"jobs?q=data+scientist&amp;l=Los+Angeles%2C+CA&amp;start=120\" rel=\"next\"/>]\n",
            "[<link href=\"jobs?q=data+scientist&amp;l=Los+Angeles%2C+CA&amp;start=130\" rel=\"next\"/>]\n",
            "[<link href=\"jobs?q=data+scientist&amp;l=Los+Angeles%2C+CA&amp;start=140\" rel=\"next\"/>]\n",
            "[<link href=\"jobs?q=data+scientist&amp;l=Los+Angeles%2C+CA&amp;start=150\" rel=\"next\"/>]\n",
            "[<link href=\"jobs?q=data+scientist&amp;l=Los+Angeles%2C+CA&amp;start=160\" rel=\"next\"/>]\n",
            "[<link href=\"jobs?q=data+scientist&amp;l=Los+Angeles%2C+CA&amp;start=170\" rel=\"next\"/>]\n",
            "[<link href=\"jobs?q=data+scientist&amp;l=Los+Angeles%2C+CA&amp;start=180\" rel=\"next\"/>]\n",
            "[<link href=\"jobs?q=data+scientist&amp;l=Los+Angeles%2C+CA&amp;start=190\" rel=\"next\"/>]\n",
            "[<link href=\"jobs?q=data+scientist&amp;l=Los+Angeles%2C+CA&amp;start=200\" rel=\"next\"/>]\n"
          ],
          "name": "stdout"
        }
      ]
    },
    {
      "cell_type": "code",
      "metadata": {
        "colab_type": "code",
        "id": "enVUR1pX2Ywb",
        "outputId": "88434f27-fb0f-48e9-8721-d1083037cbba",
        "colab": {
          "base_uri": "https://localhost:8080/",
          "height": 419
        }
      },
      "source": [
        "job = {'title': title,\n",
        "         'company': company,\n",
        "         'location': location,\n",
        "         'Job_Description': jd}\n",
        "df = pd.DataFrame.from_dict(job)\n",
        "df"
      ],
      "execution_count": 0,
      "outputs": [
        {
          "output_type": "execute_result",
          "data": {
            "text/html": [
              "<div>\n",
              "<style scoped>\n",
              "    .dataframe tbody tr th:only-of-type {\n",
              "        vertical-align: middle;\n",
              "    }\n",
              "\n",
              "    .dataframe tbody tr th {\n",
              "        vertical-align: top;\n",
              "    }\n",
              "\n",
              "    .dataframe thead th {\n",
              "        text-align: right;\n",
              "    }\n",
              "</style>\n",
              "<table border=\"1\" class=\"dataframe\">\n",
              "  <thead>\n",
              "    <tr style=\"text-align: right;\">\n",
              "      <th></th>\n",
              "      <th>title</th>\n",
              "      <th>company</th>\n",
              "      <th>location</th>\n",
              "      <th>Job_Description</th>\n",
              "    </tr>\n",
              "  </thead>\n",
              "  <tbody>\n",
              "    <tr>\n",
              "      <th>0</th>\n",
              "      <td>Data Scientist</td>\n",
              "      <td>Deloitte</td>\n",
              "      <td>Los Angeles, CA 90013</td>\n",
              "      <td>Deloitte Services LP includes internal support...</td>\n",
              "    </tr>\n",
              "    <tr>\n",
              "      <th>1</th>\n",
              "      <td>Data Scientist</td>\n",
              "      <td>AvantStay</td>\n",
              "      <td>Los Angeles, CA</td>\n",
              "      <td>Who we are...\\nAvantStay delivers exceptional,...</td>\n",
              "    </tr>\n",
              "    <tr>\n",
              "      <th>2</th>\n",
              "      <td>Data Scientist I - (Part-time)</td>\n",
              "      <td>Columbus Technologies and Services, Inc.</td>\n",
              "      <td>Pasadena, CA 91101</td>\n",
              "      <td>Must be a US Citizen\\nEstimated duration of 12...</td>\n",
              "    </tr>\n",
              "    <tr>\n",
              "      <th>3</th>\n",
              "      <td>Data Scientist</td>\n",
              "      <td>Age of Learning</td>\n",
              "      <td>Glendale, CA 91203</td>\n",
              "      <td>Company Overview:\\nAge of Learning is a leadin...</td>\n",
              "    </tr>\n",
              "    <tr>\n",
              "      <th>4</th>\n",
              "      <td>Data Scientist</td>\n",
              "      <td>NBCUniversal</td>\n",
              "      <td>Beverly Hills, CA</td>\n",
              "      <td>Fandango is seeking a driven, analytically cur...</td>\n",
              "    </tr>\n",
              "    <tr>\n",
              "      <th>...</th>\n",
              "      <td>...</td>\n",
              "      <td>...</td>\n",
              "      <td>...</td>\n",
              "      <td>...</td>\n",
              "    </tr>\n",
              "    <tr>\n",
              "      <th>195</th>\n",
              "      <td>Machine Learning Engineer</td>\n",
              "      <td>Oben</td>\n",
              "      <td>Pasadena, CA</td>\n",
              "      <td>As a member of the machine language translatio...</td>\n",
              "    </tr>\n",
              "    <tr>\n",
              "      <th>196</th>\n",
              "      <td>Sr. Data Analyst</td>\n",
              "      <td>Honk</td>\n",
              "      <td>Los Angeles, CA 90064</td>\n",
              "      <td>HONK is a fast growing technology company disr...</td>\n",
              "    </tr>\n",
              "    <tr>\n",
              "      <th>197</th>\n",
              "      <td>VP, Data Science, Business Intelligence &amp; Data...</td>\n",
              "      <td>NBCUniversal</td>\n",
              "      <td>Universal City, CA</td>\n",
              "      <td>Role Summary:\\nNBC Entertainment Digital is lo...</td>\n",
              "    </tr>\n",
              "    <tr>\n",
              "      <th>198</th>\n",
              "      <td>Data Analyst - Health, Senior</td>\n",
              "      <td>Blue Shield of California</td>\n",
              "      <td>Monterey Park, CA</td>\n",
              "      <td>GENERAL SUMMARY:\\n\\nWe are hiring for a Senior...</td>\n",
              "    </tr>\n",
              "    <tr>\n",
              "      <th>199</th>\n",
              "      <td>Senior Data Analyst</td>\n",
              "      <td>Honey</td>\n",
              "      <td>Los Angeles, CA 90067</td>\n",
              "      <td>Honey is a fast-growing startup based in Los A...</td>\n",
              "    </tr>\n",
              "  </tbody>\n",
              "</table>\n",
              "<p>200 rows × 4 columns</p>\n",
              "</div>"
            ],
            "text/plain": [
              "                                                 title  ...                                    Job_Description\n",
              "0                                       Data Scientist  ...  Deloitte Services LP includes internal support...\n",
              "1                                       Data Scientist  ...  Who we are...\\nAvantStay delivers exceptional,...\n",
              "2                       Data Scientist I - (Part-time)  ...  Must be a US Citizen\\nEstimated duration of 12...\n",
              "3                                       Data Scientist  ...  Company Overview:\\nAge of Learning is a leadin...\n",
              "4                                       Data Scientist  ...  Fandango is seeking a driven, analytically cur...\n",
              "..                                                 ...  ...                                                ...\n",
              "195                          Machine Learning Engineer  ...  As a member of the machine language translatio...\n",
              "196                                   Sr. Data Analyst  ...  HONK is a fast growing technology company disr...\n",
              "197  VP, Data Science, Business Intelligence & Data...  ...  Role Summary:\\nNBC Entertainment Digital is lo...\n",
              "198                      Data Analyst - Health, Senior  ...  GENERAL SUMMARY:\\n\\nWe are hiring for a Senior...\n",
              "199                                Senior Data Analyst  ...  Honey is a fast-growing startup based in Los A...\n",
              "\n",
              "[200 rows x 4 columns]"
            ]
          },
          "metadata": {
            "tags": []
          },
          "execution_count": 3
        }
      ]
    },
    {
      "cell_type": "code",
      "metadata": {
        "colab_type": "code",
        "id": "EaWO6Q-7ym6Y",
        "outputId": "86185fcb-01d8-48e2-beb6-926ae5ca6d7f",
        "colab": {
          "base_uri": "https://localhost:8080/",
          "height": 255
        }
      },
      "source": [
        "python = df.Job_Description.str.contains(r'\\b[Pp][Yy][Tt][Hh][Oo][Nn]\\b').sum()\n",
        "print(python)\n",
        "C_Language = df.Job_Description.str.contains(r'\\b[Cc](?<!\\+)\\b|\\b[Cc](?<!\\#)\\b').sum()\n",
        "print(C_Language)\n",
        "Java = df.Job_Description.str.contains(r'\\b[Jj][Aa][Vv][Aa]\\b').sum()\n",
        "print(Java)\n",
        "Tableau = df.Job_Description.str.contains(r'\\b[Tt][Aa][Bb][Ll][Ee][Aa][Uu]').sum()\n",
        "print(Tableau)\n",
        "AWS = df.Job_Description.str.contains(r'\\b[Aa][Ww][Ss]\\b|\\b[Aa]mazon [Ww]eb [Ss]ervice\\b').sum()\n",
        "print(AWS)\n",
        "Pig = df.Job_Description.str.contains(r'\\b[Pp][Ii][Gg]\\b').sum()\n",
        "print(Pig)\n",
        "Hive = df.Job_Description.str.contains(r'\\b[Hh][Ii][Vv][Ee]\\b').sum()\n",
        "print(Hive)\n",
        "Hadoop = df.Job_Description.str.contains(r'\\b[Hh][Aa][Dd][Oo][Oo][Pp]\\b').sum()\n",
        "print(Hadoop)\n",
        "SQL = df.Job_Description.str.contains(r'[Ss][Qq][Ll]|[Qq]uery [Ll]anguage').sum()\n",
        "print(SQL)\n",
        "R = df.Job_Description.str.contains(r'\\b[Rr]\\b').sum()\n",
        "print(R)\n",
        "C_Plus_Plus = df.Job_Description.str.contains(r'\\b[Cc]\\+{2}').sum()\n",
        "print(C_Plus_Plus)\n",
        "Javascript = df.Job_Description.str.contains(r'\\b[Jj][Aa][Vv][Aa][Ss][Cc][Rr][Ii][Pp][Tt]\\b').sum()\n",
        "print(Javascript)\n",
        "Spark = df.Job_Description.str.contains(r'\\b[Ss][Pp][Aa][Rr][Kk]\\b').sum()\n",
        "print(Spark)\n",
        "total = python + Javascript + C_Plus_Plus + R + SQL + AWS + Java + Pig + Hive + Hadoop + C_Language + Spark + Tableau\n",
        "total"
      ],
      "execution_count": 0,
      "outputs": [
        {
          "output_type": "stream",
          "text": [
            "147\n",
            "40\n",
            "47\n",
            "51\n",
            "32\n",
            "4\n",
            "13\n",
            "33\n",
            "116\n",
            "108\n",
            "32\n",
            "3\n",
            "36\n"
          ],
          "name": "stdout"
        },
        {
          "output_type": "execute_result",
          "data": {
            "text/plain": [
              "662"
            ]
          },
          "metadata": {
            "tags": []
          },
          "execution_count": 4
        }
      ]
    },
    {
      "cell_type": "code",
      "metadata": {
        "colab_type": "code",
        "id": "w6KVk-H62MzJ",
        "colab": {}
      },
      "source": [
        "dataLA = [['Python',python, (python/total)*100],\n",
        "          ['C',C_Language, (C_Language/total)*100],['C++', C_Plus_Plus,(C_Plus_Plus/total)*100],\n",
        "          ['Java',Java,(Java/total)*100],['Tableau',Tableau,(Tableau/total)*100],['Pig',Pig,(Pig/total)*100],\n",
        "          ['Hadoop',Hadoop,(Hadoop/total)*100],['SQL',SQL,(SQL/total)*100],['R',R,(R/total)*100],\n",
        "          ['Javascript',Javascript,(Javascript/total)*100],['Hive',Hive,(Hive/total)*100],['Spark',Spark,(Spark/total)*100],['AWS',AWS,(AWS/total)*100]]"
      ],
      "execution_count": 0,
      "outputs": []
    },
    {
      "cell_type": "code",
      "metadata": {
        "colab_type": "code",
        "id": "Q6lfhQQC2WJ0",
        "outputId": "76b6db6c-18b0-4aa3-f789-feafe21e5fb7",
        "colab": {
          "base_uri": "https://localhost:8080/",
          "height": 452
        }
      },
      "source": [
        "dfLA = pd.DataFrame(dataLA, columns = ['Programming Requirement(LA)', 'Number', 'Percentage']) \n",
        "dfLA"
      ],
      "execution_count": 0,
      "outputs": [
        {
          "output_type": "execute_result",
          "data": {
            "text/html": [
              "<div>\n",
              "<style scoped>\n",
              "    .dataframe tbody tr th:only-of-type {\n",
              "        vertical-align: middle;\n",
              "    }\n",
              "\n",
              "    .dataframe tbody tr th {\n",
              "        vertical-align: top;\n",
              "    }\n",
              "\n",
              "    .dataframe thead th {\n",
              "        text-align: right;\n",
              "    }\n",
              "</style>\n",
              "<table border=\"1\" class=\"dataframe\">\n",
              "  <thead>\n",
              "    <tr style=\"text-align: right;\">\n",
              "      <th></th>\n",
              "      <th>Programming Requirement(LA)</th>\n",
              "      <th>Number</th>\n",
              "      <th>Percentage</th>\n",
              "    </tr>\n",
              "  </thead>\n",
              "  <tbody>\n",
              "    <tr>\n",
              "      <th>0</th>\n",
              "      <td>Python</td>\n",
              "      <td>147</td>\n",
              "      <td>22.205438</td>\n",
              "    </tr>\n",
              "    <tr>\n",
              "      <th>1</th>\n",
              "      <td>C</td>\n",
              "      <td>40</td>\n",
              "      <td>6.042296</td>\n",
              "    </tr>\n",
              "    <tr>\n",
              "      <th>2</th>\n",
              "      <td>C++</td>\n",
              "      <td>32</td>\n",
              "      <td>4.833837</td>\n",
              "    </tr>\n",
              "    <tr>\n",
              "      <th>3</th>\n",
              "      <td>Java</td>\n",
              "      <td>47</td>\n",
              "      <td>7.099698</td>\n",
              "    </tr>\n",
              "    <tr>\n",
              "      <th>4</th>\n",
              "      <td>Tableau</td>\n",
              "      <td>51</td>\n",
              "      <td>7.703927</td>\n",
              "    </tr>\n",
              "    <tr>\n",
              "      <th>5</th>\n",
              "      <td>Pig</td>\n",
              "      <td>4</td>\n",
              "      <td>0.604230</td>\n",
              "    </tr>\n",
              "    <tr>\n",
              "      <th>6</th>\n",
              "      <td>Hadoop</td>\n",
              "      <td>33</td>\n",
              "      <td>4.984894</td>\n",
              "    </tr>\n",
              "    <tr>\n",
              "      <th>7</th>\n",
              "      <td>SQL</td>\n",
              "      <td>116</td>\n",
              "      <td>17.522659</td>\n",
              "    </tr>\n",
              "    <tr>\n",
              "      <th>8</th>\n",
              "      <td>R</td>\n",
              "      <td>108</td>\n",
              "      <td>16.314199</td>\n",
              "    </tr>\n",
              "    <tr>\n",
              "      <th>9</th>\n",
              "      <td>Javascript</td>\n",
              "      <td>3</td>\n",
              "      <td>0.453172</td>\n",
              "    </tr>\n",
              "    <tr>\n",
              "      <th>10</th>\n",
              "      <td>Hive</td>\n",
              "      <td>13</td>\n",
              "      <td>1.963746</td>\n",
              "    </tr>\n",
              "    <tr>\n",
              "      <th>11</th>\n",
              "      <td>Spark</td>\n",
              "      <td>36</td>\n",
              "      <td>5.438066</td>\n",
              "    </tr>\n",
              "    <tr>\n",
              "      <th>12</th>\n",
              "      <td>AWS</td>\n",
              "      <td>32</td>\n",
              "      <td>4.833837</td>\n",
              "    </tr>\n",
              "  </tbody>\n",
              "</table>\n",
              "</div>"
            ],
            "text/plain": [
              "   Programming Requirement(LA)  Number  Percentage\n",
              "0                       Python     147   22.205438\n",
              "1                            C      40    6.042296\n",
              "2                          C++      32    4.833837\n",
              "3                         Java      47    7.099698\n",
              "4                      Tableau      51    7.703927\n",
              "5                          Pig       4    0.604230\n",
              "6                       Hadoop      33    4.984894\n",
              "7                          SQL     116   17.522659\n",
              "8                            R     108   16.314199\n",
              "9                   Javascript       3    0.453172\n",
              "10                        Hive      13    1.963746\n",
              "11                       Spark      36    5.438066\n",
              "12                         AWS      32    4.833837"
            ]
          },
          "metadata": {
            "tags": []
          },
          "execution_count": 6
        }
      ]
    },
    {
      "cell_type": "code",
      "metadata": {
        "colab_type": "code",
        "id": "QigSbezi3byp",
        "outputId": "54aebe09-d259-4b80-d1ee-b0e1d941955a",
        "colab": {
          "base_uri": "https://localhost:8080/",
          "height": 575
        }
      },
      "source": [
        "plot = dfLA.plot.pie(y='Number', \n",
        "                     labels = dfLA['Programming Requirement(LA)'], figsize=(10, 10),\n",
        "                     autopct='%1.1f%%', explode=(0.15, 0, 0, 0, 0,0,0,0,0,0,0,0,0))"
      ],
      "execution_count": 0,
      "outputs": [
        {
          "output_type": "display_data",
          "data": {
            "image/png": "[encoded data removed]",
            "text/plain": [
              "<Figure size 720x720 with 1 Axes>"
            ]
          },
          "metadata": {
            "tags": []
          }
        }
      ]
    },
    {
      "cell_type": "code",
      "metadata": {
        "colab_type": "code",
        "id": "xETmjdDy4OcG",
        "outputId": "54ae215e-21da-4874-e4f7-e5fdd6b22b9d",
        "colab": {
          "base_uri": "https://localhost:8080/",
          "height": 357
        }
      },
      "source": [
        "#San Francisco\n",
        "title = []\n",
        "company = []\n",
        "location = []\n",
        "jd = []\n",
        "url = \"https://www.indeed.com/m/jobs?q=data+scientist&l=San+francisco%2C+ca\"\n",
        "for i in range(20):\n",
        "    \n",
        "    page = urlopen(url)\n",
        "    soup = BeautifulSoup(page, 'lxml')\n",
        "    all_matches = soup.findAll(attrs={'rel':['nofollow']})\n",
        "    for each in all_matches:\n",
        "        jd_url= 'http://www.indeed.com/m/'+each['href']\n",
        "        jd_page =urlopen(jd_url)\n",
        "        jd_soup = BeautifulSoup(jd_page, 'lxml')\n",
        "        jd_desc = jd_soup.findAll(attrs={'id':['desc']})\n",
        "        title.append(jd_soup.body.p.b.font.text)\n",
        "        company.append(jd_desc[0].span.text)\n",
        "        location.append(jd_soup.body.p.span.text)\n",
        "        jd.append(jd_desc[0].text)\n",
        "        \n",
        "    ## Change the pages to Next Page\n",
        "    url_all = soup.findAll(attrs={'rel':['next']})\n",
        "    print(url_all)\n",
        "    url = 'http://www.indeed.com/m/'+ str(url_all[0]['href'])"
      ],
      "execution_count": 0,
      "outputs": [
        {
          "output_type": "stream",
          "text": [
            "[<link href=\"jobs?q=data+scientist&amp;l=San+francisco%2C+ca&amp;start=10\" rel=\"next\"/>]\n",
            "[<link href=\"jobs?q=data+scientist&amp;l=San+francisco%2C+ca&amp;start=20\" rel=\"next\"/>]\n",
            "[<link href=\"jobs?q=data+scientist&amp;l=San+francisco%2C+ca&amp;start=30\" rel=\"next\"/>]\n",
            "[<link href=\"jobs?q=data+scientist&amp;l=San+francisco%2C+ca&amp;start=40\" rel=\"next\"/>]\n",
            "[<link href=\"jobs?q=data+scientist&amp;l=San+francisco%2C+ca&amp;start=50\" rel=\"next\"/>]\n",
            "[<link href=\"jobs?q=data+scientist&amp;l=San+francisco%2C+ca&amp;start=60\" rel=\"next\"/>]\n",
            "[<link href=\"jobs?q=data+scientist&amp;l=San+francisco%2C+ca&amp;start=70\" rel=\"next\"/>]\n",
            "[<link href=\"jobs?q=data+scientist&amp;l=San+francisco%2C+ca&amp;start=80\" rel=\"next\"/>]\n",
            "[<link href=\"jobs?q=data+scientist&amp;l=San+francisco%2C+ca&amp;start=90\" rel=\"next\"/>]\n",
            "[<link href=\"jobs?q=data+scientist&amp;l=San+francisco%2C+ca&amp;start=100\" rel=\"next\"/>]\n",
            "[<link href=\"jobs?q=data+scientist&amp;l=San+francisco%2C+ca&amp;start=110\" rel=\"next\"/>]\n",
            "[<link href=\"jobs?q=data+scientist&amp;l=San+francisco%2C+ca&amp;start=120\" rel=\"next\"/>]\n",
            "[<link href=\"jobs?q=data+scientist&amp;l=San+francisco%2C+ca&amp;start=130\" rel=\"next\"/>]\n",
            "[<link href=\"jobs?q=data+scientist&amp;l=San+francisco%2C+ca&amp;start=140\" rel=\"next\"/>]\n",
            "[<link href=\"jobs?q=data+scientist&amp;l=San+francisco%2C+ca&amp;start=150\" rel=\"next\"/>]\n",
            "[<link href=\"jobs?q=data+scientist&amp;l=San+francisco%2C+ca&amp;start=160\" rel=\"next\"/>]\n",
            "[<link href=\"jobs?q=data+scientist&amp;l=San+francisco%2C+ca&amp;start=170\" rel=\"next\"/>]\n",
            "[<link href=\"jobs?q=data+scientist&amp;l=San+francisco%2C+ca&amp;start=180\" rel=\"next\"/>]\n",
            "[<link href=\"jobs?q=data+scientist&amp;l=San+francisco%2C+ca&amp;start=190\" rel=\"next\"/>]\n",
            "[<link href=\"jobs?q=data+scientist&amp;l=San+francisco%2C+ca&amp;start=200\" rel=\"next\"/>]\n"
          ],
          "name": "stdout"
        }
      ]
    },
    {
      "cell_type": "code",
      "metadata": {
        "colab_type": "code",
        "id": "QojxZ8yo_jKL",
        "outputId": "05ca7c3e-a95f-4b3c-8818-e9b6330cbe97",
        "colab": {
          "base_uri": "https://localhost:8080/",
          "height": 419
        }
      },
      "source": [
        "job = {'title': title,\n",
        "         'company': company,\n",
        "         'location': location,\n",
        "         'Job_Description': jd}\n",
        "dfSF = pd.DataFrame.from_dict(job)\n",
        "dfSF"
      ],
      "execution_count": 0,
      "outputs": [
        {
          "output_type": "execute_result",
          "data": {
            "text/html": [
              "<div>\n",
              "<style scoped>\n",
              "    .dataframe tbody tr th:only-of-type {\n",
              "        vertical-align: middle;\n",
              "    }\n",
              "\n",
              "    .dataframe tbody tr th {\n",
              "        vertical-align: top;\n",
              "    }\n",
              "\n",
              "    .dataframe thead th {\n",
              "        text-align: right;\n",
              "    }\n",
              "</style>\n",
              "<table border=\"1\" class=\"dataframe\">\n",
              "  <thead>\n",
              "    <tr style=\"text-align: right;\">\n",
              "      <th></th>\n",
              "      <th>title</th>\n",
              "      <th>company</th>\n",
              "      <th>location</th>\n",
              "      <th>Job_Description</th>\n",
              "    </tr>\n",
              "  </thead>\n",
              "  <tbody>\n",
              "    <tr>\n",
              "      <th>0</th>\n",
              "      <td>Data Scientist</td>\n",
              "      <td>Blue Owl</td>\n",
              "      <td>San Francisco, CA</td>\n",
              "      <td>A million people a year die in car collisions ...</td>\n",
              "    </tr>\n",
              "    <tr>\n",
              "      <th>1</th>\n",
              "      <td>Data Scientist</td>\n",
              "      <td>States Title Holding</td>\n",
              "      <td>San Francisco, CA</td>\n",
              "      <td>Create the model that transforms how real esta...</td>\n",
              "    </tr>\n",
              "    <tr>\n",
              "      <th>2</th>\n",
              "      <td>Data Scientist (Jr. to Sr. Level)</td>\n",
              "      <td>Zachary Piper Solutions</td>\n",
              "      <td>San Francisco, CA 94107</td>\n",
              "      <td>Piper Companies is currently looking for Data ...</td>\n",
              "    </tr>\n",
              "    <tr>\n",
              "      <th>3</th>\n",
              "      <td>Data Scientist</td>\n",
              "      <td>Gap Inc.</td>\n",
              "      <td>San Francisco, CA</td>\n",
              "      <td>About Gap Inc.\\nOur past is full of iconic mom...</td>\n",
              "    </tr>\n",
              "    <tr>\n",
              "      <th>4</th>\n",
              "      <td>Data Scientist</td>\n",
              "      <td>Spin Electric Scooters</td>\n",
              "      <td>San Francisco, CA</td>\n",
              "      <td>About Spin\\n\\nSpin operates electric scooters ...</td>\n",
              "    </tr>\n",
              "    <tr>\n",
              "      <th>...</th>\n",
              "      <td>...</td>\n",
              "      <td>...</td>\n",
              "      <td>...</td>\n",
              "      <td>...</td>\n",
              "    </tr>\n",
              "    <tr>\n",
              "      <th>195</th>\n",
              "      <td>Data Scientist</td>\n",
              "      <td>Science 37</td>\n",
              "      <td>San Francisco, CA</td>\n",
              "      <td>Science 37 is accelerating the research and de...</td>\n",
              "    </tr>\n",
              "    <tr>\n",
              "      <th>196</th>\n",
              "      <td>Data Scientist, Growth Data Science</td>\n",
              "      <td>Square</td>\n",
              "      <td>San Francisco, CA 94103</td>\n",
              "      <td>Job Description\\n\\nAs a Data Scientist within ...</td>\n",
              "    </tr>\n",
              "    <tr>\n",
              "      <th>197</th>\n",
              "      <td>Senior Data Analyst</td>\n",
              "      <td>Gametime United, Inc.</td>\n",
              "      <td>San Francisco, CA</td>\n",
              "      <td>About Us:\\nLive experiences help people cross ...</td>\n",
              "    </tr>\n",
              "    <tr>\n",
              "      <th>198</th>\n",
              "      <td>Sr. Data Scientist - Content (Seattle)</td>\n",
              "      <td>Branch</td>\n",
              "      <td>Redwood City, CA</td>\n",
              "      <td>The Basics:\\n-----------\\n\\nYou will work with...</td>\n",
              "    </tr>\n",
              "    <tr>\n",
              "      <th>199</th>\n",
              "      <td>Data Science Product Owner</td>\n",
              "      <td>automotiveMastermind Inc.</td>\n",
              "      <td>San Francisco, CA</td>\n",
              "      <td>***********\\n\\nWho we are:\\n***********\\n\\naut...</td>\n",
              "    </tr>\n",
              "  </tbody>\n",
              "</table>\n",
              "<p>200 rows × 4 columns</p>\n",
              "</div>"
            ],
            "text/plain": [
              "                                      title  ...                                    Job_Description\n",
              "0                            Data Scientist  ...  A million people a year die in car collisions ...\n",
              "1                            Data Scientist  ...  Create the model that transforms how real esta...\n",
              "2         Data Scientist (Jr. to Sr. Level)  ...  Piper Companies is currently looking for Data ...\n",
              "3                            Data Scientist  ...  About Gap Inc.\\nOur past is full of iconic mom...\n",
              "4                            Data Scientist  ...  About Spin\\n\\nSpin operates electric scooters ...\n",
              "..                                      ...  ...                                                ...\n",
              "195                          Data Scientist  ...  Science 37 is accelerating the research and de...\n",
              "196     Data Scientist, Growth Data Science  ...  Job Description\\n\\nAs a Data Scientist within ...\n",
              "197                     Senior Data Analyst  ...  About Us:\\nLive experiences help people cross ...\n",
              "198  Sr. Data Scientist - Content (Seattle)  ...  The Basics:\\n-----------\\n\\nYou will work with...\n",
              "199              Data Science Product Owner  ...  ***********\\n\\nWho we are:\\n***********\\n\\naut...\n",
              "\n",
              "[200 rows x 4 columns]"
            ]
          },
          "metadata": {
            "tags": []
          },
          "execution_count": 3
        }
      ]
    },
    {
      "cell_type": "code",
      "metadata": {
        "id": "xXb5Xd0P3Mmv",
        "colab_type": "code",
        "outputId": "e6a9393e-b5e0-4c75-9d5d-e623b6e7e7bf",
        "colab": {
          "base_uri": "https://localhost:8080/",
          "height": 255
        }
      },
      "source": [
        "python = dfSF.Job_Description.str.contains(r'\\b[Pp][Yy][Tt][Hh][Oo][Nn]\\b').sum()\n",
        "print(python)\n",
        "C_Language = dfSF.Job_Description.str.contains(r'\\b[Cc](?<!\\+)\\b|\\b[Cc](?<!\\#)\\b').sum()\n",
        "print(C_Language)\n",
        "Java = dfSF.Job_Description.str.contains(r'\\b[Jj][Aa][Vv][Aa]\\b').sum()\n",
        "print(Java)\n",
        "Tableau = dfSF.Job_Description.str.contains(r'\\b[Tt][Aa][Bb][Ll][Ee][Aa][Uu]').sum()\n",
        "print(Tableau)\n",
        "AWS = dfSF.Job_Description.str.contains(r'\\b[Aa][Ww][Ss]\\b|\\b[Aa]mazon [Ww]eb [Ss]ervice\\b').sum()\n",
        "print(AWS)\n",
        "Pig = dfSF.Job_Description.str.contains(r'\\b[Pp][Ii][Gg]\\b').sum()\n",
        "print(Pig)\n",
        "Hive = dfSF.Job_Description.str.contains(r'\\b[Hh][Ii][Vv][Ee]\\b').sum()\n",
        "print(Hive)\n",
        "Hadoop = dfSF.Job_Description.str.contains(r'\\b[Hh][Aa][Dd][Oo][Oo][Pp]\\b').sum()\n",
        "print(Hadoop)\n",
        "SQL = dfSF.Job_Description.str.contains(r'[Ss][Qq][Ll]|[Qq]uery [Ll]anguage').sum()\n",
        "print(SQL)\n",
        "R = dfSF.Job_Description.str.contains(r'\\b[Rr]\\b').sum()\n",
        "print(R)\n",
        "C_Plus_Plus = dfSF.Job_Description.str.contains(r'\\b[Cc]\\+{2}').sum()\n",
        "print(C_Plus_Plus)\n",
        "Javascript = dfSF.Job_Description.str.contains(r'\\b[Jj][Aa][Vv][Aa][Ss][Cc][Rr][Ii][Pp][Tt]\\b').sum()\n",
        "print(Javascript)\n",
        "Spark = dfSF.Job_Description.str.contains(r'\\b[Ss][Pp][Aa][Rr][Kk]\\b').sum()\n",
        "print(Spark)\n",
        "total = python + Javascript + C_Plus_Plus + R + SQL + AWS + Java + Pig + Hive + Hadoop + C_Language + Spark + Tableau\n",
        "total"
      ],
      "execution_count": 0,
      "outputs": [
        {
          "output_type": "stream",
          "text": [
            "154\n",
            "21\n",
            "27\n",
            "34\n",
            "19\n",
            "6\n",
            "32\n",
            "38\n",
            "119\n",
            "103\n",
            "15\n",
            "5\n",
            "48\n"
          ],
          "name": "stdout"
        },
        {
          "output_type": "execute_result",
          "data": {
            "text/plain": [
              "621"
            ]
          },
          "metadata": {
            "tags": []
          },
          "execution_count": 4
        }
      ]
    },
    {
      "cell_type": "code",
      "metadata": {
        "colab_type": "code",
        "id": "vc5ckdta_6zy",
        "colab": {}
      },
      "source": [
        "dataSF = [['Python',python, (python/total)*100],['C',C_Language, (C_Language/total)*100],['C++', C_Plus_Plus,(C_Plus_Plus/total)*100],['Java',Java,(Java/total)*100],['Tableau',Tableau,(Tableau/total)*100],['Pig',Pig,(Pig/total)*100],['Hadoop',Hadoop,(Hadoop/total)*100],['SQL',SQL,(SQL/total)*100],['R',R,(R/total)*100],['Javascript',Javascript,(Javascript/total)*100],['Hive',Hive,(Hive/total)*100],['Spark',Spark,(Spark/total)*100],['AWS',AWS,(AWS/total)*100]]"
      ],
      "execution_count": 0,
      "outputs": []
    },
    {
      "cell_type": "code",
      "metadata": {
        "colab_type": "code",
        "id": "7S1iJeWCAej2",
        "outputId": "4452c5df-0124-45a2-da09-b9d9f55f89a0",
        "colab": {
          "base_uri": "https://localhost:8080/",
          "height": 452
        }
      },
      "source": [
        "dfSF = pd.DataFrame(dataSF, columns = ['Programming Requirement(SF)', 'Number', 'Percentage']) \n",
        "dfSF"
      ],
      "execution_count": 0,
      "outputs": [
        {
          "output_type": "execute_result",
          "data": {
            "text/html": [
              "<div>\n",
              "<style scoped>\n",
              "    .dataframe tbody tr th:only-of-type {\n",
              "        vertical-align: middle;\n",
              "    }\n",
              "\n",
              "    .dataframe tbody tr th {\n",
              "        vertical-align: top;\n",
              "    }\n",
              "\n",
              "    .dataframe thead th {\n",
              "        text-align: right;\n",
              "    }\n",
              "</style>\n",
              "<table border=\"1\" class=\"dataframe\">\n",
              "  <thead>\n",
              "    <tr style=\"text-align: right;\">\n",
              "      <th></th>\n",
              "      <th>Programming Requirement(SF)</th>\n",
              "      <th>Number</th>\n",
              "      <th>Percentage</th>\n",
              "    </tr>\n",
              "  </thead>\n",
              "  <tbody>\n",
              "    <tr>\n",
              "      <th>0</th>\n",
              "      <td>Python</td>\n",
              "      <td>154</td>\n",
              "      <td>24.798712</td>\n",
              "    </tr>\n",
              "    <tr>\n",
              "      <th>1</th>\n",
              "      <td>C</td>\n",
              "      <td>21</td>\n",
              "      <td>3.381643</td>\n",
              "    </tr>\n",
              "    <tr>\n",
              "      <th>2</th>\n",
              "      <td>C++</td>\n",
              "      <td>15</td>\n",
              "      <td>2.415459</td>\n",
              "    </tr>\n",
              "    <tr>\n",
              "      <th>3</th>\n",
              "      <td>Java</td>\n",
              "      <td>27</td>\n",
              "      <td>4.347826</td>\n",
              "    </tr>\n",
              "    <tr>\n",
              "      <th>4</th>\n",
              "      <td>Tableau</td>\n",
              "      <td>34</td>\n",
              "      <td>5.475040</td>\n",
              "    </tr>\n",
              "    <tr>\n",
              "      <th>5</th>\n",
              "      <td>Pig</td>\n",
              "      <td>6</td>\n",
              "      <td>0.966184</td>\n",
              "    </tr>\n",
              "    <tr>\n",
              "      <th>6</th>\n",
              "      <td>Hadoop</td>\n",
              "      <td>38</td>\n",
              "      <td>6.119163</td>\n",
              "    </tr>\n",
              "    <tr>\n",
              "      <th>7</th>\n",
              "      <td>SQL</td>\n",
              "      <td>119</td>\n",
              "      <td>19.162641</td>\n",
              "    </tr>\n",
              "    <tr>\n",
              "      <th>8</th>\n",
              "      <td>R</td>\n",
              "      <td>103</td>\n",
              "      <td>16.586151</td>\n",
              "    </tr>\n",
              "    <tr>\n",
              "      <th>9</th>\n",
              "      <td>Javascript</td>\n",
              "      <td>5</td>\n",
              "      <td>0.805153</td>\n",
              "    </tr>\n",
              "    <tr>\n",
              "      <th>10</th>\n",
              "      <td>Hive</td>\n",
              "      <td>32</td>\n",
              "      <td>5.152979</td>\n",
              "    </tr>\n",
              "    <tr>\n",
              "      <th>11</th>\n",
              "      <td>Spark</td>\n",
              "      <td>48</td>\n",
              "      <td>7.729469</td>\n",
              "    </tr>\n",
              "    <tr>\n",
              "      <th>12</th>\n",
              "      <td>AWS</td>\n",
              "      <td>19</td>\n",
              "      <td>3.059581</td>\n",
              "    </tr>\n",
              "  </tbody>\n",
              "</table>\n",
              "</div>"
            ],
            "text/plain": [
              "   Programming Requirement(SF)  Number  Percentage\n",
              "0                       Python     154   24.798712\n",
              "1                            C      21    3.381643\n",
              "2                          C++      15    2.415459\n",
              "3                         Java      27    4.347826\n",
              "4                      Tableau      34    5.475040\n",
              "5                          Pig       6    0.966184\n",
              "6                       Hadoop      38    6.119163\n",
              "7                          SQL     119   19.162641\n",
              "8                            R     103   16.586151\n",
              "9                   Javascript       5    0.805153\n",
              "10                        Hive      32    5.152979\n",
              "11                       Spark      48    7.729469\n",
              "12                         AWS      19    3.059581"
            ]
          },
          "metadata": {
            "tags": []
          },
          "execution_count": 6
        }
      ]
    },
    {
      "cell_type": "code",
      "metadata": {
        "colab_type": "code",
        "id": "wDt6IwCzAlRy",
        "outputId": "c472efb1-6d2f-417b-c9f7-677f8faf779c",
        "colab": {
          "base_uri": "https://localhost:8080/",
          "height": 575
        }
      },
      "source": [
        "plot = dfSF.plot.pie(y='Number', labels = dfSF['Programming Requirement(SF)'], \n",
        "                     figsize=(10, 10),autopct='%1.1f%%',explode=(0.15, 0, 0, 0, 0,0,0,0,0,0,0,0,0))"
      ],
      "execution_count": 0,
      "outputs": [
        {
          "output_type": "display_data",
          "data": {
            "image/png": "[encoded data removed]",
            "text/plain": [
              "<Figure size 720x720 with 1 Axes>"
            ]
          },
          "metadata": {
            "tags": []
          }
        }
      ]
    },
    {
      "cell_type": "code",
      "metadata": {
        "colab_type": "code",
        "id": "TmHGyCcAEbvc",
        "outputId": "be82f314-7d02-4227-fa21-47adeffa98da",
        "colab": {
          "base_uri": "https://localhost:8080/",
          "height": 357
        }
      },
      "source": [
        "#New York\n",
        "title = []\n",
        "company = []\n",
        "location = []\n",
        "jd = []\n",
        "url = \"https://www.indeed.com/m/jobs?q=data+scientist&l=New+York\"\n",
        "for i in range(20):\n",
        "    \n",
        "    page = urlopen(url)\n",
        "    soup = BeautifulSoup(page, 'lxml')\n",
        "    all_matches = soup.findAll(attrs={'rel':['nofollow']})\n",
        "    for each in all_matches:\n",
        "        jd_url= 'http://www.indeed.com/m/'+each['href']\n",
        "        jd_page =urlopen(jd_url)\n",
        "        jd_soup = BeautifulSoup(jd_page, 'lxml')\n",
        "        jd_desc = jd_soup.findAll(attrs={'id':['desc']})\n",
        "        title.append(jd_soup.body.p.b.font.text)\n",
        "        company.append(jd_desc[0].span.text)\n",
        "        location.append(jd_soup.body.p.span.text)\n",
        "        jd.append(jd_desc[0].text)\n",
        "        \n",
        "    ## Change the pages to Next Page\n",
        "    url_all = soup.findAll(attrs={'rel':['next']})\n",
        "    print(url_all)\n",
        "    url = 'http://www.indeed.com/m/'+ str(url_all[0]['href'])"
      ],
      "execution_count": 0,
      "outputs": [
        {
          "output_type": "stream",
          "text": [
            "[<link href=\"jobs?q=data+scientist&amp;l=New+York&amp;start=10\" rel=\"next\"/>]\n",
            "[<link href=\"jobs?q=data+scientist&amp;l=New+York&amp;start=20\" rel=\"next\"/>]\n",
            "[<link href=\"jobs?q=data+scientist&amp;l=New+York&amp;start=30\" rel=\"next\"/>]\n",
            "[<link href=\"jobs?q=data+scientist&amp;l=New+York&amp;start=40\" rel=\"next\"/>]\n",
            "[<link href=\"jobs?q=data+scientist&amp;l=New+York&amp;start=50\" rel=\"next\"/>]\n",
            "[<link href=\"jobs?q=data+scientist&amp;l=New+York&amp;start=60\" rel=\"next\"/>]\n",
            "[<link href=\"jobs?q=data+scientist&amp;l=New+York&amp;start=70\" rel=\"next\"/>]\n",
            "[<link href=\"jobs?q=data+scientist&amp;l=New+York&amp;start=80\" rel=\"next\"/>]\n",
            "[<link href=\"jobs?q=data+scientist&amp;l=New+York&amp;start=90\" rel=\"next\"/>]\n",
            "[<link href=\"jobs?q=data+scientist&amp;l=New+York&amp;start=100\" rel=\"next\"/>]\n",
            "[<link href=\"jobs?q=data+scientist&amp;l=New+York&amp;start=110\" rel=\"next\"/>]\n",
            "[<link href=\"jobs?q=data+scientist&amp;l=New+York&amp;start=120\" rel=\"next\"/>]\n",
            "[<link href=\"jobs?q=data+scientist&amp;l=New+York&amp;start=130\" rel=\"next\"/>]\n",
            "[<link href=\"jobs?q=data+scientist&amp;l=New+York&amp;start=140\" rel=\"next\"/>]\n",
            "[<link href=\"jobs?q=data+scientist&amp;l=New+York&amp;start=150\" rel=\"next\"/>]\n",
            "[<link href=\"jobs?q=data+scientist&amp;l=New+York&amp;start=160\" rel=\"next\"/>]\n",
            "[<link href=\"jobs?q=data+scientist&amp;l=New+York&amp;start=170\" rel=\"next\"/>]\n",
            "[<link href=\"jobs?q=data+scientist&amp;l=New+York&amp;start=180\" rel=\"next\"/>]\n",
            "[<link href=\"jobs?q=data+scientist&amp;l=New+York&amp;start=190\" rel=\"next\"/>]\n",
            "[<link href=\"jobs?q=data+scientist&amp;l=New+York&amp;start=200\" rel=\"next\"/>]\n"
          ],
          "name": "stdout"
        }
      ]
    },
    {
      "cell_type": "code",
      "metadata": {
        "colab_type": "code",
        "id": "H2Xm6BquFARj",
        "outputId": "7cef9f9f-b2d0-43c5-cd8b-f504112fb140",
        "colab": {
          "base_uri": "https://localhost:8080/",
          "height": 419
        }
      },
      "source": [
        "job = {'title': title,\n",
        "         'company': company,\n",
        "         'location': location,\n",
        "         'Job_Description': jd}\n",
        "dfNY = pd.DataFrame.from_dict(job)\n",
        "dfNY"
      ],
      "execution_count": 0,
      "outputs": [
        {
          "output_type": "execute_result",
          "data": {
            "text/html": [
              "<div>\n",
              "<style scoped>\n",
              "    .dataframe tbody tr th:only-of-type {\n",
              "        vertical-align: middle;\n",
              "    }\n",
              "\n",
              "    .dataframe tbody tr th {\n",
              "        vertical-align: top;\n",
              "    }\n",
              "\n",
              "    .dataframe thead th {\n",
              "        text-align: right;\n",
              "    }\n",
              "</style>\n",
              "<table border=\"1\" class=\"dataframe\">\n",
              "  <thead>\n",
              "    <tr style=\"text-align: right;\">\n",
              "      <th></th>\n",
              "      <th>title</th>\n",
              "      <th>company</th>\n",
              "      <th>location</th>\n",
              "      <th>Job_Description</th>\n",
              "    </tr>\n",
              "  </thead>\n",
              "  <tbody>\n",
              "    <tr>\n",
              "      <th>0</th>\n",
              "      <td>Junior Data Scientist Apprenticeship</td>\n",
              "      <td>IBM</td>\n",
              "      <td>New York, NY 10002</td>\n",
              "      <td>In the Information Age, data is the most valua...</td>\n",
              "    </tr>\n",
              "    <tr>\n",
              "      <th>1</th>\n",
              "      <td>Data Scientist</td>\n",
              "      <td>13 days ago</td>\n",
              "      <td>New York, NY</td>\n",
              "      <td>Job Summary10+ years of experience in relevant...</td>\n",
              "    </tr>\n",
              "    <tr>\n",
              "      <th>2</th>\n",
              "      <td>Jr. Data Scientist</td>\n",
              "      <td>18 days ago</td>\n",
              "      <td>New York, NY</td>\n",
              "      <td>Job Title : Jr. Data ScientistJob Location : N...</td>\n",
              "    </tr>\n",
              "    <tr>\n",
              "      <th>3</th>\n",
              "      <td>Part Time Data Scientist (Geospatial)</td>\n",
              "      <td>22 hours ago</td>\n",
              "      <td>Bronx, NY 10453</td>\n",
              "      <td>Job Description: The BCC Geospatial Center of ...</td>\n",
              "    </tr>\n",
              "    <tr>\n",
              "      <th>4</th>\n",
              "      <td>Data Scientist</td>\n",
              "      <td>Source Enterprises</td>\n",
              "      <td>New York, NY</td>\n",
              "      <td>Source Systems is now inviting the brightest, ...</td>\n",
              "    </tr>\n",
              "    <tr>\n",
              "      <th>...</th>\n",
              "      <td>...</td>\n",
              "      <td>...</td>\n",
              "      <td>...</td>\n",
              "      <td>...</td>\n",
              "    </tr>\n",
              "    <tr>\n",
              "      <th>195</th>\n",
              "      <td>Vice President of Data Science</td>\n",
              "      <td>Teladoc Health</td>\n",
              "      <td>New York, NY</td>\n",
              "      <td>Mission to Our Employees:\\nTeladoc Health is t...</td>\n",
              "    </tr>\n",
              "    <tr>\n",
              "      <th>196</th>\n",
              "      <td>Staff ML Engineer - Applied Modeling - Cortex</td>\n",
              "      <td>Twitter</td>\n",
              "      <td>New York, NY</td>\n",
              "      <td>Who We Are:\\n\\nTwitter is your window into Wha...</td>\n",
              "    </tr>\n",
              "    <tr>\n",
              "      <th>197</th>\n",
              "      <td>Data Science Analyst</td>\n",
              "      <td>PepsiCo</td>\n",
              "      <td>Purchase, NY</td>\n",
              "      <td>Summary of position:\\nDo you want to be a pion...</td>\n",
              "    </tr>\n",
              "    <tr>\n",
              "      <th>198</th>\n",
              "      <td>Data Scientist</td>\n",
              "      <td>30+ days ago</td>\n",
              "      <td>Buffalo, NY 14202</td>\n",
              "      <td>Summary: The Data Scientist is responsible for...</td>\n",
              "    </tr>\n",
              "    <tr>\n",
              "      <th>199</th>\n",
              "      <td>Sr. Data Scientist / Data Scientist</td>\n",
              "      <td>BuzzFeed</td>\n",
              "      <td>New York, NY 10013</td>\n",
              "      <td>BuzzFeed is looking for extraordinary data sci...</td>\n",
              "    </tr>\n",
              "  </tbody>\n",
              "</table>\n",
              "<p>200 rows × 4 columns</p>\n",
              "</div>"
            ],
            "text/plain": [
              "                                             title  ...                                    Job_Description\n",
              "0             Junior Data Scientist Apprenticeship  ...  In the Information Age, data is the most valua...\n",
              "1                                   Data Scientist  ...  Job Summary10+ years of experience in relevant...\n",
              "2                               Jr. Data Scientist  ...  Job Title : Jr. Data ScientistJob Location : N...\n",
              "3            Part Time Data Scientist (Geospatial)  ...  Job Description: The BCC Geospatial Center of ...\n",
              "4                                   Data Scientist  ...  Source Systems is now inviting the brightest, ...\n",
              "..                                             ...  ...                                                ...\n",
              "195                 Vice President of Data Science  ...  Mission to Our Employees:\\nTeladoc Health is t...\n",
              "196  Staff ML Engineer - Applied Modeling - Cortex  ...  Who We Are:\\n\\nTwitter is your window into Wha...\n",
              "197                           Data Science Analyst  ...  Summary of position:\\nDo you want to be a pion...\n",
              "198                                 Data Scientist  ...  Summary: The Data Scientist is responsible for...\n",
              "199            Sr. Data Scientist / Data Scientist  ...  BuzzFeed is looking for extraordinary data sci...\n",
              "\n",
              "[200 rows x 4 columns]"
            ]
          },
          "metadata": {
            "tags": []
          },
          "execution_count": 9
        }
      ]
    },
    {
      "cell_type": "code",
      "metadata": {
        "id": "aQ2xTt8n3p65",
        "colab_type": "code",
        "outputId": "6807766f-4ae2-4b05-b0c8-ab3b9e1a46c7",
        "colab": {
          "base_uri": "https://localhost:8080/",
          "height": 255
        }
      },
      "source": [
        "python = dfNY.Job_Description.str.contains(r'\\b[Pp][Yy][Tt][Hh][Oo][Nn]\\b').sum()\n",
        "print(python)\n",
        "C_Language = dfNY.Job_Description.str.contains(r'\\b[Cc](?<!\\+)\\b|\\b[Cc](?<!\\#)\\b').sum()\n",
        "print(C_Language)\n",
        "Java = dfNY.Job_Description.str.contains(r'\\b[Jj][Aa][Vv][Aa]\\b').sum()\n",
        "print(Java)\n",
        "Tableau = dfNY.Job_Description.str.contains(r'\\b[Tt][Aa][Bb][Ll][Ee][Aa][Uu]').sum()\n",
        "print(Tableau)\n",
        "AWS = dfNY.Job_Description.str.contains(r'\\b[Aa][Ww][Ss]\\b|\\b[Aa]mazon [Ww]eb [Ss]ervice\\b').sum()\n",
        "print(AWS)\n",
        "Pig = dfNY.Job_Description.str.contains(r'\\b[Pp][Ii][Gg]\\b').sum()\n",
        "print(Pig)\n",
        "Hive = dfNY.Job_Description.str.contains(r'\\b[Hh][Ii][Vv][Ee]\\b').sum()\n",
        "print(Hive)\n",
        "Hadoop = dfNY.Job_Description.str.contains(r'\\b[Hh][Aa][Dd][Oo][Oo][Pp]\\b').sum()\n",
        "print(Hadoop)\n",
        "SQL = dfNY.Job_Description.str.contains(r'[Ss][Qq][Ll]|[Qq]uery [Ll]anguage').sum()\n",
        "print(SQL)\n",
        "R = dfNY.Job_Description.str.contains(r'\\b[Rr]\\b').sum()\n",
        "print(R)\n",
        "C_Plus_Plus = dfNY.Job_Description.str.contains(r'\\b[Cc]\\+{2}').sum()\n",
        "print(C_Plus_Plus)\n",
        "Javascript = dfNY.Job_Description.str.contains(r'\\b[Jj][Aa][Vv][Aa][Ss][Cc][Rr][Ii][Pp][Tt]\\b').sum()\n",
        "print(Javascript)\n",
        "Spark = dfNY.Job_Description.str.contains(r'\\b[Ss][Pp][Aa][Rr][Kk]\\b').sum()\n",
        "print(Spark)\n",
        "total = python + Javascript + C_Plus_Plus + R + SQL + AWS + Java + Pig + Hive + Hadoop + C_Language + Spark + Tableau\n",
        "total"
      ],
      "execution_count": 0,
      "outputs": [
        {
          "output_type": "stream",
          "text": [
            "163\n",
            "15\n",
            "44\n",
            "42\n",
            "17\n",
            "6\n",
            "30\n",
            "43\n",
            "130\n",
            "116\n",
            "11\n",
            "10\n",
            "51\n"
          ],
          "name": "stdout"
        },
        {
          "output_type": "execute_result",
          "data": {
            "text/plain": [
              "678"
            ]
          },
          "metadata": {
            "tags": []
          },
          "execution_count": 10
        }
      ]
    },
    {
      "cell_type": "code",
      "metadata": {
        "colab_type": "code",
        "id": "AIuB7RYaFYty",
        "colab": {}
      },
      "source": [
        "dataNY = [['Python',python, (python/total)*100],\n",
        "          ['C',C_Language, (C_Language/total)*100],['C++', C_Plus_Plus,(C_Plus_Plus/total)*100],['Java',Java,(Java/total)*100],[\n",
        "              'Tableau',Tableau,(Tableau/total)*100],['Pig',Pig,(Pig/total)*100],['Hadoop',Hadoop,(Hadoop/total)*100],\n",
        "          ['SQL',SQL,(SQL/total)*100],['R',R,(R/total)*100],['Javascript',Javascript,(Javascript/total)*100],['Hive',Hive,(Hive/total)*100],\n",
        "          ['Spark',Spark,(Spark/total)*100],['AWS',AWS,(AWS/total)*100]]"
      ],
      "execution_count": 0,
      "outputs": []
    },
    {
      "cell_type": "code",
      "metadata": {
        "colab_type": "code",
        "id": "9p-qL64YFcTV",
        "outputId": "c44ea562-e78f-4af9-a185-5d8247a17dd3",
        "colab": {
          "base_uri": "https://localhost:8080/",
          "height": 452
        }
      },
      "source": [
        "dfNY = pd.DataFrame(dataNY, columns = ['Programming Requirement(NY)', 'Number', 'Percentage']) \n",
        "dfNY"
      ],
      "execution_count": 0,
      "outputs": [
        {
          "output_type": "execute_result",
          "data": {
            "text/html": [
              "<div>\n",
              "<style scoped>\n",
              "    .dataframe tbody tr th:only-of-type {\n",
              "        vertical-align: middle;\n",
              "    }\n",
              "\n",
              "    .dataframe tbody tr th {\n",
              "        vertical-align: top;\n",
              "    }\n",
              "\n",
              "    .dataframe thead th {\n",
              "        text-align: right;\n",
              "    }\n",
              "</style>\n",
              "<table border=\"1\" class=\"dataframe\">\n",
              "  <thead>\n",
              "    <tr style=\"text-align: right;\">\n",
              "      <th></th>\n",
              "      <th>Programming Requirement(NY)</th>\n",
              "      <th>Number</th>\n",
              "      <th>Percentage</th>\n",
              "    </tr>\n",
              "  </thead>\n",
              "  <tbody>\n",
              "    <tr>\n",
              "      <th>0</th>\n",
              "      <td>Python</td>\n",
              "      <td>163</td>\n",
              "      <td>24.041298</td>\n",
              "    </tr>\n",
              "    <tr>\n",
              "      <th>1</th>\n",
              "      <td>C</td>\n",
              "      <td>15</td>\n",
              "      <td>2.212389</td>\n",
              "    </tr>\n",
              "    <tr>\n",
              "      <th>2</th>\n",
              "      <td>C++</td>\n",
              "      <td>11</td>\n",
              "      <td>1.622419</td>\n",
              "    </tr>\n",
              "    <tr>\n",
              "      <th>3</th>\n",
              "      <td>Java</td>\n",
              "      <td>44</td>\n",
              "      <td>6.489676</td>\n",
              "    </tr>\n",
              "    <tr>\n",
              "      <th>4</th>\n",
              "      <td>Tableau</td>\n",
              "      <td>42</td>\n",
              "      <td>6.194690</td>\n",
              "    </tr>\n",
              "    <tr>\n",
              "      <th>5</th>\n",
              "      <td>Pig</td>\n",
              "      <td>6</td>\n",
              "      <td>0.884956</td>\n",
              "    </tr>\n",
              "    <tr>\n",
              "      <th>6</th>\n",
              "      <td>Hadoop</td>\n",
              "      <td>43</td>\n",
              "      <td>6.342183</td>\n",
              "    </tr>\n",
              "    <tr>\n",
              "      <th>7</th>\n",
              "      <td>SQL</td>\n",
              "      <td>130</td>\n",
              "      <td>19.174041</td>\n",
              "    </tr>\n",
              "    <tr>\n",
              "      <th>8</th>\n",
              "      <td>R</td>\n",
              "      <td>116</td>\n",
              "      <td>17.109145</td>\n",
              "    </tr>\n",
              "    <tr>\n",
              "      <th>9</th>\n",
              "      <td>Javascript</td>\n",
              "      <td>10</td>\n",
              "      <td>1.474926</td>\n",
              "    </tr>\n",
              "    <tr>\n",
              "      <th>10</th>\n",
              "      <td>Hive</td>\n",
              "      <td>30</td>\n",
              "      <td>4.424779</td>\n",
              "    </tr>\n",
              "    <tr>\n",
              "      <th>11</th>\n",
              "      <td>Spark</td>\n",
              "      <td>51</td>\n",
              "      <td>7.522124</td>\n",
              "    </tr>\n",
              "    <tr>\n",
              "      <th>12</th>\n",
              "      <td>AWS</td>\n",
              "      <td>17</td>\n",
              "      <td>2.507375</td>\n",
              "    </tr>\n",
              "  </tbody>\n",
              "</table>\n",
              "</div>"
            ],
            "text/plain": [
              "   Programming Requirement(NY)  Number  Percentage\n",
              "0                       Python     163   24.041298\n",
              "1                            C      15    2.212389\n",
              "2                          C++      11    1.622419\n",
              "3                         Java      44    6.489676\n",
              "4                      Tableau      42    6.194690\n",
              "5                          Pig       6    0.884956\n",
              "6                       Hadoop      43    6.342183\n",
              "7                          SQL     130   19.174041\n",
              "8                            R     116   17.109145\n",
              "9                   Javascript      10    1.474926\n",
              "10                        Hive      30    4.424779\n",
              "11                       Spark      51    7.522124\n",
              "12                         AWS      17    2.507375"
            ]
          },
          "metadata": {
            "tags": []
          },
          "execution_count": 12
        }
      ]
    },
    {
      "cell_type": "code",
      "metadata": {
        "colab_type": "code",
        "id": "EZvuQuNdFigH",
        "outputId": "5598d725-4c94-43b4-880a-6a6f6919d8d0",
        "colab": {
          "base_uri": "https://localhost:8080/",
          "height": 575
        }
      },
      "source": [
        "plot = dfNY.plot.pie(y='Number', labels = dfNY['Programming Requirement(NY)'], \n",
        "                     figsize=(10, 10),autopct='%1.1f%%',explode=(0.15, 0, 0, 0, 0,0,0,0,0,0,0,0,0))"
      ],
      "execution_count": 0,
      "outputs": [
        {
          "output_type": "display_data",
          "data": {
            "image/png": "[encoded data removed]",
            "text/plain": [
              "<Figure size 720x720 with 1 Axes>"
            ]
          },
          "metadata": {
            "tags": []
          }
        }
      ]
    },
    {
      "cell_type": "code",
      "metadata": {
        "colab_type": "code",
        "id": "prvidp27Fm8e",
        "outputId": "a7b8d9ee-56be-40ff-c6b8-06419409d28f",
        "colab": {
          "base_uri": "https://localhost:8080/",
          "height": 357
        }
      },
      "source": [
        "#Boston\n",
        "title = []\n",
        "company = []\n",
        "location = []\n",
        "jd = []\n",
        "url = \"https://www.indeed.com/m/jobs?q=data+scientist&l=Boston\"\n",
        "for i in range(20):\n",
        "    \n",
        "    page = urlopen(url)\n",
        "    soup = BeautifulSoup(page, 'lxml')\n",
        "    all_matches = soup.findAll(attrs={'rel':['nofollow']})\n",
        "    for each in all_matches:\n",
        "        jd_url= 'http://www.indeed.com/m/'+each['href']\n",
        "        jd_page =urlopen(jd_url)\n",
        "        jd_soup = BeautifulSoup(jd_page, 'lxml')\n",
        "        jd_desc = jd_soup.findAll(attrs={'id':['desc']})\n",
        "        title.append(jd_soup.body.p.b.font.text)\n",
        "        company.append(jd_desc[0].span.text)\n",
        "        location.append(jd_soup.body.p.span.text)\n",
        "        jd.append(jd_desc[0].text)\n",
        "        \n",
        "    ## Change the pages to Next Page\n",
        "    url_all = soup.findAll(attrs={'rel':['next']})\n",
        "    print(url_all)\n",
        "    url = 'http://www.indeed.com/m/'+ str(url_all[0]['href'])"
      ],
      "execution_count": 0,
      "outputs": [
        {
          "output_type": "stream",
          "text": [
            "[<link href=\"jobs?q=data+scientist&amp;l=Boston&amp;start=10\" rel=\"next\"/>]\n",
            "[<link href=\"jobs?q=data+scientist&amp;l=Boston&amp;start=20\" rel=\"next\"/>]\n",
            "[<link href=\"jobs?q=data+scientist&amp;l=Boston&amp;start=30\" rel=\"next\"/>]\n",
            "[<link href=\"jobs?q=data+scientist&amp;l=Boston&amp;start=40\" rel=\"next\"/>]\n",
            "[<link href=\"jobs?q=data+scientist&amp;l=Boston&amp;start=50\" rel=\"next\"/>]\n",
            "[<link href=\"jobs?q=data+scientist&amp;l=Boston&amp;start=60\" rel=\"next\"/>]\n",
            "[<link href=\"jobs?q=data+scientist&amp;l=Boston&amp;start=70\" rel=\"next\"/>]\n",
            "[<link href=\"jobs?q=data+scientist&amp;l=Boston&amp;start=80\" rel=\"next\"/>]\n",
            "[<link href=\"jobs?q=data+scientist&amp;l=Boston&amp;start=90\" rel=\"next\"/>]\n",
            "[<link href=\"jobs?q=data+scientist&amp;l=Boston&amp;start=100\" rel=\"next\"/>]\n",
            "[<link href=\"jobs?q=data+scientist&amp;l=Boston&amp;start=110\" rel=\"next\"/>]\n",
            "[<link href=\"jobs?q=data+scientist&amp;l=Boston&amp;start=120\" rel=\"next\"/>]\n",
            "[<link href=\"jobs?q=data+scientist&amp;l=Boston&amp;start=130\" rel=\"next\"/>]\n",
            "[<link href=\"jobs?q=data+scientist&amp;l=Boston&amp;start=140\" rel=\"next\"/>]\n",
            "[<link href=\"jobs?q=data+scientist&amp;l=Boston&amp;start=150\" rel=\"next\"/>]\n",
            "[<link href=\"jobs?q=data+scientist&amp;l=Boston&amp;start=160\" rel=\"next\"/>]\n",
            "[<link href=\"jobs?q=data+scientist&amp;l=Boston&amp;start=170\" rel=\"next\"/>]\n",
            "[<link href=\"jobs?q=data+scientist&amp;l=Boston&amp;start=180\" rel=\"next\"/>]\n",
            "[<link href=\"jobs?q=data+scientist&amp;l=Boston&amp;start=190\" rel=\"next\"/>]\n",
            "[<link href=\"jobs?q=data+scientist&amp;l=Boston&amp;start=200\" rel=\"next\"/>]\n"
          ],
          "name": "stdout"
        }
      ]
    },
    {
      "cell_type": "code",
      "metadata": {
        "colab_type": "code",
        "id": "fY06_-60Fzxx",
        "outputId": "a4ac7d43-47e3-4df2-8469-661599bbab83",
        "colab": {
          "base_uri": "https://localhost:8080/",
          "height": 419
        }
      },
      "source": [
        "job = {'title': title,\n",
        "         'company': company,\n",
        "         'location': location,\n",
        "         'Job_Description': jd}\n",
        "dfBO = pd.DataFrame.from_dict(job)\n",
        "dfBO"
      ],
      "execution_count": 0,
      "outputs": [
        {
          "output_type": "execute_result",
          "data": {
            "text/html": [
              "<div>\n",
              "<style scoped>\n",
              "    .dataframe tbody tr th:only-of-type {\n",
              "        vertical-align: middle;\n",
              "    }\n",
              "\n",
              "    .dataframe tbody tr th {\n",
              "        vertical-align: top;\n",
              "    }\n",
              "\n",
              "    .dataframe thead th {\n",
              "        text-align: right;\n",
              "    }\n",
              "</style>\n",
              "<table border=\"1\" class=\"dataframe\">\n",
              "  <thead>\n",
              "    <tr style=\"text-align: right;\">\n",
              "      <th></th>\n",
              "      <th>title</th>\n",
              "      <th>company</th>\n",
              "      <th>location</th>\n",
              "      <th>Job_Description</th>\n",
              "    </tr>\n",
              "  </thead>\n",
              "  <tbody>\n",
              "    <tr>\n",
              "      <th>0</th>\n",
              "      <td>Data Scientist (Full-Time)</td>\n",
              "      <td>30+ days ago</td>\n",
              "      <td>Boston, MA</td>\n",
              "      <td>Notes: To apply for this position, please fill...</td>\n",
              "    </tr>\n",
              "    <tr>\n",
              "      <th>1</th>\n",
              "      <td>GIS Specialist (Data Scientist)</td>\n",
              "      <td>usajobs.gov</td>\n",
              "      <td>Cambridge, MA</td>\n",
              "      <td>Duties\\nSummary\\nThe Volpe Center seeks GIS Sp...</td>\n",
              "    </tr>\n",
              "    <tr>\n",
              "      <th>2</th>\n",
              "      <td>Solaria Labs Data Science Coop</td>\n",
              "      <td>Liberty Mutual</td>\n",
              "      <td>Boston, MA 02101</td>\n",
              "      <td>Who we are:\\n\\nSolaria Labs was created by Lib...</td>\n",
              "    </tr>\n",
              "    <tr>\n",
              "      <th>3</th>\n",
              "      <td>Data Scientist</td>\n",
              "      <td>usajobs.gov</td>\n",
              "      <td>Cambridge, MA</td>\n",
              "      <td>Duties\\nSummary\\nThe Volpe Center seeks Data S...</td>\n",
              "    </tr>\n",
              "    <tr>\n",
              "      <th>4</th>\n",
              "      <td>Data Scientist (PhD)</td>\n",
              "      <td>6 hours ago</td>\n",
              "      <td>Boston, MA</td>\n",
              "      <td>ProPhDs is seeking a Machine Learning Scientis...</td>\n",
              "    </tr>\n",
              "    <tr>\n",
              "      <th>...</th>\n",
              "      <td>...</td>\n",
              "      <td>...</td>\n",
              "      <td>...</td>\n",
              "      <td>...</td>\n",
              "    </tr>\n",
              "    <tr>\n",
              "      <th>195</th>\n",
              "      <td>2020 Data Science Graduate Intern</td>\n",
              "      <td>Merck</td>\n",
              "      <td>Boston, MA</td>\n",
              "      <td>Job Description\\nThe Future Talent Program fea...</td>\n",
              "    </tr>\n",
              "    <tr>\n",
              "      <th>196</th>\n",
              "      <td>Post Doctoral Data Scientist</td>\n",
              "      <td>Partners HealthCare</td>\n",
              "      <td>Boston, MA 02114</td>\n",
              "      <td>Our research group applies computational, and ...</td>\n",
              "    </tr>\n",
              "    <tr>\n",
              "      <th>197</th>\n",
              "      <td>Senior Data Scientist – Visualization, Novarti...</td>\n",
              "      <td>Novartis</td>\n",
              "      <td>Cambridge, MA</td>\n",
              "      <td>Two companies and one incredible alliance.\\n\\n...</td>\n",
              "    </tr>\n",
              "    <tr>\n",
              "      <th>198</th>\n",
              "      <td>Senior Healthcare Data Analyst</td>\n",
              "      <td>Crossix Solutions</td>\n",
              "      <td>Boston, MA</td>\n",
              "      <td>Crossix is seeking an intellectually curious, ...</td>\n",
              "    </tr>\n",
              "    <tr>\n",
              "      <th>199</th>\n",
              "      <td>Machine Learning Engineer</td>\n",
              "      <td>21 days ago</td>\n",
              "      <td>Brighton, MA 02135</td>\n",
              "      <td>Summary: Learnable.ai is an AI company that fo...</td>\n",
              "    </tr>\n",
              "  </tbody>\n",
              "</table>\n",
              "<p>200 rows × 4 columns</p>\n",
              "</div>"
            ],
            "text/plain": [
              "                                                 title  ...                                    Job_Description\n",
              "0                           Data Scientist (Full-Time)  ...  Notes: To apply for this position, please fill...\n",
              "1                      GIS Specialist (Data Scientist)  ...  Duties\\nSummary\\nThe Volpe Center seeks GIS Sp...\n",
              "2                       Solaria Labs Data Science Coop  ...  Who we are:\\n\\nSolaria Labs was created by Lib...\n",
              "3                                       Data Scientist  ...  Duties\\nSummary\\nThe Volpe Center seeks Data S...\n",
              "4                                 Data Scientist (PhD)  ...  ProPhDs is seeking a Machine Learning Scientis...\n",
              "..                                                 ...  ...                                                ...\n",
              "195                  2020 Data Science Graduate Intern  ...  Job Description\\nThe Future Talent Program fea...\n",
              "196                       Post Doctoral Data Scientist  ...  Our research group applies computational, and ...\n",
              "197  Senior Data Scientist – Visualization, Novarti...  ...  Two companies and one incredible alliance.\\n\\n...\n",
              "198                     Senior Healthcare Data Analyst  ...  Crossix is seeking an intellectually curious, ...\n",
              "199                          Machine Learning Engineer  ...  Summary: Learnable.ai is an AI company that fo...\n",
              "\n",
              "[200 rows x 4 columns]"
            ]
          },
          "metadata": {
            "tags": []
          },
          "execution_count": 15
        }
      ]
    },
    {
      "cell_type": "code",
      "metadata": {
        "id": "2MP9JVbl32eN",
        "colab_type": "code",
        "outputId": "d542cb5f-5b4f-42a7-da75-5a82f00abed3",
        "colab": {
          "base_uri": "https://localhost:8080/",
          "height": 255
        }
      },
      "source": [
        "python = dfBO.Job_Description.str.contains(r'\\b[Pp][Yy][Tt][Hh][Oo][Nn]\\b').sum()\n",
        "print(python)\n",
        "C_Language = dfBO.Job_Description.str.contains(r'\\b[Cc](?<!\\+)\\b|\\b[Cc](?<!\\#)\\b').sum()\n",
        "print(C_Language)\n",
        "Java = dfBO.Job_Description.str.contains(r'\\b[Jj][Aa][Vv][Aa]\\b').sum()\n",
        "print(Java)\n",
        "Tableau = dfBO.Job_Description.str.contains(r'\\b[Tt][Aa][Bb][Ll][Ee][Aa][Uu]').sum()\n",
        "print(Tableau)\n",
        "AWS = dfBO.Job_Description.str.contains(r'\\b[Aa][Ww][Ss]\\b|\\b[Aa]mazon [Ww]eb [Ss]ervice\\b').sum()\n",
        "print(AWS)\n",
        "Pig = dfBO.Job_Description.str.contains(r'\\b[Pp][Ii][Gg]\\b').sum()\n",
        "print(Pig)\n",
        "Hive = dfBO.Job_Description.str.contains(r'\\b[Hh][Ii][Vv][Ee]\\b').sum()\n",
        "print(Hive)\n",
        "Hadoop = dfBO.Job_Description.str.contains(r'\\b[Hh][Aa][Dd][Oo][Oo][Pp]\\b').sum()\n",
        "print(Hadoop)\n",
        "SQL = dfBO.Job_Description.str.contains(r'[Ss][Qq][Ll]|[Qq]uery [Ll]anguage').sum()\n",
        "print(SQL)\n",
        "R = dfBO.Job_Description.str.contains(r'\\b[Rr]\\b').sum()\n",
        "print(R)\n",
        "C_Plus_Plus = dfBO.Job_Description.str.contains(r'\\b[Cc]\\+{2}').sum()\n",
        "print(C_Plus_Plus)\n",
        "Javascript = dfBO.Job_Description.str.contains(r'\\b[Jj][Aa][Vv][Aa][Ss][Cc][Rr][Ii][Pp][Tt]\\b').sum()\n",
        "print(Javascript)\n",
        "Spark = dfBO.Job_Description.str.contains(r'\\b[Ss][Pp][Aa][Rr][Kk]\\b').sum()\n",
        "print(Spark)\n",
        "total = python + Javascript + C_Plus_Plus + R + SQL + AWS + Java + Pig + Hive + Hadoop + C_Language + Spark + Tableau\n",
        "total"
      ],
      "execution_count": 0,
      "outputs": [
        {
          "output_type": "stream",
          "text": [
            "144\n",
            "38\n",
            "40\n",
            "34\n",
            "30\n",
            "3\n",
            "18\n",
            "27\n",
            "89\n",
            "101\n",
            "24\n",
            "6\n",
            "39\n"
          ],
          "name": "stdout"
        },
        {
          "output_type": "execute_result",
          "data": {
            "text/plain": [
              "593"
            ]
          },
          "metadata": {
            "tags": []
          },
          "execution_count": 16
        }
      ]
    },
    {
      "cell_type": "code",
      "metadata": {
        "colab_type": "code",
        "id": "N39ny5LDGGmh",
        "colab": {}
      },
      "source": [
        "dataBO = [['Python',python, (python/total)*100],\n",
        "          ['C',C_Language, (C_Language/total)*100],['C++', C_Plus_Plus,(C_Plus_Plus/total)*100],\n",
        "          ['Java',Java,(Java/total)*100],['Tableau',Tableau,(Tableau/total)*100],\n",
        "          ['Pig',Pig,(Pig/total)*100],['Hadoop',Hadoop,(Hadoop/total)*100],\n",
        "          ['SQL',SQL,(SQL/total)*100],['R',R,(R/total)*100],['Javascript',Javascript,(Javascript/total)*100],['Hive',Hive,(Hive/total)*100],\n",
        "          ['Spark',Spark,(Spark/total)*100],['AWS',AWS,(AWS/total)*100]]"
      ],
      "execution_count": 0,
      "outputs": []
    },
    {
      "cell_type": "code",
      "metadata": {
        "colab_type": "code",
        "id": "WRnNL9T6GQmh",
        "outputId": "1b96e328-c4f4-4599-8594-d3127b183c90",
        "colab": {
          "base_uri": "https://localhost:8080/",
          "height": 452
        }
      },
      "source": [
        "dfBO = pd.DataFrame(dataBO, columns = ['Programming Requirement(Boston)', 'Number', 'Percentage']) \n",
        "dfBO"
      ],
      "execution_count": 0,
      "outputs": [
        {
          "output_type": "execute_result",
          "data": {
            "text/html": [
              "<div>\n",
              "<style scoped>\n",
              "    .dataframe tbody tr th:only-of-type {\n",
              "        vertical-align: middle;\n",
              "    }\n",
              "\n",
              "    .dataframe tbody tr th {\n",
              "        vertical-align: top;\n",
              "    }\n",
              "\n",
              "    .dataframe thead th {\n",
              "        text-align: right;\n",
              "    }\n",
              "</style>\n",
              "<table border=\"1\" class=\"dataframe\">\n",
              "  <thead>\n",
              "    <tr style=\"text-align: right;\">\n",
              "      <th></th>\n",
              "      <th>Programming Requirement(Boston)</th>\n",
              "      <th>Number</th>\n",
              "      <th>Percentage</th>\n",
              "    </tr>\n",
              "  </thead>\n",
              "  <tbody>\n",
              "    <tr>\n",
              "      <th>0</th>\n",
              "      <td>Python</td>\n",
              "      <td>144</td>\n",
              "      <td>24.283305</td>\n",
              "    </tr>\n",
              "    <tr>\n",
              "      <th>1</th>\n",
              "      <td>C</td>\n",
              "      <td>38</td>\n",
              "      <td>6.408094</td>\n",
              "    </tr>\n",
              "    <tr>\n",
              "      <th>2</th>\n",
              "      <td>C++</td>\n",
              "      <td>24</td>\n",
              "      <td>4.047218</td>\n",
              "    </tr>\n",
              "    <tr>\n",
              "      <th>3</th>\n",
              "      <td>Java</td>\n",
              "      <td>40</td>\n",
              "      <td>6.745363</td>\n",
              "    </tr>\n",
              "    <tr>\n",
              "      <th>4</th>\n",
              "      <td>Tableau</td>\n",
              "      <td>34</td>\n",
              "      <td>5.733558</td>\n",
              "    </tr>\n",
              "    <tr>\n",
              "      <th>5</th>\n",
              "      <td>Pig</td>\n",
              "      <td>3</td>\n",
              "      <td>0.505902</td>\n",
              "    </tr>\n",
              "    <tr>\n",
              "      <th>6</th>\n",
              "      <td>Hadoop</td>\n",
              "      <td>27</td>\n",
              "      <td>4.553120</td>\n",
              "    </tr>\n",
              "    <tr>\n",
              "      <th>7</th>\n",
              "      <td>SQL</td>\n",
              "      <td>89</td>\n",
              "      <td>15.008432</td>\n",
              "    </tr>\n",
              "    <tr>\n",
              "      <th>8</th>\n",
              "      <td>R</td>\n",
              "      <td>101</td>\n",
              "      <td>17.032040</td>\n",
              "    </tr>\n",
              "    <tr>\n",
              "      <th>9</th>\n",
              "      <td>Javascript</td>\n",
              "      <td>6</td>\n",
              "      <td>1.011804</td>\n",
              "    </tr>\n",
              "    <tr>\n",
              "      <th>10</th>\n",
              "      <td>Hive</td>\n",
              "      <td>18</td>\n",
              "      <td>3.035413</td>\n",
              "    </tr>\n",
              "    <tr>\n",
              "      <th>11</th>\n",
              "      <td>Spark</td>\n",
              "      <td>39</td>\n",
              "      <td>6.576728</td>\n",
              "    </tr>\n",
              "    <tr>\n",
              "      <th>12</th>\n",
              "      <td>AWS</td>\n",
              "      <td>30</td>\n",
              "      <td>5.059022</td>\n",
              "    </tr>\n",
              "  </tbody>\n",
              "</table>\n",
              "</div>"
            ],
            "text/plain": [
              "   Programming Requirement(Boston)  Number  Percentage\n",
              "0                           Python     144   24.283305\n",
              "1                                C      38    6.408094\n",
              "2                              C++      24    4.047218\n",
              "3                             Java      40    6.745363\n",
              "4                          Tableau      34    5.733558\n",
              "5                              Pig       3    0.505902\n",
              "6                           Hadoop      27    4.553120\n",
              "7                              SQL      89   15.008432\n",
              "8                                R     101   17.032040\n",
              "9                       Javascript       6    1.011804\n",
              "10                            Hive      18    3.035413\n",
              "11                           Spark      39    6.576728\n",
              "12                             AWS      30    5.059022"
            ]
          },
          "metadata": {
            "tags": []
          },
          "execution_count": 18
        }
      ]
    },
    {
      "cell_type": "code",
      "metadata": {
        "colab_type": "code",
        "id": "1kBa1oIhGVA4",
        "outputId": "1ae076f0-a36c-42a0-afe5-419c40cec57e",
        "colab": {
          "base_uri": "https://localhost:8080/",
          "height": 575
        }
      },
      "source": [
        "plot = dfBO.plot.pie(y='Number', labels = dfBO['Programming Requirement(Boston)'], \n",
        "                     figsize=(10, 10),autopct='%1.1f%%', explode=(0.15, 0, 0, 0, 0,0,0,0,0,0,0,0,0))"
      ],
      "execution_count": 0,
      "outputs": [
        {
          "output_type": "display_data",
          "data": {
            "image/png": "[encoded data removed]",
            "text/plain": [
              "<Figure size 720x720 with 1 Axes>"
            ]
          },
          "metadata": {
            "tags": []
          }
        }
      ]
    },
    {
      "cell_type": "code",
      "metadata": {
        "colab_type": "code",
        "id": "--P6MoTzK-ld",
        "outputId": "3c728922-ae4d-4677-fa01-edae2721804a",
        "colab": {
          "base_uri": "https://localhost:8080/",
          "height": 357
        }
      },
      "source": [
        "#Chicago\n",
        "title = []\n",
        "company = []\n",
        "location = []\n",
        "jd = []\n",
        "url = \"https://www.indeed.com/m/jobs?q=data+scientist&l=Chicago\"\n",
        "for i in range(20):\n",
        "    \n",
        "    page = urlopen(url)\n",
        "    soup = BeautifulSoup(page, 'lxml')\n",
        "    all_matches = soup.findAll(attrs={'rel':['nofollow']})\n",
        "    for each in all_matches:\n",
        "        jd_url= 'http://www.indeed.com/m/'+each['href']\n",
        "        jd_page =urlopen(jd_url)\n",
        "        jd_soup = BeautifulSoup(jd_page, 'lxml')\n",
        "        jd_desc = jd_soup.findAll(attrs={'id':['desc']})\n",
        "        title.append(jd_soup.body.p.b.font.text)\n",
        "        company.append(jd_desc[0].span.text)\n",
        "        location.append(jd_soup.body.p.span.text)\n",
        "        jd.append(jd_desc[0].text)\n",
        "        \n",
        "    ## Change the pages to Next Page\n",
        "    url_all = soup.findAll(attrs={'rel':['next']})\n",
        "    print(url_all)\n",
        "    url = 'http://www.indeed.com/m/'+ str(url_all[0]['href'])"
      ],
      "execution_count": 0,
      "outputs": [
        {
          "output_type": "stream",
          "text": [
            "[<link href=\"jobs?q=data+scientist&amp;l=Chicago&amp;start=10\" rel=\"next\"/>]\n",
            "[<link href=\"jobs?q=data+scientist&amp;l=Chicago&amp;start=20\" rel=\"next\"/>]\n",
            "[<link href=\"jobs?q=data+scientist&amp;l=Chicago&amp;start=30\" rel=\"next\"/>]\n",
            "[<link href=\"jobs?q=data+scientist&amp;l=Chicago&amp;start=40\" rel=\"next\"/>]\n",
            "[<link href=\"jobs?q=data+scientist&amp;l=Chicago&amp;start=50\" rel=\"next\"/>]\n",
            "[<link href=\"jobs?q=data+scientist&amp;l=Chicago&amp;start=60\" rel=\"next\"/>]\n",
            "[<link href=\"jobs?q=data+scientist&amp;l=Chicago&amp;start=70\" rel=\"next\"/>]\n",
            "[<link href=\"jobs?q=data+scientist&amp;l=Chicago&amp;start=80\" rel=\"next\"/>]\n",
            "[<link href=\"jobs?q=data+scientist&amp;l=Chicago&amp;start=90\" rel=\"next\"/>]\n",
            "[<link href=\"jobs?q=data+scientist&amp;l=Chicago&amp;start=100\" rel=\"next\"/>]\n",
            "[<link href=\"jobs?q=data+scientist&amp;l=Chicago&amp;start=110\" rel=\"next\"/>]\n",
            "[<link href=\"jobs?q=data+scientist&amp;l=Chicago&amp;start=120\" rel=\"next\"/>]\n",
            "[<link href=\"jobs?q=data+scientist&amp;l=Chicago&amp;start=130\" rel=\"next\"/>]\n",
            "[<link href=\"jobs?q=data+scientist&amp;l=Chicago&amp;start=140\" rel=\"next\"/>]\n",
            "[<link href=\"jobs?q=data+scientist&amp;l=Chicago&amp;start=150\" rel=\"next\"/>]\n",
            "[<link href=\"jobs?q=data+scientist&amp;l=Chicago&amp;start=160\" rel=\"next\"/>]\n",
            "[<link href=\"jobs?q=data+scientist&amp;l=Chicago&amp;start=170\" rel=\"next\"/>]\n",
            "[<link href=\"jobs?q=data+scientist&amp;l=Chicago&amp;start=180\" rel=\"next\"/>]\n",
            "[<link href=\"jobs?q=data+scientist&amp;l=Chicago&amp;start=190\" rel=\"next\"/>]\n",
            "[<link href=\"jobs?q=data+scientist&amp;l=Chicago&amp;start=200\" rel=\"next\"/>]\n"
          ],
          "name": "stdout"
        }
      ]
    },
    {
      "cell_type": "code",
      "metadata": {
        "colab_type": "code",
        "id": "BmrlIvHwM1AX",
        "outputId": "86bb51ad-bb19-4fdf-a48e-ff19780cea08",
        "colab": {
          "base_uri": "https://localhost:8080/",
          "height": 419
        }
      },
      "source": [
        "job = {'title': title,\n",
        "         'company': company,\n",
        "         'location': location,\n",
        "         'Job_Description': jd}\n",
        "dfCH = pd.DataFrame.from_dict(job)\n",
        "dfCH"
      ],
      "execution_count": 0,
      "outputs": [
        {
          "output_type": "execute_result",
          "data": {
            "text/html": [
              "<div>\n",
              "<style scoped>\n",
              "    .dataframe tbody tr th:only-of-type {\n",
              "        vertical-align: middle;\n",
              "    }\n",
              "\n",
              "    .dataframe tbody tr th {\n",
              "        vertical-align: top;\n",
              "    }\n",
              "\n",
              "    .dataframe thead th {\n",
              "        text-align: right;\n",
              "    }\n",
              "</style>\n",
              "<table border=\"1\" class=\"dataframe\">\n",
              "  <thead>\n",
              "    <tr style=\"text-align: right;\">\n",
              "      <th></th>\n",
              "      <th>title</th>\n",
              "      <th>company</th>\n",
              "      <th>location</th>\n",
              "      <th>Job_Description</th>\n",
              "    </tr>\n",
              "  </thead>\n",
              "  <tbody>\n",
              "    <tr>\n",
              "      <th>0</th>\n",
              "      <td>Data Scientist</td>\n",
              "      <td>2 days ago</td>\n",
              "      <td>Chicago, IL</td>\n",
              "      <td>Role: Data Scientist / Data EngineerLocation: ...</td>\n",
              "    </tr>\n",
              "    <tr>\n",
              "      <th>1</th>\n",
              "      <td>Data Scientist</td>\n",
              "      <td>Deloitte</td>\n",
              "      <td>Chicago, IL 60606</td>\n",
              "      <td>Deloitte Services LP includes internal support...</td>\n",
              "    </tr>\n",
              "    <tr>\n",
              "      <th>2</th>\n",
              "      <td>Data Scientist (Entry Level)</td>\n",
              "      <td>Strike Social</td>\n",
              "      <td>Chicago, IL 60606</td>\n",
              "      <td>Why Work With Us\\nStrike is a leader in the fa...</td>\n",
              "    </tr>\n",
              "    <tr>\n",
              "      <th>3</th>\n",
              "      <td>Data Scientist</td>\n",
              "      <td>Press Ganey Associates, Inc.</td>\n",
              "      <td>Chicago, IL 60606</td>\n",
              "      <td>About Press Ganey\\n\\nPress Ganey pioneered the...</td>\n",
              "    </tr>\n",
              "    <tr>\n",
              "      <th>4</th>\n",
              "      <td>Data Scientist</td>\n",
              "      <td>Nielsen</td>\n",
              "      <td>Chicago, IL 60647</td>\n",
              "      <td>Data Scientist - 46672\\nData Science - USA Chi...</td>\n",
              "    </tr>\n",
              "    <tr>\n",
              "      <th>...</th>\n",
              "      <td>...</td>\n",
              "      <td>...</td>\n",
              "      <td>...</td>\n",
              "      <td>...</td>\n",
              "    </tr>\n",
              "    <tr>\n",
              "      <th>195</th>\n",
              "      <td>Data Engineer (Data Science)</td>\n",
              "      <td>UL</td>\n",
              "      <td>Chicago, IL</td>\n",
              "      <td>Overview\\nUL is seeking an experienced data en...</td>\n",
              "    </tr>\n",
              "    <tr>\n",
              "      <th>196</th>\n",
              "      <td>Senior Data Scientist</td>\n",
              "      <td>Mintel</td>\n",
              "      <td>Chicago, IL 60612</td>\n",
              "      <td>The Senior Data Scientist is a technical leade...</td>\n",
              "    </tr>\n",
              "    <tr>\n",
              "      <th>197</th>\n",
              "      <td>Software Engineer and Data Analyst</td>\n",
              "      <td>Cloudquant</td>\n",
              "      <td>Chicago, IL</td>\n",
              "      <td>The Software Engineer and Data Analyst will jo...</td>\n",
              "    </tr>\n",
              "    <tr>\n",
              "      <th>198</th>\n",
              "      <td>Sr. Data Scientist</td>\n",
              "      <td>Tiger Analytics</td>\n",
              "      <td>Chicago, IL</td>\n",
              "      <td>Tiger Analytics is a fast-growing advanced ana...</td>\n",
              "    </tr>\n",
              "    <tr>\n",
              "      <th>199</th>\n",
              "      <td>Computer Vision / Deep Learning Scientist</td>\n",
              "      <td>tempus</td>\n",
              "      <td>Chicago, IL</td>\n",
              "      <td>Here at Tempus we believe the greatest promise...</td>\n",
              "    </tr>\n",
              "  </tbody>\n",
              "</table>\n",
              "<p>200 rows × 4 columns</p>\n",
              "</div>"
            ],
            "text/plain": [
              "                                         title  ...                                    Job_Description\n",
              "0                               Data Scientist  ...  Role: Data Scientist / Data EngineerLocation: ...\n",
              "1                               Data Scientist  ...  Deloitte Services LP includes internal support...\n",
              "2                 Data Scientist (Entry Level)  ...  Why Work With Us\\nStrike is a leader in the fa...\n",
              "3                               Data Scientist  ...  About Press Ganey\\n\\nPress Ganey pioneered the...\n",
              "4                               Data Scientist  ...  Data Scientist - 46672\\nData Science - USA Chi...\n",
              "..                                         ...  ...                                                ...\n",
              "195               Data Engineer (Data Science)  ...  Overview\\nUL is seeking an experienced data en...\n",
              "196                      Senior Data Scientist  ...  The Senior Data Scientist is a technical leade...\n",
              "197         Software Engineer and Data Analyst  ...  The Software Engineer and Data Analyst will jo...\n",
              "198                         Sr. Data Scientist  ...  Tiger Analytics is a fast-growing advanced ana...\n",
              "199  Computer Vision / Deep Learning Scientist  ...  Here at Tempus we believe the greatest promise...\n",
              "\n",
              "[200 rows x 4 columns]"
            ]
          },
          "metadata": {
            "tags": []
          },
          "execution_count": 21
        }
      ]
    },
    {
      "cell_type": "code",
      "metadata": {
        "id": "bOIOEtvp44tt",
        "colab_type": "code",
        "outputId": "4230e517-618c-4f9f-fcc8-383cbd44c034",
        "colab": {
          "base_uri": "https://localhost:8080/",
          "height": 255
        }
      },
      "source": [
        "python = dfCH.Job_Description.str.contains(r'\\b[Pp][Yy][Tt][Hh][Oo][Nn]\\b').sum()\n",
        "print(python)\n",
        "C_Language = dfCH.Job_Description.str.contains(r'\\b[Cc](?<!\\+)\\b|\\b[Cc](?<!\\#)\\b').sum()\n",
        "print(C_Language)\n",
        "Java = dfCH.Job_Description.str.contains(r'\\b[Jj][Aa][Vv][Aa]\\b').sum()\n",
        "print(Java)\n",
        "Tableau = dfCH.Job_Description.str.contains(r'\\b[Tt][Aa][Bb][Ll][Ee][Aa][Uu]').sum()\n",
        "print(Tableau)\n",
        "AWS = dfCH.Job_Description.str.contains(r'\\b[Aa][Ww][Ss]\\b|\\b[Aa]mazon [Ww]eb [Ss]ervice\\b').sum()\n",
        "print(AWS)\n",
        "Pig = dfCH.Job_Description.str.contains(r'\\b[Pp][Ii][Gg]\\b').sum()\n",
        "print(Pig)\n",
        "Hive = dfCH.Job_Description.str.contains(r'\\b[Hh][Ii][Vv][Ee]\\b').sum()\n",
        "print(Hive)\n",
        "Hadoop = dfCH.Job_Description.str.contains(r'\\b[Hh][Aa][Dd][Oo][Oo][Pp]\\b').sum()\n",
        "print(Hadoop)\n",
        "SQL = dfCH.Job_Description.str.contains(r'[Ss][Qq][Ll]|[Qq]uery [Ll]anguage').sum()\n",
        "print(SQL)\n",
        "R = dfCH.Job_Description.str.contains(r'\\b[Rr]\\b').sum()\n",
        "print(R)\n",
        "C_Plus_Plus = dfCH.Job_Description.str.contains(r'\\b[Cc]\\+{2}').sum()\n",
        "print(C_Plus_Plus)\n",
        "Javascript = dfCH.Job_Description.str.contains(r'\\b[Jj][Aa][Vv][Aa][Ss][Cc][Rr][Ii][Pp][Tt]\\b').sum()\n",
        "print(Javascript)\n",
        "Spark = dfCH.Job_Description.str.contains(r'\\b[Ss][Pp][Aa][Rr][Kk]\\b').sum()\n",
        "print(Spark)\n",
        "total = python + Javascript + C_Plus_Plus + R + SQL + AWS + Java + Pig + Hive + Hadoop + C_Language + Spark + Tableau\n",
        "total"
      ],
      "execution_count": 0,
      "outputs": [
        {
          "output_type": "stream",
          "text": [
            "142\n",
            "35\n",
            "22\n",
            "37\n",
            "38\n",
            "5\n",
            "19\n",
            "43\n",
            "101\n",
            "117\n",
            "26\n",
            "8\n",
            "39\n"
          ],
          "name": "stdout"
        },
        {
          "output_type": "execute_result",
          "data": {
            "text/plain": [
              "632"
            ]
          },
          "metadata": {
            "tags": []
          },
          "execution_count": 22
        }
      ]
    },
    {
      "cell_type": "code",
      "metadata": {
        "colab_type": "code",
        "id": "NU0D1HXjNJVP",
        "colab": {}
      },
      "source": [
        "dataCH = [['Python',python, (python/total)*100],\n",
        "          ['C',C_Language, (C_Language/total)*100],['C++', C_Plus_Plus,(C_Plus_Plus/total)*100],\n",
        "          ['Java',Java,(Java/total)*100],['Tableau',Tableau,(Tableau/total)*100],\n",
        "          ['Pig',Pig,(Pig/total)*100],['Hadoop',Hadoop,(Hadoop/total)*100],\n",
        "          ['SQL',SQL,(SQL/total)*100],['R',R,(R/total)*100],['Javascript',Javascript,(Javascript/total)*100],['Hive',Hive,(Hive/total)*100],\n",
        "          ['Spark',Spark,(Spark/total)*100],['AWS',AWS,(AWS/total)*100]]"
      ],
      "execution_count": 0,
      "outputs": []
    },
    {
      "cell_type": "code",
      "metadata": {
        "colab_type": "code",
        "id": "wCUmwjOjNND6",
        "outputId": "0e211391-25a5-4130-eb94-944ff0c442b4",
        "colab": {
          "base_uri": "https://localhost:8080/",
          "height": 452
        }
      },
      "source": [
        "dfCH = pd.DataFrame(dataCH, columns = ['Programming Requirement(Chicago)', 'Number', 'Percentage']) \n",
        "dfCH"
      ],
      "execution_count": 0,
      "outputs": [
        {
          "output_type": "execute_result",
          "data": {
            "text/html": [
              "<div>\n",
              "<style scoped>\n",
              "    .dataframe tbody tr th:only-of-type {\n",
              "        vertical-align: middle;\n",
              "    }\n",
              "\n",
              "    .dataframe tbody tr th {\n",
              "        vertical-align: top;\n",
              "    }\n",
              "\n",
              "    .dataframe thead th {\n",
              "        text-align: right;\n",
              "    }\n",
              "</style>\n",
              "<table border=\"1\" class=\"dataframe\">\n",
              "  <thead>\n",
              "    <tr style=\"text-align: right;\">\n",
              "      <th></th>\n",
              "      <th>Programming Requirement(Chicago)</th>\n",
              "      <th>Number</th>\n",
              "      <th>Percentage</th>\n",
              "    </tr>\n",
              "  </thead>\n",
              "  <tbody>\n",
              "    <tr>\n",
              "      <th>0</th>\n",
              "      <td>Python</td>\n",
              "      <td>142</td>\n",
              "      <td>22.468354</td>\n",
              "    </tr>\n",
              "    <tr>\n",
              "      <th>1</th>\n",
              "      <td>C</td>\n",
              "      <td>35</td>\n",
              "      <td>5.537975</td>\n",
              "    </tr>\n",
              "    <tr>\n",
              "      <th>2</th>\n",
              "      <td>C++</td>\n",
              "      <td>26</td>\n",
              "      <td>4.113924</td>\n",
              "    </tr>\n",
              "    <tr>\n",
              "      <th>3</th>\n",
              "      <td>Java</td>\n",
              "      <td>22</td>\n",
              "      <td>3.481013</td>\n",
              "    </tr>\n",
              "    <tr>\n",
              "      <th>4</th>\n",
              "      <td>Tableau</td>\n",
              "      <td>37</td>\n",
              "      <td>5.854430</td>\n",
              "    </tr>\n",
              "    <tr>\n",
              "      <th>5</th>\n",
              "      <td>Pig</td>\n",
              "      <td>5</td>\n",
              "      <td>0.791139</td>\n",
              "    </tr>\n",
              "    <tr>\n",
              "      <th>6</th>\n",
              "      <td>Hadoop</td>\n",
              "      <td>43</td>\n",
              "      <td>6.803797</td>\n",
              "    </tr>\n",
              "    <tr>\n",
              "      <th>7</th>\n",
              "      <td>SQL</td>\n",
              "      <td>101</td>\n",
              "      <td>15.981013</td>\n",
              "    </tr>\n",
              "    <tr>\n",
              "      <th>8</th>\n",
              "      <td>R</td>\n",
              "      <td>117</td>\n",
              "      <td>18.512658</td>\n",
              "    </tr>\n",
              "    <tr>\n",
              "      <th>9</th>\n",
              "      <td>Javascript</td>\n",
              "      <td>8</td>\n",
              "      <td>1.265823</td>\n",
              "    </tr>\n",
              "    <tr>\n",
              "      <th>10</th>\n",
              "      <td>Hive</td>\n",
              "      <td>19</td>\n",
              "      <td>3.006329</td>\n",
              "    </tr>\n",
              "    <tr>\n",
              "      <th>11</th>\n",
              "      <td>Spark</td>\n",
              "      <td>39</td>\n",
              "      <td>6.170886</td>\n",
              "    </tr>\n",
              "    <tr>\n",
              "      <th>12</th>\n",
              "      <td>AWS</td>\n",
              "      <td>38</td>\n",
              "      <td>6.012658</td>\n",
              "    </tr>\n",
              "  </tbody>\n",
              "</table>\n",
              "</div>"
            ],
            "text/plain": [
              "   Programming Requirement(Chicago)  Number  Percentage\n",
              "0                            Python     142   22.468354\n",
              "1                                 C      35    5.537975\n",
              "2                               C++      26    4.113924\n",
              "3                              Java      22    3.481013\n",
              "4                           Tableau      37    5.854430\n",
              "5                               Pig       5    0.791139\n",
              "6                            Hadoop      43    6.803797\n",
              "7                               SQL     101   15.981013\n",
              "8                                 R     117   18.512658\n",
              "9                        Javascript       8    1.265823\n",
              "10                             Hive      19    3.006329\n",
              "11                            Spark      39    6.170886\n",
              "12                              AWS      38    6.012658"
            ]
          },
          "metadata": {
            "tags": []
          },
          "execution_count": 24
        }
      ]
    },
    {
      "cell_type": "code",
      "metadata": {
        "colab_type": "code",
        "id": "ic8S_aEkNUNT",
        "outputId": "48090405-ad70-4a0f-83b0-fafa47e277f2",
        "colab": {
          "base_uri": "https://localhost:8080/",
          "height": 575
        }
      },
      "source": [
        "plot = dfCH.plot.pie(y='Number', labels = dfCH['Programming Requirement(Chicago)'], \n",
        "                     figsize=(10, 10),autopct='%1.1f%%',explode=(0.15, 0, 0, 0, 0,0,0,0,0,0,0,0,0))"
      ],
      "execution_count": 0,
      "outputs": [
        {
          "output_type": "display_data",
          "data": {
            "image/png": "[encoded data removed]",
            "text/plain": [
              "<Figure size 720x720 with 1 Axes>"
            ]
          },
          "metadata": {
            "tags": []
          }
        }
      ]
    },
    {
      "cell_type": "code",
      "metadata": {
        "colab_type": "code",
        "id": "aRM_RsBvNbZG",
        "outputId": "5a140db2-7f9d-469c-f9e7-747362ff494e",
        "colab": {
          "base_uri": "https://localhost:8080/",
          "height": 306
        }
      },
      "source": [
        "#Austin\n",
        "# We Just have 170 positions for Austin since it only has 17 pages.\n",
        "title = []\n",
        "company = []\n",
        "location = []\n",
        "jd = []\n",
        "url = \"https://www.indeed.com/m/jobs?q=data+scientist&l=Austin\"\n",
        "for i in range(17):\n",
        "    \n",
        "    page = urlopen(url)\n",
        "    soup = BeautifulSoup(page, 'lxml')\n",
        "    all_matches = soup.findAll(attrs={'rel':['nofollow']})\n",
        "    for each in all_matches:\n",
        "        jd_url= 'http://www.indeed.com/m/'+each['href']\n",
        "        jd_page =urlopen(jd_url)\n",
        "        jd_soup = BeautifulSoup(jd_page, 'lxml')\n",
        "        jd_desc = jd_soup.findAll(attrs={'id':['desc']})\n",
        "        title.append(jd_soup.body.p.b.font.text)\n",
        "        company.append(jd_desc[0].span.text)\n",
        "        location.append(jd_soup.body.p.span.text)\n",
        "        jd.append(jd_desc[0].text)\n",
        "        \n",
        "    ## Change the pages to Next Page\n",
        "    url_all = soup.findAll(attrs={'rel':['next']})\n",
        "    print(url_all)\n",
        "    url = 'http://www.indeed.com/m/'+ str(url_all[0]['href'])"
      ],
      "execution_count": 0,
      "outputs": [
        {
          "output_type": "stream",
          "text": [
            "[<link href=\"jobs?q=data+scientist&amp;l=Austin&amp;start=10\" rel=\"next\"/>]\n",
            "[<link href=\"jobs?q=data+scientist&amp;l=Austin&amp;start=20\" rel=\"next\"/>]\n",
            "[<link href=\"jobs?q=data+scientist&amp;l=Austin&amp;start=30\" rel=\"next\"/>]\n",
            "[<link href=\"jobs?q=data+scientist&amp;l=Austin&amp;start=40\" rel=\"next\"/>]\n",
            "[<link href=\"jobs?q=data+scientist&amp;l=Austin&amp;start=50\" rel=\"next\"/>]\n",
            "[<link href=\"jobs?q=data+scientist&amp;l=Austin&amp;start=60\" rel=\"next\"/>]\n",
            "[<link href=\"jobs?q=data+scientist&amp;l=Austin&amp;start=70\" rel=\"next\"/>]\n",
            "[<link href=\"jobs?q=data+scientist&amp;l=Austin&amp;start=80\" rel=\"next\"/>]\n",
            "[<link href=\"jobs?q=data+scientist&amp;l=Austin&amp;start=90\" rel=\"next\"/>]\n",
            "[<link href=\"jobs?q=data+scientist&amp;l=Austin&amp;start=100\" rel=\"next\"/>]\n",
            "[<link href=\"jobs?q=data+scientist&amp;l=Austin&amp;start=110\" rel=\"next\"/>]\n",
            "[<link href=\"jobs?q=data+scientist&amp;l=Austin&amp;start=120\" rel=\"next\"/>]\n",
            "[<link href=\"jobs?q=data+scientist&amp;l=Austin&amp;start=130\" rel=\"next\"/>]\n",
            "[<link href=\"jobs?q=data+scientist&amp;l=Austin&amp;start=140\" rel=\"next\"/>]\n",
            "[<link href=\"jobs?q=data+scientist&amp;l=Austin&amp;start=150\" rel=\"next\"/>]\n",
            "[<link href=\"jobs?q=data+scientist&amp;l=Austin&amp;start=160\" rel=\"next\"/>]\n",
            "[<link href=\"jobs?q=data+scientist&amp;l=Austin&amp;start=170\" rel=\"next\"/>]\n"
          ],
          "name": "stdout"
        }
      ]
    },
    {
      "cell_type": "code",
      "metadata": {
        "colab_type": "code",
        "id": "zjQqAOeHNltS",
        "outputId": "74ca5753-3c25-4138-de61-aed39af136be",
        "colab": {
          "base_uri": "https://localhost:8080/",
          "height": 419
        }
      },
      "source": [
        "job = {'title': title,\n",
        "         'company': company,\n",
        "         'location': location,\n",
        "         'Job_Description': jd}\n",
        "dfAU = pd.DataFrame.from_dict(job)\n",
        "dfAU"
      ],
      "execution_count": 0,
      "outputs": [
        {
          "output_type": "execute_result",
          "data": {
            "text/html": [
              "<div>\n",
              "<style scoped>\n",
              "    .dataframe tbody tr th:only-of-type {\n",
              "        vertical-align: middle;\n",
              "    }\n",
              "\n",
              "    .dataframe tbody tr th {\n",
              "        vertical-align: top;\n",
              "    }\n",
              "\n",
              "    .dataframe thead th {\n",
              "        text-align: right;\n",
              "    }\n",
              "</style>\n",
              "<table border=\"1\" class=\"dataframe\">\n",
              "  <thead>\n",
              "    <tr style=\"text-align: right;\">\n",
              "      <th></th>\n",
              "      <th>title</th>\n",
              "      <th>company</th>\n",
              "      <th>location</th>\n",
              "      <th>Job_Description</th>\n",
              "    </tr>\n",
              "  </thead>\n",
              "  <tbody>\n",
              "    <tr>\n",
              "      <th>0</th>\n",
              "      <td>Chemical Data Scientist</td>\n",
              "      <td>30+ days ago</td>\n",
              "      <td>Austin, TX</td>\n",
              "      <td>www.tceq.texas.govState Title: Chemist IVJob P...</td>\n",
              "    </tr>\n",
              "    <tr>\n",
              "      <th>1</th>\n",
              "      <td>Data Scientist</td>\n",
              "      <td>Apple</td>\n",
              "      <td>Austin, TX 78758</td>\n",
              "      <td>Summary\\nPosted: Oct 28, 2019\\nWeekly Hours: 4...</td>\n",
              "    </tr>\n",
              "    <tr>\n",
              "      <th>2</th>\n",
              "      <td>Data Scientist - Sports</td>\n",
              "      <td>5 days ago</td>\n",
              "      <td>Austin, TX 78703</td>\n",
              "      <td>We are seeking data scientists / quantitative ...</td>\n",
              "    </tr>\n",
              "    <tr>\n",
              "      <th>3</th>\n",
              "      <td>Data Scientist @ Apple Inc.</td>\n",
              "      <td>8 days ago</td>\n",
              "      <td>Austin, TX</td>\n",
              "      <td>Responsibilities: Develop Data Science Algorit...</td>\n",
              "    </tr>\n",
              "    <tr>\n",
              "      <th>4</th>\n",
              "      <td>Machine Learning Scientist</td>\n",
              "      <td>Apple</td>\n",
              "      <td>Austin, TX 78758</td>\n",
              "      <td>Summary\\nPosted: Oct 22, 2019\\nRole Number: 20...</td>\n",
              "    </tr>\n",
              "    <tr>\n",
              "      <th>...</th>\n",
              "      <td>...</td>\n",
              "      <td>...</td>\n",
              "      <td>...</td>\n",
              "      <td>...</td>\n",
              "    </tr>\n",
              "    <tr>\n",
              "      <th>165</th>\n",
              "      <td>Artificial Intelligence, Consultant - Applied ...</td>\n",
              "      <td>Deloitte</td>\n",
              "      <td>Austin, TX</td>\n",
              "      <td>Full Stack Developer\\nWhile analytics isn't ne...</td>\n",
              "    </tr>\n",
              "    <tr>\n",
              "      <th>166</th>\n",
              "      <td>Senior Machine Learning Engineer</td>\n",
              "      <td>Talroo</td>\n",
              "      <td>Austin, TX</td>\n",
              "      <td>About Talroo\\n\\nWe are honored to be recognize...</td>\n",
              "    </tr>\n",
              "    <tr>\n",
              "      <th>167</th>\n",
              "      <td>Software Engineer, Machine Learning</td>\n",
              "      <td>SailPoint Technologies Holdings</td>\n",
              "      <td>Austin, TX</td>\n",
              "      <td>At SailPoint, we do things differently. We und...</td>\n",
              "    </tr>\n",
              "    <tr>\n",
              "      <th>168</th>\n",
              "      <td>Conversational Artificial Intelligence Archite...</td>\n",
              "      <td>Deloitte</td>\n",
              "      <td>Austin, TX</td>\n",
              "      <td>Work you’ll do\\n\\nAt Deloitte you will manage ...</td>\n",
              "    </tr>\n",
              "    <tr>\n",
              "      <th>169</th>\n",
              "      <td>Senior Software Engineer/Architect – Data &amp; AI</td>\n",
              "      <td>Electronic Arts</td>\n",
              "      <td>Austin, TX 78758</td>\n",
              "      <td>Senior Software Engineer/Architect - Data\\n\\nW...</td>\n",
              "    </tr>\n",
              "  </tbody>\n",
              "</table>\n",
              "<p>170 rows × 4 columns</p>\n",
              "</div>"
            ],
            "text/plain": [
              "                                                 title  ...                                    Job_Description\n",
              "0                              Chemical Data Scientist  ...  www.tceq.texas.govState Title: Chemist IVJob P...\n",
              "1                                       Data Scientist  ...  Summary\\nPosted: Oct 28, 2019\\nWeekly Hours: 4...\n",
              "2                              Data Scientist - Sports  ...  We are seeking data scientists / quantitative ...\n",
              "3                          Data Scientist @ Apple Inc.  ...  Responsibilities: Develop Data Science Algorit...\n",
              "4                           Machine Learning Scientist  ...  Summary\\nPosted: Oct 22, 2019\\nRole Number: 20...\n",
              "..                                                 ...  ...                                                ...\n",
              "165  Artificial Intelligence, Consultant - Applied ...  ...  Full Stack Developer\\nWhile analytics isn't ne...\n",
              "166                   Senior Machine Learning Engineer  ...  About Talroo\\n\\nWe are honored to be recognize...\n",
              "167                Software Engineer, Machine Learning  ...  At SailPoint, we do things differently. We und...\n",
              "168  Conversational Artificial Intelligence Archite...  ...  Work you’ll do\\n\\nAt Deloitte you will manage ...\n",
              "169     Senior Software Engineer/Architect – Data & AI  ...  Senior Software Engineer/Architect - Data\\n\\nW...\n",
              "\n",
              "[170 rows x 4 columns]"
            ]
          },
          "metadata": {
            "tags": []
          },
          "execution_count": 27
        }
      ]
    },
    {
      "cell_type": "code",
      "metadata": {
        "id": "1PPaNjkS5EEq",
        "colab_type": "code",
        "outputId": "52754dd9-61ea-406b-f3e3-aa122e3e8d29",
        "colab": {
          "base_uri": "https://localhost:8080/",
          "height": 255
        }
      },
      "source": [
        "python = dfAU.Job_Description.str.contains(r'\\b[Pp][Yy][Tt][Hh][Oo][Nn]\\b').sum()\n",
        "print(python)\n",
        "C_Language = dfAU.Job_Description.str.contains(r'\\b[Cc](?<!\\+)\\b|\\b[Cc](?<!\\#)\\b').sum()\n",
        "print(C_Language)\n",
        "Java = dfAU.Job_Description.str.contains(r'\\b[Jj][Aa][Vv][Aa]\\b').sum()\n",
        "print(Java)\n",
        "Tableau = dfAU.Job_Description.str.contains(r'\\b[Tt][Aa][Bb][Ll][Ee][Aa][Uu]').sum()\n",
        "print(Tableau)\n",
        "AWS = dfAU.Job_Description.str.contains(r'\\b[Aa][Ww][Ss]\\b|\\b[Aa]mazon [Ww]eb [Ss]ervice\\b').sum()\n",
        "print(AWS)\n",
        "Pig = dfAU.Job_Description.str.contains(r'\\b[Pp][Ii][Gg]\\b').sum()\n",
        "print(Pig)\n",
        "Hive = dfAU.Job_Description.str.contains(r'\\b[Hh][Ii][Vv][Ee]\\b').sum()\n",
        "print(Hive)\n",
        "Hadoop = dfAU.Job_Description.str.contains(r'\\b[Hh][Aa][Dd][Oo][Oo][Pp]\\b').sum()\n",
        "print(Hadoop)\n",
        "SQL = dfAU.Job_Description.str.contains(r'[Ss][Qq][Ll]|[Qq]uery [Ll]anguage').sum()\n",
        "print(SQL)\n",
        "R = dfAU.Job_Description.str.contains(r'\\b[Rr]\\b').sum()\n",
        "print(R)\n",
        "C_Plus_Plus = dfAU.Job_Description.str.contains(r'\\b[Cc]\\+{2}').sum()\n",
        "print(C_Plus_Plus)\n",
        "Javascript = dfAU.Job_Description.str.contains(r'\\b[Jj][Aa][Vv][Aa][Ss][Cc][Rr][Ii][Pp][Tt]\\b').sum()\n",
        "print(Javascript)\n",
        "Spark = dfAU.Job_Description.str.contains(r'\\b[Ss][Pp][Aa][Rr][Kk]\\b').sum()\n",
        "print(Spark)\n",
        "total = python + Javascript + C_Plus_Plus + R + SQL + AWS + Java + Pig + Hive + Hadoop + C_Language + Spark + Tableau\n",
        "total"
      ],
      "execution_count": 0,
      "outputs": [
        {
          "output_type": "stream",
          "text": [
            "113\n",
            "53\n",
            "47\n",
            "36\n",
            "27\n",
            "5\n",
            "24\n",
            "26\n",
            "97\n",
            "72\n",
            "42\n",
            "12\n",
            "56\n"
          ],
          "name": "stdout"
        },
        {
          "output_type": "execute_result",
          "data": {
            "text/plain": [
              "610"
            ]
          },
          "metadata": {
            "tags": []
          },
          "execution_count": 28
        }
      ]
    },
    {
      "cell_type": "code",
      "metadata": {
        "colab_type": "code",
        "id": "o4psp3c5OVi2",
        "colab": {}
      },
      "source": [
        "dataAU = [['Python',python, (python/total)*100],\n",
        "          ['C',C_Language, (C_Language/total)*100],['C++', C_Plus_Plus,(C_Plus_Plus/total)*100],\n",
        "          ['Java',Java,(Java/total)*100],['Tableau',Tableau,(Tableau/total)*100],\n",
        "          ['Pig',Pig,(Pig/total)*100],['Hadoop',Hadoop,(Hadoop/total)*100],\n",
        "          ['SQL',SQL,(SQL/total)*100],['R',R,(R/total)*100],['Javascript',Javascript,(Javascript/total)*100],['Hive',Hive,(Hive/total)*100],\n",
        "          ['Spark',Spark,(Spark/total)*100],['AWS',AWS,(AWS/total)*100]]"
      ],
      "execution_count": 0,
      "outputs": []
    },
    {
      "cell_type": "code",
      "metadata": {
        "colab_type": "code",
        "id": "k2NR5M8sOdRB",
        "outputId": "bdd6dc61-3223-4b5f-aa8f-73f9e7ae9336",
        "colab": {
          "base_uri": "https://localhost:8080/",
          "height": 452
        }
      },
      "source": [
        "dfAU = pd.DataFrame(dataAU, columns = ['Programming Requirement(Austin)', 'Number', 'Percentage']) \n",
        "dfAU"
      ],
      "execution_count": 0,
      "outputs": [
        {
          "output_type": "execute_result",
          "data": {
            "text/html": [
              "<div>\n",
              "<style scoped>\n",
              "    .dataframe tbody tr th:only-of-type {\n",
              "        vertical-align: middle;\n",
              "    }\n",
              "\n",
              "    .dataframe tbody tr th {\n",
              "        vertical-align: top;\n",
              "    }\n",
              "\n",
              "    .dataframe thead th {\n",
              "        text-align: right;\n",
              "    }\n",
              "</style>\n",
              "<table border=\"1\" class=\"dataframe\">\n",
              "  <thead>\n",
              "    <tr style=\"text-align: right;\">\n",
              "      <th></th>\n",
              "      <th>Programming Requirement(Austin)</th>\n",
              "      <th>Number</th>\n",
              "      <th>Percentage</th>\n",
              "    </tr>\n",
              "  </thead>\n",
              "  <tbody>\n",
              "    <tr>\n",
              "      <th>0</th>\n",
              "      <td>Python</td>\n",
              "      <td>113</td>\n",
              "      <td>18.524590</td>\n",
              "    </tr>\n",
              "    <tr>\n",
              "      <th>1</th>\n",
              "      <td>C</td>\n",
              "      <td>53</td>\n",
              "      <td>8.688525</td>\n",
              "    </tr>\n",
              "    <tr>\n",
              "      <th>2</th>\n",
              "      <td>C++</td>\n",
              "      <td>42</td>\n",
              "      <td>6.885246</td>\n",
              "    </tr>\n",
              "    <tr>\n",
              "      <th>3</th>\n",
              "      <td>Java</td>\n",
              "      <td>47</td>\n",
              "      <td>7.704918</td>\n",
              "    </tr>\n",
              "    <tr>\n",
              "      <th>4</th>\n",
              "      <td>Tableau</td>\n",
              "      <td>36</td>\n",
              "      <td>5.901639</td>\n",
              "    </tr>\n",
              "    <tr>\n",
              "      <th>5</th>\n",
              "      <td>Pig</td>\n",
              "      <td>5</td>\n",
              "      <td>0.819672</td>\n",
              "    </tr>\n",
              "    <tr>\n",
              "      <th>6</th>\n",
              "      <td>Hadoop</td>\n",
              "      <td>26</td>\n",
              "      <td>4.262295</td>\n",
              "    </tr>\n",
              "    <tr>\n",
              "      <th>7</th>\n",
              "      <td>SQL</td>\n",
              "      <td>97</td>\n",
              "      <td>15.901639</td>\n",
              "    </tr>\n",
              "    <tr>\n",
              "      <th>8</th>\n",
              "      <td>R</td>\n",
              "      <td>72</td>\n",
              "      <td>11.803279</td>\n",
              "    </tr>\n",
              "    <tr>\n",
              "      <th>9</th>\n",
              "      <td>Javascript</td>\n",
              "      <td>12</td>\n",
              "      <td>1.967213</td>\n",
              "    </tr>\n",
              "    <tr>\n",
              "      <th>10</th>\n",
              "      <td>Hive</td>\n",
              "      <td>24</td>\n",
              "      <td>3.934426</td>\n",
              "    </tr>\n",
              "    <tr>\n",
              "      <th>11</th>\n",
              "      <td>Spark</td>\n",
              "      <td>56</td>\n",
              "      <td>9.180328</td>\n",
              "    </tr>\n",
              "    <tr>\n",
              "      <th>12</th>\n",
              "      <td>AWS</td>\n",
              "      <td>27</td>\n",
              "      <td>4.426230</td>\n",
              "    </tr>\n",
              "  </tbody>\n",
              "</table>\n",
              "</div>"
            ],
            "text/plain": [
              "   Programming Requirement(Austin)  Number  Percentage\n",
              "0                           Python     113   18.524590\n",
              "1                                C      53    8.688525\n",
              "2                              C++      42    6.885246\n",
              "3                             Java      47    7.704918\n",
              "4                          Tableau      36    5.901639\n",
              "5                              Pig       5    0.819672\n",
              "6                           Hadoop      26    4.262295\n",
              "7                              SQL      97   15.901639\n",
              "8                                R      72   11.803279\n",
              "9                       Javascript      12    1.967213\n",
              "10                            Hive      24    3.934426\n",
              "11                           Spark      56    9.180328\n",
              "12                             AWS      27    4.426230"
            ]
          },
          "metadata": {
            "tags": []
          },
          "execution_count": 30
        }
      ]
    },
    {
      "cell_type": "code",
      "metadata": {
        "colab_type": "code",
        "id": "M3f41DjROfbE",
        "outputId": "60304fd1-40cb-4739-c42a-969aa6402de6",
        "colab": {
          "base_uri": "https://localhost:8080/",
          "height": 575
        }
      },
      "source": [
        "plot = dfAU.plot.pie(y='Number', labels = dfAU['Programming Requirement(Austin)'], \n",
        "                     figsize=(10, 10),autopct='%1.1f%%',explode=(0.15, 0, 0, 0, 0,0,0,0,0,0,0,0,0))"
      ],
      "execution_count": 0,
      "outputs": [
        {
          "output_type": "display_data",
          "data": {
            "image/png": "[encoded data removed]",
            "text/plain": [
              "<Figure size 720x720 with 1 Axes>"
            ]
          },
          "metadata": {
            "tags": []
          }
        }
      ]
    },
    {
      "cell_type": "code",
      "metadata": {
        "colab_type": "code",
        "id": "2Ywn9-fLOyIf",
        "outputId": "0da1fc0d-4e54-41df-d4a3-93cafbe6f36a",
        "colab": {
          "base_uri": "https://localhost:8080/",
          "height": 357
        }
      },
      "source": [
        "#Washington DC\n",
        "title = []\n",
        "company = []\n",
        "location = []\n",
        "jd = []\n",
        "url = \"https://www.indeed.com/m/jobs?q=data+scientist&l=washington+dc\"\n",
        "for i in range(20):\n",
        "    \n",
        "    page = urlopen(url)\n",
        "    soup = BeautifulSoup(page, 'lxml')\n",
        "    all_matches = soup.findAll(attrs={'rel':['nofollow']})\n",
        "    for each in all_matches:\n",
        "        jd_url= 'http://www.indeed.com/m/'+each['href']\n",
        "        jd_page =urlopen(jd_url)\n",
        "        jd_soup = BeautifulSoup(jd_page, 'lxml')\n",
        "        jd_desc = jd_soup.findAll(attrs={'id':['desc']})\n",
        "        title.append(jd_soup.body.p.b.font.text)\n",
        "        company.append(jd_desc[0].span.text)\n",
        "        location.append(jd_soup.body.p.span.text)\n",
        "        jd.append(jd_desc[0].text)\n",
        "        \n",
        "    ## Change the pages to Next Page\n",
        "    url_all = soup.findAll(attrs={'rel':['next']})\n",
        "    print(url_all)\n",
        "    url = 'http://www.indeed.com/m/'+ str(url_all[0]['href'])"
      ],
      "execution_count": 0,
      "outputs": [
        {
          "output_type": "stream",
          "text": [
            "[<link href=\"jobs?q=data+scientist&amp;l=washington+dc&amp;start=10\" rel=\"next\"/>]\n",
            "[<link href=\"jobs?q=data+scientist&amp;l=washington+dc&amp;start=20\" rel=\"next\"/>]\n",
            "[<link href=\"jobs?q=data+scientist&amp;l=washington+dc&amp;start=30\" rel=\"next\"/>]\n",
            "[<link href=\"jobs?q=data+scientist&amp;l=washington+dc&amp;start=40\" rel=\"next\"/>]\n",
            "[<link href=\"jobs?q=data+scientist&amp;l=washington+dc&amp;start=50\" rel=\"next\"/>]\n",
            "[<link href=\"jobs?q=data+scientist&amp;l=washington+dc&amp;start=60\" rel=\"next\"/>]\n",
            "[<link href=\"jobs?q=data+scientist&amp;l=washington+dc&amp;start=70\" rel=\"next\"/>]\n",
            "[<link href=\"jobs?q=data+scientist&amp;l=washington+dc&amp;start=80\" rel=\"next\"/>]\n",
            "[<link href=\"jobs?q=data+scientist&amp;l=washington+dc&amp;start=90\" rel=\"next\"/>]\n",
            "[<link href=\"jobs?q=data+scientist&amp;l=washington+dc&amp;start=100\" rel=\"next\"/>]\n",
            "[<link href=\"jobs?q=data+scientist&amp;l=washington+dc&amp;start=110\" rel=\"next\"/>]\n",
            "[<link href=\"jobs?q=data+scientist&amp;l=washington+dc&amp;start=120\" rel=\"next\"/>]\n",
            "[<link href=\"jobs?q=data+scientist&amp;l=washington+dc&amp;start=130\" rel=\"next\"/>]\n",
            "[<link href=\"jobs?q=data+scientist&amp;l=washington+dc&amp;start=140\" rel=\"next\"/>]\n",
            "[<link href=\"jobs?q=data+scientist&amp;l=washington+dc&amp;start=150\" rel=\"next\"/>]\n",
            "[<link href=\"jobs?q=data+scientist&amp;l=washington+dc&amp;start=160\" rel=\"next\"/>]\n",
            "[<link href=\"jobs?q=data+scientist&amp;l=washington+dc&amp;start=170\" rel=\"next\"/>]\n",
            "[<link href=\"jobs?q=data+scientist&amp;l=washington+dc&amp;start=180\" rel=\"next\"/>]\n",
            "[<link href=\"jobs?q=data+scientist&amp;l=washington+dc&amp;start=190\" rel=\"next\"/>]\n",
            "[<link href=\"jobs?q=data+scientist&amp;l=washington+dc&amp;start=200\" rel=\"next\"/>]\n"
          ],
          "name": "stdout"
        }
      ]
    },
    {
      "cell_type": "code",
      "metadata": {
        "colab_type": "code",
        "id": "WY-Ux0PIO3z6",
        "outputId": "6a6339b3-7fc0-4e64-bcb6-ca3b5ecadd87",
        "colab": {
          "base_uri": "https://localhost:8080/",
          "height": 419
        }
      },
      "source": [
        "job = {'title': title,\n",
        "         'company': company,\n",
        "         'location': location,\n",
        "         'Job_Description': jd}\n",
        "dfDC = pd.DataFrame.from_dict(job)\n",
        "dfDC"
      ],
      "execution_count": 0,
      "outputs": [
        {
          "output_type": "execute_result",
          "data": {
            "text/html": [
              "<div>\n",
              "<style scoped>\n",
              "    .dataframe tbody tr th:only-of-type {\n",
              "        vertical-align: middle;\n",
              "    }\n",
              "\n",
              "    .dataframe tbody tr th {\n",
              "        vertical-align: top;\n",
              "    }\n",
              "\n",
              "    .dataframe thead th {\n",
              "        text-align: right;\n",
              "    }\n",
              "</style>\n",
              "<table border=\"1\" class=\"dataframe\">\n",
              "  <thead>\n",
              "    <tr style=\"text-align: right;\">\n",
              "      <th></th>\n",
              "      <th>title</th>\n",
              "      <th>company</th>\n",
              "      <th>location</th>\n",
              "      <th>Job_Description</th>\n",
              "    </tr>\n",
              "  </thead>\n",
              "  <tbody>\n",
              "    <tr>\n",
              "      <th>0</th>\n",
              "      <td>Federal - Data Scientist</td>\n",
              "      <td>Accenture</td>\n",
              "      <td>Washington, DC 20006</td>\n",
              "      <td>Organization: Accenture Federal Services\\nLoca...</td>\n",
              "    </tr>\n",
              "    <tr>\n",
              "      <th>1</th>\n",
              "      <td>Entry level Data Scientist</td>\n",
              "      <td>5 days ago</td>\n",
              "      <td>Herndon, VA</td>\n",
              "      <td>Job SummaryIdeal candidate should have a degre...</td>\n",
              "    </tr>\n",
              "    <tr>\n",
              "      <th>2</th>\n",
              "      <td>Graduate Studies Program - Data Scientist</td>\n",
              "      <td>Central Intelligence Agency</td>\n",
              "      <td>Washington, DC</td>\n",
              "      <td>As a Data Scientist Graduate Intern for the CI...</td>\n",
              "    </tr>\n",
              "    <tr>\n",
              "      <th>3</th>\n",
              "      <td>Data Scientist</td>\n",
              "      <td>Assent Advisory Group</td>\n",
              "      <td>Washington, DC</td>\n",
              "      <td>Full Time\\nWashington, D.C.\\nJob Description:\\...</td>\n",
              "    </tr>\n",
              "    <tr>\n",
              "      <th>4</th>\n",
              "      <td>Undergraduate Internship/Co-op Program - Data ...</td>\n",
              "      <td>Central Intelligence Agency</td>\n",
              "      <td>Washington, DC</td>\n",
              "      <td>As a Data Scientist Undergraduate Intern for t...</td>\n",
              "    </tr>\n",
              "    <tr>\n",
              "      <th>...</th>\n",
              "      <td>...</td>\n",
              "      <td>...</td>\n",
              "      <td>...</td>\n",
              "      <td>...</td>\n",
              "    </tr>\n",
              "    <tr>\n",
              "      <th>195</th>\n",
              "      <td>Data Scientist - Data Analyst - Campus Associate</td>\n",
              "      <td>Guidehouse</td>\n",
              "      <td>Washington, DC 20006</td>\n",
              "      <td>Overview\\nInterested in working with talented ...</td>\n",
              "    </tr>\n",
              "    <tr>\n",
              "      <th>196</th>\n",
              "      <td>Data Science Consultant</td>\n",
              "      <td>1 day ago</td>\n",
              "      <td>Herndon, VA 20170</td>\n",
              "      <td>Job SummaryIdeal candidate should have a degre...</td>\n",
              "    </tr>\n",
              "    <tr>\n",
              "      <th>197</th>\n",
              "      <td>Data Scientist</td>\n",
              "      <td>Nehemiah Security</td>\n",
              "      <td>Tysons Corner, VA</td>\n",
              "      <td>Nehemiah Security is in search of Mid to Senio...</td>\n",
              "    </tr>\n",
              "    <tr>\n",
              "      <th>198</th>\n",
              "      <td>Data Scientist</td>\n",
              "      <td>Datastrong</td>\n",
              "      <td>Washington, DC</td>\n",
              "      <td>Data Scientist/Data Engineer\\nLocation: Washin...</td>\n",
              "    </tr>\n",
              "    <tr>\n",
              "      <th>199</th>\n",
              "      <td>Data Analyst Senior</td>\n",
              "      <td>General Dynamics Information Technology</td>\n",
              "      <td>Alexandria, VA</td>\n",
              "      <td>Job Description\\nThis position is not yet fund...</td>\n",
              "    </tr>\n",
              "  </tbody>\n",
              "</table>\n",
              "<p>200 rows × 4 columns</p>\n",
              "</div>"
            ],
            "text/plain": [
              "                                                 title  ...                                    Job_Description\n",
              "0                             Federal - Data Scientist  ...  Organization: Accenture Federal Services\\nLoca...\n",
              "1                           Entry level Data Scientist  ...  Job SummaryIdeal candidate should have a degre...\n",
              "2            Graduate Studies Program - Data Scientist  ...  As a Data Scientist Graduate Intern for the CI...\n",
              "3                                       Data Scientist  ...  Full Time\\nWashington, D.C.\\nJob Description:\\...\n",
              "4    Undergraduate Internship/Co-op Program - Data ...  ...  As a Data Scientist Undergraduate Intern for t...\n",
              "..                                                 ...  ...                                                ...\n",
              "195   Data Scientist - Data Analyst - Campus Associate  ...  Overview\\nInterested in working with talented ...\n",
              "196                            Data Science Consultant  ...  Job SummaryIdeal candidate should have a degre...\n",
              "197                                     Data Scientist  ...  Nehemiah Security is in search of Mid to Senio...\n",
              "198                                     Data Scientist  ...  Data Scientist/Data Engineer\\nLocation: Washin...\n",
              "199                                Data Analyst Senior  ...  Job Description\\nThis position is not yet fund...\n",
              "\n",
              "[200 rows x 4 columns]"
            ]
          },
          "metadata": {
            "tags": []
          },
          "execution_count": 33
        }
      ]
    },
    {
      "cell_type": "code",
      "metadata": {
        "id": "At3pPXq85O1p",
        "colab_type": "code",
        "outputId": "f2ce81d9-66d4-47f3-cda2-f492e3d7e5dc",
        "colab": {
          "base_uri": "https://localhost:8080/",
          "height": 255
        }
      },
      "source": [
        "python = dfDC.Job_Description.str.contains(r'\\b[Pp][Yy][Tt][Hh][Oo][Nn]\\b').sum()\n",
        "print(python)\n",
        "C_Language = dfDC.Job_Description.str.contains(r'\\b[Cc](?<!\\+)\\b|\\b[Cc](?<!\\#)\\b').sum()\n",
        "print(C_Language)\n",
        "Java = dfDC.Job_Description.str.contains(r'\\b[Jj][Aa][Vv][Aa]\\b').sum()\n",
        "print(Java)\n",
        "Tableau = dfDC.Job_Description.str.contains(r'\\b[Tt][Aa][Bb][Ll][Ee][Aa][Uu]').sum()\n",
        "print(Tableau)\n",
        "AWS = dfDC.Job_Description.str.contains(r'\\b[Aa][Ww][Ss]\\b|\\b[Aa]mazon [Ww]eb [Ss]ervice\\b').sum()\n",
        "print(AWS)\n",
        "Pig = dfDC.Job_Description.str.contains(r'\\b[Pp][Ii][Gg]\\b').sum()\n",
        "print(Pig)\n",
        "Hive = dfDC.Job_Description.str.contains(r'\\b[Hh][Ii][Vv][Ee]\\b').sum()\n",
        "print(Hive)\n",
        "Hadoop = dfDC.Job_Description.str.contains(r'\\b[Hh][Aa][Dd][Oo][Oo][Pp]\\b').sum()\n",
        "print(Hadoop)\n",
        "SQL = dfDC.Job_Description.str.contains(r'[Ss][Qq][Ll]|[Qq]uery [Ll]anguage').sum()\n",
        "print(SQL)\n",
        "R = dfDC.Job_Description.str.contains(r'\\b[Rr]\\b').sum()\n",
        "print(R)\n",
        "C_Plus_Plus = dfDC.Job_Description.str.contains(r'\\b[Cc]\\+{2}').sum()\n",
        "print(C_Plus_Plus)\n",
        "Javascript = dfDC.Job_Description.str.contains(r'\\b[Jj][Aa][Vv][Aa][Ss][Cc][Rr][Ii][Pp][Tt]\\b').sum()\n",
        "print(Javascript)\n",
        "Spark = dfDC.Job_Description.str.contains(r'\\b[Ss][Pp][Aa][Rr][Kk]\\b').sum()\n",
        "print(Spark)\n",
        "total = python + Javascript + C_Plus_Plus + R + SQL + AWS + Java + Pig + Hive + Hadoop + C_Language + Spark + Tableau\n",
        "total"
      ],
      "execution_count": 0,
      "outputs": [
        {
          "output_type": "stream",
          "text": [
            "129\n",
            "42\n",
            "32\n",
            "45\n",
            "41\n",
            "8\n",
            "16\n",
            "21\n",
            "103\n",
            "105\n",
            "15\n",
            "6\n",
            "35\n"
          ],
          "name": "stdout"
        },
        {
          "output_type": "execute_result",
          "data": {
            "text/plain": [
              "598"
            ]
          },
          "metadata": {
            "tags": []
          },
          "execution_count": 34
        }
      ]
    },
    {
      "cell_type": "code",
      "metadata": {
        "colab_type": "code",
        "id": "Jk5F955zPY9q",
        "colab": {}
      },
      "source": [
        "dataDC = [['Python',python, (python/total)*100],\n",
        "          ['C',C_Language, (C_Language/total)*100],['C++', C_Plus_Plus,(C_Plus_Plus/total)*100],\n",
        "          ['Java',Java,(Java/total)*100],['Tableau',Tableau,(Tableau/total)*100],\n",
        "          ['Pig',Pig,(Pig/total)*100],['Hadoop',Hadoop,(Hadoop/total)*100],\n",
        "          ['SQL',SQL,(SQL/total)*100],['R',R,(R/total)*100],['Javascript',Javascript,(Javascript/total)*100],['Hive',Hive,(Hive/total)*100],\n",
        "          ['Spark',Spark,(Spark/total)*100],['AWS',AWS,(AWS/total)*100]]"
      ],
      "execution_count": 0,
      "outputs": []
    },
    {
      "cell_type": "code",
      "metadata": {
        "colab_type": "code",
        "id": "7jdLTCJKPcKv",
        "outputId": "b94d79f0-f84a-4f3b-e6bf-80dcb24ee01e",
        "colab": {
          "base_uri": "https://localhost:8080/",
          "height": 452
        }
      },
      "source": [
        "dfDC = pd.DataFrame(dataDC, columns = ['Programming Requirement(DC)', 'Number', 'Percentage']) \n",
        "dfDC"
      ],
      "execution_count": 0,
      "outputs": [
        {
          "output_type": "execute_result",
          "data": {
            "text/html": [
              "<div>\n",
              "<style scoped>\n",
              "    .dataframe tbody tr th:only-of-type {\n",
              "        vertical-align: middle;\n",
              "    }\n",
              "\n",
              "    .dataframe tbody tr th {\n",
              "        vertical-align: top;\n",
              "    }\n",
              "\n",
              "    .dataframe thead th {\n",
              "        text-align: right;\n",
              "    }\n",
              "</style>\n",
              "<table border=\"1\" class=\"dataframe\">\n",
              "  <thead>\n",
              "    <tr style=\"text-align: right;\">\n",
              "      <th></th>\n",
              "      <th>Programming Requirement(DC)</th>\n",
              "      <th>Number</th>\n",
              "      <th>Percentage</th>\n",
              "    </tr>\n",
              "  </thead>\n",
              "  <tbody>\n",
              "    <tr>\n",
              "      <th>0</th>\n",
              "      <td>Python</td>\n",
              "      <td>129</td>\n",
              "      <td>21.571906</td>\n",
              "    </tr>\n",
              "    <tr>\n",
              "      <th>1</th>\n",
              "      <td>C</td>\n",
              "      <td>42</td>\n",
              "      <td>7.023411</td>\n",
              "    </tr>\n",
              "    <tr>\n",
              "      <th>2</th>\n",
              "      <td>C++</td>\n",
              "      <td>15</td>\n",
              "      <td>2.508361</td>\n",
              "    </tr>\n",
              "    <tr>\n",
              "      <th>3</th>\n",
              "      <td>Java</td>\n",
              "      <td>32</td>\n",
              "      <td>5.351171</td>\n",
              "    </tr>\n",
              "    <tr>\n",
              "      <th>4</th>\n",
              "      <td>Tableau</td>\n",
              "      <td>45</td>\n",
              "      <td>7.525084</td>\n",
              "    </tr>\n",
              "    <tr>\n",
              "      <th>5</th>\n",
              "      <td>Pig</td>\n",
              "      <td>8</td>\n",
              "      <td>1.337793</td>\n",
              "    </tr>\n",
              "    <tr>\n",
              "      <th>6</th>\n",
              "      <td>Hadoop</td>\n",
              "      <td>21</td>\n",
              "      <td>3.511706</td>\n",
              "    </tr>\n",
              "    <tr>\n",
              "      <th>7</th>\n",
              "      <td>SQL</td>\n",
              "      <td>103</td>\n",
              "      <td>17.224080</td>\n",
              "    </tr>\n",
              "    <tr>\n",
              "      <th>8</th>\n",
              "      <td>R</td>\n",
              "      <td>105</td>\n",
              "      <td>17.558528</td>\n",
              "    </tr>\n",
              "    <tr>\n",
              "      <th>9</th>\n",
              "      <td>Javascript</td>\n",
              "      <td>6</td>\n",
              "      <td>1.003344</td>\n",
              "    </tr>\n",
              "    <tr>\n",
              "      <th>10</th>\n",
              "      <td>Hive</td>\n",
              "      <td>16</td>\n",
              "      <td>2.675585</td>\n",
              "    </tr>\n",
              "    <tr>\n",
              "      <th>11</th>\n",
              "      <td>Spark</td>\n",
              "      <td>35</td>\n",
              "      <td>5.852843</td>\n",
              "    </tr>\n",
              "    <tr>\n",
              "      <th>12</th>\n",
              "      <td>AWS</td>\n",
              "      <td>41</td>\n",
              "      <td>6.856187</td>\n",
              "    </tr>\n",
              "  </tbody>\n",
              "</table>\n",
              "</div>"
            ],
            "text/plain": [
              "   Programming Requirement(DC)  Number  Percentage\n",
              "0                       Python     129   21.571906\n",
              "1                            C      42    7.023411\n",
              "2                          C++      15    2.508361\n",
              "3                         Java      32    5.351171\n",
              "4                      Tableau      45    7.525084\n",
              "5                          Pig       8    1.337793\n",
              "6                       Hadoop      21    3.511706\n",
              "7                          SQL     103   17.224080\n",
              "8                            R     105   17.558528\n",
              "9                   Javascript       6    1.003344\n",
              "10                        Hive      16    2.675585\n",
              "11                       Spark      35    5.852843\n",
              "12                         AWS      41    6.856187"
            ]
          },
          "metadata": {
            "tags": []
          },
          "execution_count": 36
        }
      ]
    },
    {
      "cell_type": "code",
      "metadata": {
        "colab_type": "code",
        "id": "AYIMepGqPhqS",
        "outputId": "70a4964c-42d1-4269-fb95-f35ae6989bd2",
        "colab": {
          "base_uri": "https://localhost:8080/",
          "height": 575
        }
      },
      "source": [
        "plot = dfDC.plot.pie(y='Number', labels = dfDC['Programming Requirement(DC)'], \n",
        "                     figsize=(10, 10),autopct='%1.1f%%',\n",
        "                     explode=(0.15, 0, 0, 0, 0,0,0,0,0,0,0,0,0))"
      ],
      "execution_count": 0,
      "outputs": [
        {
          "output_type": "display_data",
          "data": {
            "image/png": "[encoded data removed]",
            "text/plain": [
              "<Figure size 720x720 with 1 Axes>"
            ]
          },
          "metadata": {
            "tags": []
          }
        }
      ]
    },
    {
      "cell_type": "markdown",
      "metadata": {
        "colab_type": "text",
        "id": "Q85WQuW5QTuO"
      },
      "source": [
        "Combine all of the cities"
      ]
    },
    {
      "cell_type": "code",
      "metadata": {
        "colab_type": "code",
        "id": "hRG2t47YQTPv",
        "colab": {}
      },
      "source": [
        "cityset = ['Los+Angeles',\n",
        "          'San+Francisco',\n",
        "          'Boston',\n",
        "          'New+York',\n",
        "          'Chicago',\n",
        "          'Austin',\n",
        "          'DC']"
      ],
      "execution_count": 0,
      "outputs": []
    },
    {
      "cell_type": "code",
      "metadata": {
        "colab_type": "code",
        "id": "8h8-K6TqQbEM",
        "outputId": "bf8e4fed-0470-4f0c-9bfd-f00d3ba4a45f",
        "colab": {
          "base_uri": "https://localhost:8080/",
          "height": 1000
        }
      },
      "source": [
        "MR = 20\n",
        "cities = []\n",
        "titles = []\n",
        "companies = []\n",
        "locations = []\n",
        "jd = []\n",
        "\n",
        "for city in cityset:\n",
        "    url = 'https://www.indeed.com/m/jobs?q=data+scientist&l=' + str(city)\n",
        "    print(city)\n",
        "    \n",
        "    for i in range(0,MR):\n",
        "        page = urlopen(url)\n",
        "        soup = BeautifulSoup(page, 'lxml')\n",
        "        all_matches = soup.findAll(attrs = {'rel':['nofollow']})\n",
        "        \n",
        "        for each in all_matches:\n",
        "            jd_url= 'https://www.indeed.com/m/'+each['href']\n",
        "            jd_page =urlopen(jd_url)\n",
        "            jd_soup = BeautifulSoup(jd_page, 'lxml')\n",
        "            jd_desc = jd_soup.findAll(attrs={'id':['desc']})\n",
        "            titles.append(jd_soup.body.p.b.font.text)\n",
        "            cities.append(city)\n",
        "            companies.append(jd_desc[0].span.text)\n",
        "            locations.append(jd_soup.body.p.span.text)\n",
        "            jd.append(jd_desc[0].text)\n",
        "        url = 'https://www.indeed.com/m/jobs?q=data+scientist&l=' + str(city) + '&start=' +str((i+1)*10)\n",
        "        print(url)"
      ],
      "execution_count": 0,
      "outputs": [
        {
          "output_type": "stream",
          "text": [
            "Los+Angeles\n",
            "https://www.indeed.com/m/jobs?q=data+scientist&l=Los+Angeles&start=10\n",
            "https://www.indeed.com/m/jobs?q=data+scientist&l=Los+Angeles&start=20\n",
            "https://www.indeed.com/m/jobs?q=data+scientist&l=Los+Angeles&start=30\n",
            "https://www.indeed.com/m/jobs?q=data+scientist&l=Los+Angeles&start=40\n",
            "https://www.indeed.com/m/jobs?q=data+scientist&l=Los+Angeles&start=50\n",
            "https://www.indeed.com/m/jobs?q=data+scientist&l=Los+Angeles&start=60\n",
            "https://www.indeed.com/m/jobs?q=data+scientist&l=Los+Angeles&start=70\n",
            "https://www.indeed.com/m/jobs?q=data+scientist&l=Los+Angeles&start=80\n",
            "https://www.indeed.com/m/jobs?q=data+scientist&l=Los+Angeles&start=90\n",
            "https://www.indeed.com/m/jobs?q=data+scientist&l=Los+Angeles&start=100\n",
            "https://www.indeed.com/m/jobs?q=data+scientist&l=Los+Angeles&start=110\n",
            "https://www.indeed.com/m/jobs?q=data+scientist&l=Los+Angeles&start=120\n",
            "https://www.indeed.com/m/jobs?q=data+scientist&l=Los+Angeles&start=130\n",
            "https://www.indeed.com/m/jobs?q=data+scientist&l=Los+Angeles&start=140\n",
            "https://www.indeed.com/m/jobs?q=data+scientist&l=Los+Angeles&start=150\n",
            "https://www.indeed.com/m/jobs?q=data+scientist&l=Los+Angeles&start=160\n",
            "https://www.indeed.com/m/jobs?q=data+scientist&l=Los+Angeles&start=170\n",
            "https://www.indeed.com/m/jobs?q=data+scientist&l=Los+Angeles&start=180\n",
            "https://www.indeed.com/m/jobs?q=data+scientist&l=Los+Angeles&start=190\n",
            "https://www.indeed.com/m/jobs?q=data+scientist&l=Los+Angeles&start=200\n",
            "San+Francisco\n",
            "https://www.indeed.com/m/jobs?q=data+scientist&l=San+Francisco&start=10\n",
            "https://www.indeed.com/m/jobs?q=data+scientist&l=San+Francisco&start=20\n",
            "https://www.indeed.com/m/jobs?q=data+scientist&l=San+Francisco&start=30\n",
            "https://www.indeed.com/m/jobs?q=data+scientist&l=San+Francisco&start=40\n",
            "https://www.indeed.com/m/jobs?q=data+scientist&l=San+Francisco&start=50\n",
            "https://www.indeed.com/m/jobs?q=data+scientist&l=San+Francisco&start=60\n",
            "https://www.indeed.com/m/jobs?q=data+scientist&l=San+Francisco&start=70\n",
            "https://www.indeed.com/m/jobs?q=data+scientist&l=San+Francisco&start=80\n",
            "https://www.indeed.com/m/jobs?q=data+scientist&l=San+Francisco&start=90\n",
            "https://www.indeed.com/m/jobs?q=data+scientist&l=San+Francisco&start=100\n",
            "https://www.indeed.com/m/jobs?q=data+scientist&l=San+Francisco&start=110\n",
            "https://www.indeed.com/m/jobs?q=data+scientist&l=San+Francisco&start=120\n",
            "https://www.indeed.com/m/jobs?q=data+scientist&l=San+Francisco&start=130\n",
            "https://www.indeed.com/m/jobs?q=data+scientist&l=San+Francisco&start=140\n",
            "https://www.indeed.com/m/jobs?q=data+scientist&l=San+Francisco&start=150\n",
            "https://www.indeed.com/m/jobs?q=data+scientist&l=San+Francisco&start=160\n",
            "https://www.indeed.com/m/jobs?q=data+scientist&l=San+Francisco&start=170\n",
            "https://www.indeed.com/m/jobs?q=data+scientist&l=San+Francisco&start=180\n",
            "https://www.indeed.com/m/jobs?q=data+scientist&l=San+Francisco&start=190\n",
            "https://www.indeed.com/m/jobs?q=data+scientist&l=San+Francisco&start=200\n",
            "Boston\n",
            "https://www.indeed.com/m/jobs?q=data+scientist&l=Boston&start=10\n",
            "https://www.indeed.com/m/jobs?q=data+scientist&l=Boston&start=20\n",
            "https://www.indeed.com/m/jobs?q=data+scientist&l=Boston&start=30\n",
            "https://www.indeed.com/m/jobs?q=data+scientist&l=Boston&start=40\n",
            "https://www.indeed.com/m/jobs?q=data+scientist&l=Boston&start=50\n",
            "https://www.indeed.com/m/jobs?q=data+scientist&l=Boston&start=60\n",
            "https://www.indeed.com/m/jobs?q=data+scientist&l=Boston&start=70\n",
            "https://www.indeed.com/m/jobs?q=data+scientist&l=Boston&start=80\n",
            "https://www.indeed.com/m/jobs?q=data+scientist&l=Boston&start=90\n",
            "https://www.indeed.com/m/jobs?q=data+scientist&l=Boston&start=100\n",
            "https://www.indeed.com/m/jobs?q=data+scientist&l=Boston&start=110\n",
            "https://www.indeed.com/m/jobs?q=data+scientist&l=Boston&start=120\n",
            "https://www.indeed.com/m/jobs?q=data+scientist&l=Boston&start=130\n",
            "https://www.indeed.com/m/jobs?q=data+scientist&l=Boston&start=140\n",
            "https://www.indeed.com/m/jobs?q=data+scientist&l=Boston&start=150\n",
            "https://www.indeed.com/m/jobs?q=data+scientist&l=Boston&start=160\n",
            "https://www.indeed.com/m/jobs?q=data+scientist&l=Boston&start=170\n",
            "https://www.indeed.com/m/jobs?q=data+scientist&l=Boston&start=180\n",
            "https://www.indeed.com/m/jobs?q=data+scientist&l=Boston&start=190\n",
            "https://www.indeed.com/m/jobs?q=data+scientist&l=Boston&start=200\n",
            "New+York\n",
            "https://www.indeed.com/m/jobs?q=data+scientist&l=New+York&start=10\n",
            "https://www.indeed.com/m/jobs?q=data+scientist&l=New+York&start=20\n",
            "https://www.indeed.com/m/jobs?q=data+scientist&l=New+York&start=30\n",
            "https://www.indeed.com/m/jobs?q=data+scientist&l=New+York&start=40\n",
            "https://www.indeed.com/m/jobs?q=data+scientist&l=New+York&start=50\n",
            "https://www.indeed.com/m/jobs?q=data+scientist&l=New+York&start=60\n",
            "https://www.indeed.com/m/jobs?q=data+scientist&l=New+York&start=70\n",
            "https://www.indeed.com/m/jobs?q=data+scientist&l=New+York&start=80\n",
            "https://www.indeed.com/m/jobs?q=data+scientist&l=New+York&start=90\n",
            "https://www.indeed.com/m/jobs?q=data+scientist&l=New+York&start=100\n",
            "https://www.indeed.com/m/jobs?q=data+scientist&l=New+York&start=110\n",
            "https://www.indeed.com/m/jobs?q=data+scientist&l=New+York&start=120\n",
            "https://www.indeed.com/m/jobs?q=data+scientist&l=New+York&start=130\n",
            "https://www.indeed.com/m/jobs?q=data+scientist&l=New+York&start=140\n",
            "https://www.indeed.com/m/jobs?q=data+scientist&l=New+York&start=150\n",
            "https://www.indeed.com/m/jobs?q=data+scientist&l=New+York&start=160\n",
            "https://www.indeed.com/m/jobs?q=data+scientist&l=New+York&start=170\n",
            "https://www.indeed.com/m/jobs?q=data+scientist&l=New+York&start=180\n",
            "https://www.indeed.com/m/jobs?q=data+scientist&l=New+York&start=190\n",
            "https://www.indeed.com/m/jobs?q=data+scientist&l=New+York&start=200\n",
            "Chicago\n",
            "https://www.indeed.com/m/jobs?q=data+scientist&l=Chicago&start=10\n",
            "https://www.indeed.com/m/jobs?q=data+scientist&l=Chicago&start=20\n",
            "https://www.indeed.com/m/jobs?q=data+scientist&l=Chicago&start=30\n",
            "https://www.indeed.com/m/jobs?q=data+scientist&l=Chicago&start=40\n",
            "https://www.indeed.com/m/jobs?q=data+scientist&l=Chicago&start=50\n",
            "https://www.indeed.com/m/jobs?q=data+scientist&l=Chicago&start=60\n",
            "https://www.indeed.com/m/jobs?q=data+scientist&l=Chicago&start=70\n",
            "https://www.indeed.com/m/jobs?q=data+scientist&l=Chicago&start=80\n",
            "https://www.indeed.com/m/jobs?q=data+scientist&l=Chicago&start=90\n",
            "https://www.indeed.com/m/jobs?q=data+scientist&l=Chicago&start=100\n",
            "https://www.indeed.com/m/jobs?q=data+scientist&l=Chicago&start=110\n",
            "https://www.indeed.com/m/jobs?q=data+scientist&l=Chicago&start=120\n",
            "https://www.indeed.com/m/jobs?q=data+scientist&l=Chicago&start=130\n",
            "https://www.indeed.com/m/jobs?q=data+scientist&l=Chicago&start=140\n",
            "https://www.indeed.com/m/jobs?q=data+scientist&l=Chicago&start=150\n",
            "https://www.indeed.com/m/jobs?q=data+scientist&l=Chicago&start=160\n",
            "https://www.indeed.com/m/jobs?q=data+scientist&l=Chicago&start=170\n",
            "https://www.indeed.com/m/jobs?q=data+scientist&l=Chicago&start=180\n",
            "https://www.indeed.com/m/jobs?q=data+scientist&l=Chicago&start=190\n",
            "https://www.indeed.com/m/jobs?q=data+scientist&l=Chicago&start=200\n",
            "Austin\n",
            "https://www.indeed.com/m/jobs?q=data+scientist&l=Austin&start=10\n",
            "https://www.indeed.com/m/jobs?q=data+scientist&l=Austin&start=20\n",
            "https://www.indeed.com/m/jobs?q=data+scientist&l=Austin&start=30\n",
            "https://www.indeed.com/m/jobs?q=data+scientist&l=Austin&start=40\n",
            "https://www.indeed.com/m/jobs?q=data+scientist&l=Austin&start=50\n",
            "https://www.indeed.com/m/jobs?q=data+scientist&l=Austin&start=60\n",
            "https://www.indeed.com/m/jobs?q=data+scientist&l=Austin&start=70\n",
            "https://www.indeed.com/m/jobs?q=data+scientist&l=Austin&start=80\n",
            "https://www.indeed.com/m/jobs?q=data+scientist&l=Austin&start=90\n",
            "https://www.indeed.com/m/jobs?q=data+scientist&l=Austin&start=100\n",
            "https://www.indeed.com/m/jobs?q=data+scientist&l=Austin&start=110\n",
            "https://www.indeed.com/m/jobs?q=data+scientist&l=Austin&start=120\n",
            "https://www.indeed.com/m/jobs?q=data+scientist&l=Austin&start=130\n",
            "https://www.indeed.com/m/jobs?q=data+scientist&l=Austin&start=140\n",
            "https://www.indeed.com/m/jobs?q=data+scientist&l=Austin&start=150\n",
            "https://www.indeed.com/m/jobs?q=data+scientist&l=Austin&start=160\n",
            "https://www.indeed.com/m/jobs?q=data+scientist&l=Austin&start=170\n",
            "https://www.indeed.com/m/jobs?q=data+scientist&l=Austin&start=180\n",
            "https://www.indeed.com/m/jobs?q=data+scientist&l=Austin&start=190\n",
            "https://www.indeed.com/m/jobs?q=data+scientist&l=Austin&start=200\n",
            "DC\n",
            "https://www.indeed.com/m/jobs?q=data+scientist&l=DC&start=10\n",
            "https://www.indeed.com/m/jobs?q=data+scientist&l=DC&start=20\n",
            "https://www.indeed.com/m/jobs?q=data+scientist&l=DC&start=30\n",
            "https://www.indeed.com/m/jobs?q=data+scientist&l=DC&start=40\n",
            "https://www.indeed.com/m/jobs?q=data+scientist&l=DC&start=50\n",
            "https://www.indeed.com/m/jobs?q=data+scientist&l=DC&start=60\n",
            "https://www.indeed.com/m/jobs?q=data+scientist&l=DC&start=70\n",
            "https://www.indeed.com/m/jobs?q=data+scientist&l=DC&start=80\n",
            "https://www.indeed.com/m/jobs?q=data+scientist&l=DC&start=90\n",
            "https://www.indeed.com/m/jobs?q=data+scientist&l=DC&start=100\n",
            "https://www.indeed.com/m/jobs?q=data+scientist&l=DC&start=110\n",
            "https://www.indeed.com/m/jobs?q=data+scientist&l=DC&start=120\n",
            "https://www.indeed.com/m/jobs?q=data+scientist&l=DC&start=130\n",
            "https://www.indeed.com/m/jobs?q=data+scientist&l=DC&start=140\n",
            "https://www.indeed.com/m/jobs?q=data+scientist&l=DC&start=150\n",
            "https://www.indeed.com/m/jobs?q=data+scientist&l=DC&start=160\n",
            "https://www.indeed.com/m/jobs?q=data+scientist&l=DC&start=170\n",
            "https://www.indeed.com/m/jobs?q=data+scientist&l=DC&start=180\n",
            "https://www.indeed.com/m/jobs?q=data+scientist&l=DC&start=190\n",
            "https://www.indeed.com/m/jobs?q=data+scientist&l=DC&start=200\n"
          ],
          "name": "stdout"
        }
      ]
    },
    {
      "cell_type": "code",
      "metadata": {
        "colab_type": "code",
        "id": "lJsAaAG7Qd-X",
        "outputId": "6e534e41-91dc-4b0d-a0e8-8fc58475f447",
        "colab": {
          "base_uri": "https://localhost:8080/",
          "height": 555
        }
      },
      "source": [
        "job_city = {'city': cities, 'title':titles, 'company':companies, 'location':locations, 'jd':jd}\n",
        "dfcity = pd.DataFrame.from_dict(job_city)\n",
        "dfcity.to_csv('city.csv')\n",
        "dfcity"
      ],
      "execution_count": 0,
      "outputs": [
        {
          "output_type": "execute_result",
          "data": {
            "text/html": [
              "<div>\n",
              "<style scoped>\n",
              "    .dataframe tbody tr th:only-of-type {\n",
              "        vertical-align: middle;\n",
              "    }\n",
              "\n",
              "    .dataframe tbody tr th {\n",
              "        vertical-align: top;\n",
              "    }\n",
              "\n",
              "    .dataframe thead th {\n",
              "        text-align: right;\n",
              "    }\n",
              "</style>\n",
              "<table border=\"1\" class=\"dataframe\">\n",
              "  <thead>\n",
              "    <tr style=\"text-align: right;\">\n",
              "      <th></th>\n",
              "      <th>city</th>\n",
              "      <th>title</th>\n",
              "      <th>company</th>\n",
              "      <th>location</th>\n",
              "      <th>jd</th>\n",
              "    </tr>\n",
              "  </thead>\n",
              "  <tbody>\n",
              "    <tr>\n",
              "      <th>0</th>\n",
              "      <td>Los+Angeles</td>\n",
              "      <td>Data Scientist</td>\n",
              "      <td>Deloitte</td>\n",
              "      <td>Los Angeles, CA 90013</td>\n",
              "      <td>Deloitte Services LP includes internal support...</td>\n",
              "    </tr>\n",
              "    <tr>\n",
              "      <th>1</th>\n",
              "      <td>Los+Angeles</td>\n",
              "      <td>Data Scientist</td>\n",
              "      <td>AvantStay</td>\n",
              "      <td>Los Angeles, CA</td>\n",
              "      <td>Who we are...\\nAvantStay delivers exceptional,...</td>\n",
              "    </tr>\n",
              "    <tr>\n",
              "      <th>2</th>\n",
              "      <td>Los+Angeles</td>\n",
              "      <td>Data Scientist I - (Part-time)</td>\n",
              "      <td>Columbus Technologies and Services, Inc.</td>\n",
              "      <td>Pasadena, CA 91101</td>\n",
              "      <td>Must be a US Citizen\\nEstimated duration of 12...</td>\n",
              "    </tr>\n",
              "    <tr>\n",
              "      <th>3</th>\n",
              "      <td>Los+Angeles</td>\n",
              "      <td>Data Scientist</td>\n",
              "      <td>Age of Learning</td>\n",
              "      <td>Glendale, CA 91203</td>\n",
              "      <td>Company Overview:\\nAge of Learning is a leadin...</td>\n",
              "    </tr>\n",
              "    <tr>\n",
              "      <th>4</th>\n",
              "      <td>Los+Angeles</td>\n",
              "      <td>Data Scientist</td>\n",
              "      <td>NBCUniversal</td>\n",
              "      <td>Beverly Hills, CA</td>\n",
              "      <td>Fandango is seeking a driven, analytically cur...</td>\n",
              "    </tr>\n",
              "    <tr>\n",
              "      <th>...</th>\n",
              "      <td>...</td>\n",
              "      <td>...</td>\n",
              "      <td>...</td>\n",
              "      <td>...</td>\n",
              "      <td>...</td>\n",
              "    </tr>\n",
              "    <tr>\n",
              "      <th>1394</th>\n",
              "      <td>DC</td>\n",
              "      <td>Social/Data Scientist, Military Personnel Anal...</td>\n",
              "      <td>Fors Marsh Group</td>\n",
              "      <td>Arlington, VA 22201</td>\n",
              "      <td>At Fors Marsh Group (FMG), we combine the powe...</td>\n",
              "    </tr>\n",
              "    <tr>\n",
              "      <th>1395</th>\n",
              "      <td>DC</td>\n",
              "      <td>Data Scientist</td>\n",
              "      <td>The Cadmus Group, Inc.</td>\n",
              "      <td>Washington, DC</td>\n",
              "      <td>At Cadmus, our Homeland Security Sector provid...</td>\n",
              "    </tr>\n",
              "    <tr>\n",
              "      <th>1396</th>\n",
              "      <td>DC</td>\n",
              "      <td>Computer Scientist / Data Analytic</td>\n",
              "      <td>D3 AIR AND SPACE OPERATIONS INC</td>\n",
              "      <td>Washington, DC 20024</td>\n",
              "      <td>D3 Air and Space Operations has a contingency ...</td>\n",
              "    </tr>\n",
              "    <tr>\n",
              "      <th>1397</th>\n",
              "      <td>DC</td>\n",
              "      <td>Machine Learning Scientist, Customer Resiliency</td>\n",
              "      <td>Capital One</td>\n",
              "      <td>McLean, VA</td>\n",
              "      <td>McLean 2 (19052), United States of America, Mc...</td>\n",
              "    </tr>\n",
              "    <tr>\n",
              "      <th>1398</th>\n",
              "      <td>DC</td>\n",
              "      <td>Data Analyst - Scientist</td>\n",
              "      <td>RCG Inc</td>\n",
              "      <td>Washington, DC 20220</td>\n",
              "      <td>RCG is seeking a Database Analyst/Scientist fo...</td>\n",
              "    </tr>\n",
              "  </tbody>\n",
              "</table>\n",
              "<p>1399 rows × 5 columns</p>\n",
              "</div>"
            ],
            "text/plain": [
              "             city  ...                                                 jd\n",
              "0     Los+Angeles  ...  Deloitte Services LP includes internal support...\n",
              "1     Los+Angeles  ...  Who we are...\\nAvantStay delivers exceptional,...\n",
              "2     Los+Angeles  ...  Must be a US Citizen\\nEstimated duration of 12...\n",
              "3     Los+Angeles  ...  Company Overview:\\nAge of Learning is a leadin...\n",
              "4     Los+Angeles  ...  Fandango is seeking a driven, analytically cur...\n",
              "...           ...  ...                                                ...\n",
              "1394           DC  ...  At Fors Marsh Group (FMG), we combine the powe...\n",
              "1395           DC  ...  At Cadmus, our Homeland Security Sector provid...\n",
              "1396           DC  ...  D3 Air and Space Operations has a contingency ...\n",
              "1397           DC  ...  McLean 2 (19052), United States of America, Mc...\n",
              "1398           DC  ...  RCG is seeking a Database Analyst/Scientist fo...\n",
              "\n",
              "[1399 rows x 5 columns]"
            ]
          },
          "metadata": {
            "tags": []
          },
          "execution_count": 42
        }
      ]
    },
    {
      "cell_type": "code",
      "metadata": {
        "colab_type": "code",
        "id": "b6D_X8MTVKO7",
        "outputId": "d453ab7a-a802-495f-b5c5-80712c65ba35",
        "colab": {
          "base_uri": "https://localhost:8080/",
          "height": 34
        }
      },
      "source": [
        "dfcity[dfcity['city'] == 'Los+Angeles']\n",
        "dfcity[dfcity['city'] == 'San+Francisco']\n",
        "dfcity[dfcity['city'] == 'Boston']\n",
        "dfcity[dfcity['city'] == 'New+York']\n",
        "dfcity[dfcity['city'] == 'Chicago']\n",
        "dfcity[dfcity['city'] == 'Austin']\n",
        "dfcity[dfcity['city'] == 'DC']\n",
        "\n",
        "pythonlist=[]\n",
        "pythonlist.append(dfcity[dfcity['city'] == 'Los+Angeles'].jd.str.contains(r'\\b[Pp][Yy][Tt][Hh][Oo][Nn]\\b').sum())\n",
        "pythonlist.append(dfcity[dfcity['city'] == 'San+Francisco'].jd.str.contains(r'\\b[Pp][Yy][Tt][Hh][Oo][Nn]\\b').sum())\n",
        "pythonlist.append(dfcity[dfcity['city'] == 'Boston'].jd.str.contains(r'\\b[Pp][Yy][Tt][Hh][Oo][Nn]\\b').sum())\n",
        "pythonlist.append(dfcity[dfcity['city'] == 'New+York'].jd.str.contains(r'\\b[Pp][Yy][Tt][Hh][Oo][Nn]\\b').sum())\n",
        "pythonlist.append(dfcity[dfcity['city'] == 'Chicago'].jd.str.contains(r'\\b[Pp][Yy][Tt][Hh][Oo][Nn]\\b').sum())\n",
        "pythonlist.append(dfcity[dfcity['city'] == 'Austin'].jd.str.contains(r'\\b[Pp][Yy][Tt][Hh][Oo][Nn]\\b').sum())\n",
        "pythonlist.append(dfcity[dfcity['city'] == 'DC'].jd.str.contains(r'\\b[Pp][Yy][Tt][Hh][Oo][Nn]\\b').sum())\n",
        "pythonlist"
      ],
      "execution_count": 0,
      "outputs": [
        {
          "output_type": "execute_result",
          "data": {
            "text/plain": [
              "[145, 157, 142, 164, 145, 123, 127]"
            ]
          },
          "metadata": {
            "tags": []
          },
          "execution_count": 43
        }
      ]
    },
    {
      "cell_type": "code",
      "metadata": {
        "colab_type": "code",
        "id": "19e77hQMY7Qg",
        "outputId": "15331dcb-27dc-4260-fbcb-d01919b68f0c",
        "colab": {
          "base_uri": "https://localhost:8080/",
          "height": 34
        }
      },
      "source": [
        "Clist=[]\n",
        "Clist.append(dfcity[dfcity['city'] == 'Los+Angeles'].jd.str.contains(r'\\b[Cc](?<!\\+)\\b|\\b[Cc](?<!\\#)\\b').sum())\n",
        "Clist.append(dfcity[dfcity['city'] == 'San+Francisco'].jd.str.contains(r'\\b[Cc](?<!\\+)\\b|\\b[Cc](?<!\\#)\\b').sum())\n",
        "Clist.append(dfcity[dfcity['city'] == 'Boston'].jd.str.contains(r'\\b[Cc](?<!\\+)\\b|\\b[Cc](?<!\\#)\\b').sum())\n",
        "Clist.append(dfcity[dfcity['city'] == 'New+York'].jd.str.contains(r'\\b[Cc](?<!\\+)\\b|\\b[Cc](?<!\\#)\\b').sum())\n",
        "Clist.append(dfcity[dfcity['city'] == 'Chicago'].jd.str.contains(r'\\b[Cc](?<!\\+)\\b|\\b[Cc](?<!\\#)\\b').sum())\n",
        "Clist.append(dfcity[dfcity['city'] == 'Austin'].jd.str.contains(r'\\b[Cc](?<!\\+)\\b|\\b[Cc](?<!\\#)\\b').sum())\n",
        "Clist.append(dfcity[dfcity['city'] == 'DC'].jd.str.contains(r'\\b[Cc](?<!\\+)\\b|\\b[Cc](?<!\\#)\\b').sum())\n",
        "Clist"
      ],
      "execution_count": 0,
      "outputs": [
        {
          "output_type": "execute_result",
          "data": {
            "text/plain": [
              "[36, 25, 39, 19, 32, 69, 47]"
            ]
          },
          "metadata": {
            "tags": []
          },
          "execution_count": 44
        }
      ]
    },
    {
      "cell_type": "code",
      "metadata": {
        "colab_type": "code",
        "id": "3qr-XWP_ZAgg",
        "outputId": "2ff2606e-0902-4a29-99e0-d0d7555a6227",
        "colab": {
          "base_uri": "https://localhost:8080/",
          "height": 34
        }
      },
      "source": [
        "Javalist=[]\n",
        "Javalist.append(dfcity[dfcity['city'] == 'Los+Angeles'].jd.str.contains(r'\\b[Jj][Aa][Vv][Aa]\\b').sum())\n",
        "Javalist.append(dfcity[dfcity['city'] == 'San+Francisco'].jd.str.contains(r'\\b[Jj][Aa][Vv][Aa]\\b').sum())\n",
        "Javalist.append(dfcity[dfcity['city'] == 'Boston'].jd.str.contains(r'\\b[Jj][Aa][Vv][Aa]\\b').sum())\n",
        "Javalist.append(dfcity[dfcity['city'] == 'New+York'].jd.str.contains(r'\\b[Jj][Aa][Vv][Aa]\\b').sum())\n",
        "Javalist.append(dfcity[dfcity['city'] == 'Chicago'].jd.str.contains(r'\\b[Jj][Aa][Vv][Aa]\\b').sum())\n",
        "Javalist.append(dfcity[dfcity['city'] == 'Austin'].jd.str.contains(r'\\b[Jj][Aa][Vv][Aa]\\b').sum())\n",
        "Javalist.append(dfcity[dfcity['city'] == 'DC'].jd.str.contains(r'\\b[Jj][Aa][Vv][Aa]\\b').sum())\n",
        "Javalist"
      ],
      "execution_count": 0,
      "outputs": [
        {
          "output_type": "execute_result",
          "data": {
            "text/plain": [
              "[39, 32, 43, 41, 19, 63, 37]"
            ]
          },
          "metadata": {
            "tags": []
          },
          "execution_count": 45
        }
      ]
    },
    {
      "cell_type": "code",
      "metadata": {
        "colab_type": "code",
        "id": "Ub1tJv7nZLBy",
        "outputId": "7abd3597-7491-44d6-ffa5-1392359681e2",
        "colab": {
          "base_uri": "https://localhost:8080/",
          "height": 34
        }
      },
      "source": [
        "Tableaulist=[]\n",
        "Tableaulist.append(dfcity[dfcity['city'] == 'Los+Angeles'].jd.str.contains(r'\\b[Tt][Aa][Bb][Ll][Ee][Aa][Uu]').sum())\n",
        "Tableaulist.append(dfcity[dfcity['city'] == 'San+Francisco'].jd.str.contains(r'\\b[Tt][Aa][Bb][Ll][Ee][Aa][Uu]').sum())\n",
        "Tableaulist.append(dfcity[dfcity['city'] == 'Boston'].jd.str.contains(r'\\b[Tt][Aa][Bb][Ll][Ee][Aa][Uu]').sum())\n",
        "Tableaulist.append(dfcity[dfcity['city'] == 'New+York'].jd.str.contains(r'\\b[Tt][Aa][Bb][Ll][Ee][Aa][Uu]').sum())\n",
        "Tableaulist.append(dfcity[dfcity['city'] == 'Chicago'].jd.str.contains(r'\\b[Tt][Aa][Bb][Ll][Ee][Aa][Uu]').sum())\n",
        "Tableaulist.append(dfcity[dfcity['city'] == 'Austin'].jd.str.contains(r'\\b[Tt][Aa][Bb][Ll][Ee][Aa][Uu]').sum())\n",
        "Tableaulist.append(dfcity[dfcity['city'] == 'DC'].jd.str.contains(r'\\b[Tt][Aa][Bb][Ll][Ee][Aa][Uu]').sum())\n",
        "Tableaulist"
      ],
      "execution_count": 0,
      "outputs": [
        {
          "output_type": "execute_result",
          "data": {
            "text/plain": [
              "[46, 30, 34, 34, 36, 34, 48]"
            ]
          },
          "metadata": {
            "tags": []
          },
          "execution_count": 46
        }
      ]
    },
    {
      "cell_type": "code",
      "metadata": {
        "colab_type": "code",
        "id": "4nQB6bJIZpo9",
        "outputId": "8a7031d4-fdd5-4fef-83ab-f12d047dc217",
        "colab": {
          "base_uri": "https://localhost:8080/",
          "height": 34
        }
      },
      "source": [
        "AWSlist=[]\n",
        "AWSlist.append(dfcity[dfcity['city'] == 'Los+Angeles'].jd.str.contains(r'\\b[Aa][Ww][Ss]\\b|\\b[Aa]mazon [Ww]eb [Ss]ervice\\b').sum())\n",
        "AWSlist.append(dfcity[dfcity['city'] == 'San+Francisco'].jd.str.contains(r'\\b[Aa][Ww][Ss]\\b|\\b[Aa]mazon [Ww]eb [Ss]ervice\\b').sum())\n",
        "AWSlist.append(dfcity[dfcity['city'] == 'Boston'].jd.str.contains(r'\\b[Aa][Ww][Ss]\\b|\\b[Aa]mazon [Ww]eb [Ss]ervice\\b').sum())\n",
        "AWSlist.append(dfcity[dfcity['city'] == 'New+York'].jd.str.contains(r'\\b[Aa][Ww][Ss]\\b|\\b[Aa]mazon [Ww]eb [Ss]ervice\\b').sum())\n",
        "AWSlist.append(dfcity[dfcity['city'] == 'Chicago'].jd.str.contains(r'\\b[Aa][Ww][Ss]\\b|\\b[Aa]mazon [Ww]eb [Ss]ervice\\b').sum())\n",
        "AWSlist.append(dfcity[dfcity['city'] == 'Austin'].jd.str.contains(r'\\b[Aa][Ww][Ss]\\b|\\b[Aa]mazon [Ww]eb [Ss]ervice\\b').sum())\n",
        "AWSlist.append(dfcity[dfcity['city'] == 'DC'].jd.str.contains(r'\\b[Aa][Ww][Ss]\\b|\\b[Aa]mazon [Ww]eb [Ss]ervice\\b').sum())\n",
        "AWSlist"
      ],
      "execution_count": 0,
      "outputs": [
        {
          "output_type": "execute_result",
          "data": {
            "text/plain": [
              "[33, 24, 31, 18, 41, 41, 42]"
            ]
          },
          "metadata": {
            "tags": []
          },
          "execution_count": 47
        }
      ]
    },
    {
      "cell_type": "code",
      "metadata": {
        "colab_type": "code",
        "id": "GyYFiC24Z2dH",
        "outputId": "e428cda2-8114-48c5-cd37-377fdf4fc809",
        "colab": {
          "base_uri": "https://localhost:8080/",
          "height": 34
        }
      },
      "source": [
        "Piglist=[]\n",
        "Piglist.append(dfcity[dfcity['city'] == 'Los+Angeles'].jd.str.contains(r'\\b[Pp][Ii][Gg]\\b').sum())\n",
        "Piglist.append(dfcity[dfcity['city'] == 'San+Francisco'].jd.str.contains(r'\\b[Pp][Ii][Gg]\\b').sum())\n",
        "Piglist.append(dfcity[dfcity['city'] == 'Boston'].jd.str.contains(r'\\b[Pp][Ii][Gg]\\b').sum())\n",
        "Piglist.append(dfcity[dfcity['city'] == 'New+York'].jd.str.contains(r'\\b[Pp][Ii][Gg]\\b').sum())\n",
        "Piglist.append(dfcity[dfcity['city'] == 'Chicago'].jd.str.contains(r'\\b[Pp][Ii][Gg]\\b').sum())\n",
        "Piglist.append(dfcity[dfcity['city'] == 'Austin'].jd.str.contains(r'\\b[Pp][Ii][Gg]\\b').sum())\n",
        "Piglist.append(dfcity[dfcity['city'] == 'DC'].jd.str.contains(r'\\b[Pp][Ii][Gg]\\b').sum())\n",
        "Piglist"
      ],
      "execution_count": 0,
      "outputs": [
        {
          "output_type": "execute_result",
          "data": {
            "text/plain": [
              "[3, 8, 1, 5, 6, 8, 7]"
            ]
          },
          "metadata": {
            "tags": []
          },
          "execution_count": 48
        }
      ]
    },
    {
      "cell_type": "code",
      "metadata": {
        "colab_type": "code",
        "id": "vzZ__vnNaHre",
        "outputId": "5e0faeba-5ed4-4174-ffda-22e568249ca2",
        "colab": {
          "base_uri": "https://localhost:8080/",
          "height": 34
        }
      },
      "source": [
        "Hivelist=[]\n",
        "Hivelist.append(dfcity[dfcity['city'] == 'Los+Angeles'].jd.str.contains(r'\\b[Hh][Ii][Vv][Ee]\\b').sum())\n",
        "Hivelist.append(dfcity[dfcity['city'] == 'San+Francisco'].jd.str.contains(r'\\b[Hh][Ii][Vv][Ee]\\b').sum())\n",
        "Hivelist.append(dfcity[dfcity['city'] == 'Boston'].jd.str.contains(r'\\b[Hh][Ii][Vv][Ee]\\b').sum())\n",
        "Hivelist.append(dfcity[dfcity['city'] == 'New+York'].jd.str.contains(r'\\b[Hh][Ii][Vv][Ee]\\b').sum())\n",
        "Hivelist.append(dfcity[dfcity['city'] == 'Chicago'].jd.str.contains(r'\\b[Hh][Ii][Vv][Ee]\\b').sum())\n",
        "Hivelist.append(dfcity[dfcity['city'] == 'Austin'].jd.str.contains(r'\\b[Hh][Ii][Vv][Ee]\\b').sum())\n",
        "Hivelist.append(dfcity[dfcity['city'] == 'DC'].jd.str.contains(r'\\b[Hh][Ii][Vv][Ee]\\b').sum())\n",
        "Hivelist"
      ],
      "execution_count": 0,
      "outputs": [
        {
          "output_type": "execute_result",
          "data": {
            "text/plain": [
              "[13, 33, 16, 29, 19, 28, 11]"
            ]
          },
          "metadata": {
            "tags": []
          },
          "execution_count": 49
        }
      ]
    },
    {
      "cell_type": "code",
      "metadata": {
        "colab_type": "code",
        "id": "aIaxWb0IaQIE",
        "outputId": "7236c372-20f2-4deb-f0fc-bb54631fec33",
        "colab": {
          "base_uri": "https://localhost:8080/",
          "height": 34
        }
      },
      "source": [
        "Hadooplist=[]\n",
        "Hadooplist.append(dfcity[dfcity['city'] == 'Los+Angeles'].jd.str.contains(r'\\b[Hh][Aa][Dd][Oo][Oo][Pp]\\b').sum())\n",
        "Hadooplist.append(dfcity[dfcity['city'] == 'San+Francisco'].jd.str.contains(r'\\b[Hh][Aa][Dd][Oo][Oo][Pp]\\b').sum())\n",
        "Hadooplist.append(dfcity[dfcity['city'] == 'Boston'].jd.str.contains(r'\\b[Hh][Aa][Dd][Oo][Oo][Pp]\\b').sum())\n",
        "Hadooplist.append(dfcity[dfcity['city'] == 'New+York'].jd.str.contains(r'\\b[Hh][Aa][Dd][Oo][Oo][Pp]\\b').sum())\n",
        "Hadooplist.append(dfcity[dfcity['city'] == 'Chicago'].jd.str.contains(r'\\b[Hh][Aa][Dd][Oo][Oo][Pp]\\b').sum())\n",
        "Hadooplist.append(dfcity[dfcity['city'] == 'Austin'].jd.str.contains(r'\\b[Hh][Aa][Dd][Oo][Oo][Pp]\\b').sum())\n",
        "Hadooplist.append(dfcity[dfcity['city'] == 'DC'].jd.str.contains(r'\\b[Hh][Aa][Dd][Oo][Oo][Pp]\\b').sum())\n",
        "Hadooplist"
      ],
      "execution_count": 0,
      "outputs": [
        {
          "output_type": "execute_result",
          "data": {
            "text/plain": [
              "[34, 39, 21, 36, 47, 40, 17]"
            ]
          },
          "metadata": {
            "tags": []
          },
          "execution_count": 50
        }
      ]
    },
    {
      "cell_type": "code",
      "metadata": {
        "colab_type": "code",
        "id": "RYo74s9paXmy",
        "outputId": "aafd2bfa-a711-4faa-ec6d-0de4398fe0fc",
        "colab": {
          "base_uri": "https://localhost:8080/",
          "height": 34
        }
      },
      "source": [
        "SQLlist=[]\n",
        "SQLlist.append(dfcity[dfcity['city'] == 'Los+Angeles'].jd.str.contains(r'[Ss][Qq][Ll]|[Qq]uery [Ll]anguage').sum())\n",
        "SQLlist.append(dfcity[dfcity['city'] == 'San+Francisco'].jd.str.contains(r'[Ss][Qq][Ll]|[Qq]uery [Ll]anguage').sum())\n",
        "SQLlist.append(dfcity[dfcity['city'] == 'Boston'].jd.str.contains(r'[Ss][Qq][Ll]|[Qq]uery [Ll]anguage').sum())\n",
        "SQLlist.append(dfcity[dfcity['city'] == 'New+York'].jd.str.contains(r'[Ss][Qq][Ll]|[Qq]uery [Ll]anguage').sum())\n",
        "SQLlist.append(dfcity[dfcity['city'] == 'Chicago'].jd.str.contains(r'[Ss][Qq][Ll]|[Qq]uery [Ll]anguage').sum())\n",
        "SQLlist.append(dfcity[dfcity['city'] == 'Austin'].jd.str.contains(r'[Ss][Qq][Ll]|[Qq]uery [Ll]anguage').sum())\n",
        "SQLlist.append(dfcity[dfcity['city'] == 'DC'].jd.str.contains(r'[Ss][Qq][Ll]|[Qq]uery [Ll]anguage').sum())\n",
        "SQLlist"
      ],
      "execution_count": 0,
      "outputs": [
        {
          "output_type": "execute_result",
          "data": {
            "text/plain": [
              "[119, 112, 96, 128, 101, 101, 95]"
            ]
          },
          "metadata": {
            "tags": []
          },
          "execution_count": 51
        }
      ]
    },
    {
      "cell_type": "code",
      "metadata": {
        "colab_type": "code",
        "id": "n06tglr8aiHe",
        "outputId": "220cabe9-8e50-45b6-9ab7-deaa538114b0",
        "colab": {
          "base_uri": "https://localhost:8080/",
          "height": 34
        }
      },
      "source": [
        "Rlist = []\n",
        "Rlist.append(dfcity[dfcity['city'] == 'Los+Angeles'].jd.str.contains(r'\\b[Rr]\\b').sum())\n",
        "Rlist.append(dfcity[dfcity['city'] == 'San+Francisco'].jd.str.contains(r'\\b[Rr]\\b').sum())\n",
        "Rlist.append(dfcity[dfcity['city'] == 'Boston'].jd.str.contains(r'\\b[Rr]\\b').sum())\n",
        "Rlist.append(dfcity[dfcity['city'] == 'New+York'].jd.str.contains(r'\\b[Rr]\\b').sum())\n",
        "Rlist.append(dfcity[dfcity['city'] == 'Chicago'].jd.str.contains(r'\\b[Rr]\\b').sum())\n",
        "Rlist.append(dfcity[dfcity['city'] == 'Austin'].jd.str.contains(r'\\b[Rr]\\b').sum())\n",
        "Rlist.append(dfcity[dfcity['city'] == 'DC'].jd.str.contains(r'\\b[Rr]\\b').sum())\n",
        "Rlist"
      ],
      "execution_count": 0,
      "outputs": [
        {
          "output_type": "execute_result",
          "data": {
            "text/plain": [
              "[108, 102, 102, 115, 119, 87, 101]"
            ]
          },
          "metadata": {
            "tags": []
          },
          "execution_count": 52
        }
      ]
    },
    {
      "cell_type": "code",
      "metadata": {
        "colab_type": "code",
        "id": "NAYfYnvlarSW",
        "outputId": "a148eca9-4487-4d0a-f18a-6e6db11b3a8b",
        "colab": {
          "base_uri": "https://localhost:8080/",
          "height": 34
        }
      },
      "source": [
        "C_Plus_Plus_list = []\n",
        "C_Plus_Plus_list.append(dfcity[dfcity['city'] == 'Los+Angeles'].jd.str.contains(r'\\b[Cc]\\+{2}').sum())\n",
        "C_Plus_Plus_list.append(dfcity[dfcity['city'] == 'San+Francisco'].jd.str.contains(r'\\b[Cc]\\+{2}').sum())\n",
        "C_Plus_Plus_list.append(dfcity[dfcity['city'] == 'Boston'].jd.str.contains(r'\\b[Cc]\\+{2}').sum())\n",
        "C_Plus_Plus_list.append(dfcity[dfcity['city'] == 'New+York'].jd.str.contains(r'\\b[Cc]\\+{2}').sum())\n",
        "C_Plus_Plus_list.append(dfcity[dfcity['city'] == 'Chicago'].jd.str.contains(r'\\b[Cc]\\+{2}').sum())\n",
        "C_Plus_Plus_list.append(dfcity[dfcity['city'] == 'Austin'].jd.str.contains(r'\\b[Cc]\\+{2}').sum())\n",
        "C_Plus_Plus_list.append(dfcity[dfcity['city'] == 'DC'].jd.str.contains(r'\\b[Cc]\\+{2}').sum())\n",
        "C_Plus_Plus_list"
      ],
      "execution_count": 0,
      "outputs": [
        {
          "output_type": "execute_result",
          "data": {
            "text/plain": [
              "[30, 18, 27, 13, 20, 57, 26]"
            ]
          },
          "metadata": {
            "tags": []
          },
          "execution_count": 53
        }
      ]
    },
    {
      "cell_type": "code",
      "metadata": {
        "colab_type": "code",
        "id": "j6t5UYCHa3So",
        "outputId": "2f9be172-751b-4d0d-868c-e9034dec1776",
        "colab": {
          "base_uri": "https://localhost:8080/",
          "height": 34
        }
      },
      "source": [
        "Javascriptlist = []\n",
        "Javascriptlist.append(dfcity[dfcity['city'] == 'Los+Angeles'].jd.str.contains(r'\\b[Jj][Aa][Vv][Aa][Ss][Cc][Rr][Ii][Pp][Tt]\\b').sum())\n",
        "Javascriptlist.append(dfcity[dfcity['city'] == 'San+Francisco'].jd.str.contains(r'\\b[Jj][Aa][Vv][Aa][Ss][Cc][Rr][Ii][Pp][Tt]\\b').sum())\n",
        "Javascriptlist.append(dfcity[dfcity['city'] == 'Boston'].jd.str.contains(r'\\b[Jj][Aa][Vv][Aa][Ss][Cc][Rr][Ii][Pp][Tt]\\b').sum())\n",
        "Javascriptlist.append(dfcity[dfcity['city'] == 'New+York'].jd.str.contains(r'\\b[Jj][Aa][Vv][Aa][Ss][Cc][Rr][Ii][Pp][Tt]\\b').sum())\n",
        "Javascriptlist.append(dfcity[dfcity['city'] == 'Chicago'].jd.str.contains(r'\\b[Jj][Aa][Vv][Aa][Ss][Cc][Rr][Ii][Pp][Tt]\\b').sum())\n",
        "Javascriptlist.append(dfcity[dfcity['city'] == 'Austin'].jd.str.contains(r'\\b[Jj][Aa][Vv][Aa][Ss][Cc][Rr][Ii][Pp][Tt]\\b').sum())\n",
        "Javascriptlist.append(dfcity[dfcity['city'] == 'DC'].jd.str.contains(r'\\b[Jj][Aa][Vv][Aa][Ss][Cc][Rr][Ii][Pp][Tt]\\b').sum())\n",
        "Javascriptlist"
      ],
      "execution_count": 0,
      "outputs": [
        {
          "output_type": "execute_result",
          "data": {
            "text/plain": [
              "[2, 6, 7, 11, 9, 15, 11]"
            ]
          },
          "metadata": {
            "tags": []
          },
          "execution_count": 54
        }
      ]
    },
    {
      "cell_type": "code",
      "metadata": {
        "colab_type": "code",
        "id": "iyEafyNRbBzQ",
        "outputId": "c94ddfec-b566-40a3-c2f3-3f0ae2b8a1c1",
        "colab": {
          "base_uri": "https://localhost:8080/",
          "height": 34
        }
      },
      "source": [
        "Sparklist = []\n",
        "Sparklist.append(dfcity[dfcity['city'] == 'Los+Angeles'].jd.str.contains(r'\\b[Ss][Pp][Aa][Rr][Kk]\\b').sum())\n",
        "Sparklist.append(dfcity[dfcity['city'] == 'San+Francisco'].jd.str.contains(r'\\b[Ss][Pp][Aa][Rr][Kk]\\b').sum())\n",
        "Sparklist.append(dfcity[dfcity['city'] == 'Boston'].jd.str.contains(r'\\b[Ss][Pp][Aa][Rr][Kk]\\b').sum())\n",
        "Sparklist.append(dfcity[dfcity['city'] == 'New+York'].jd.str.contains(r'\\b[Ss][Pp][Aa][Rr][Kk]\\b').sum())\n",
        "Sparklist.append(dfcity[dfcity['city'] == 'Chicago'].jd.str.contains(r'\\b[Ss][Pp][Aa][Rr][Kk]\\b').sum())\n",
        "Sparklist.append(dfcity[dfcity['city'] == 'Austin'].jd.str.contains(r'\\b[Ss][Pp][Aa][Rr][Kk]\\b').sum())\n",
        "Sparklist.append(dfcity[dfcity['city'] == 'DC'].jd.str.contains(r'\\b[Ss][Pp][Aa][Rr][Kk]\\b').sum())\n",
        "Sparklist"
      ],
      "execution_count": 0,
      "outputs": [
        {
          "output_type": "execute_result",
          "data": {
            "text/plain": [
              "[39, 53, 31, 46, 46, 71, 26]"
            ]
          },
          "metadata": {
            "tags": []
          },
          "execution_count": 55
        }
      ]
    },
    {
      "cell_type": "code",
      "metadata": {
        "colab_type": "code",
        "id": "tk1QcbiYbTh8",
        "colab": {}
      },
      "source": [
        "frequency = {'City': cityset,\n",
        "    'Python': pythonlist,\n",
        "            'C': Clist,\n",
        "            'Java': Javalist,\n",
        "            'Tableau': Tableaulist,\n",
        "            'AWS': AWSlist,\n",
        "            'Pig':Piglist,\n",
        "            'Hive': Hivelist,\n",
        "            'Hadoop': Hadooplist,\n",
        "            'SQL': SQLlist,\n",
        "            'R': Rlist,\n",
        "            'C++': C_Plus_Plus_list,\n",
        "            'Javascript': Javascriptlist,\n",
        "            'Spark': Sparklist}"
      ],
      "execution_count": 0,
      "outputs": []
    },
    {
      "cell_type": "code",
      "metadata": {
        "colab_type": "code",
        "id": "FSSWlKygcNmh",
        "outputId": "f19a4557-b2cb-49ea-9ef7-f55083ce72e5",
        "colab": {
          "base_uri": "https://localhost:8080/",
          "height": 266
        }
      },
      "source": [
        "FrequencyData = pd.DataFrame(frequency)\n",
        "FrequencyData"
      ],
      "execution_count": 0,
      "outputs": [
        {
          "output_type": "execute_result",
          "data": {
            "text/html": [
              "<div>\n",
              "<style scoped>\n",
              "    .dataframe tbody tr th:only-of-type {\n",
              "        vertical-align: middle;\n",
              "    }\n",
              "\n",
              "    .dataframe tbody tr th {\n",
              "        vertical-align: top;\n",
              "    }\n",
              "\n",
              "    .dataframe thead th {\n",
              "        text-align: right;\n",
              "    }\n",
              "</style>\n",
              "<table border=\"1\" class=\"dataframe\">\n",
              "  <thead>\n",
              "    <tr style=\"text-align: right;\">\n",
              "      <th></th>\n",
              "      <th>City</th>\n",
              "      <th>Python</th>\n",
              "      <th>C</th>\n",
              "      <th>Java</th>\n",
              "      <th>Tableau</th>\n",
              "      <th>AWS</th>\n",
              "      <th>Pig</th>\n",
              "      <th>Hive</th>\n",
              "      <th>Hadoop</th>\n",
              "      <th>SQL</th>\n",
              "      <th>R</th>\n",
              "      <th>C++</th>\n",
              "      <th>Javascript</th>\n",
              "      <th>Spark</th>\n",
              "    </tr>\n",
              "  </thead>\n",
              "  <tbody>\n",
              "    <tr>\n",
              "      <th>0</th>\n",
              "      <td>Los+Angeles</td>\n",
              "      <td>145</td>\n",
              "      <td>36</td>\n",
              "      <td>39</td>\n",
              "      <td>46</td>\n",
              "      <td>33</td>\n",
              "      <td>3</td>\n",
              "      <td>13</td>\n",
              "      <td>34</td>\n",
              "      <td>119</td>\n",
              "      <td>108</td>\n",
              "      <td>30</td>\n",
              "      <td>2</td>\n",
              "      <td>39</td>\n",
              "    </tr>\n",
              "    <tr>\n",
              "      <th>1</th>\n",
              "      <td>San+Francisco</td>\n",
              "      <td>157</td>\n",
              "      <td>25</td>\n",
              "      <td>32</td>\n",
              "      <td>30</td>\n",
              "      <td>24</td>\n",
              "      <td>8</td>\n",
              "      <td>33</td>\n",
              "      <td>39</td>\n",
              "      <td>112</td>\n",
              "      <td>102</td>\n",
              "      <td>18</td>\n",
              "      <td>6</td>\n",
              "      <td>53</td>\n",
              "    </tr>\n",
              "    <tr>\n",
              "      <th>2</th>\n",
              "      <td>Boston</td>\n",
              "      <td>142</td>\n",
              "      <td>39</td>\n",
              "      <td>43</td>\n",
              "      <td>34</td>\n",
              "      <td>31</td>\n",
              "      <td>1</td>\n",
              "      <td>16</td>\n",
              "      <td>21</td>\n",
              "      <td>96</td>\n",
              "      <td>102</td>\n",
              "      <td>27</td>\n",
              "      <td>7</td>\n",
              "      <td>31</td>\n",
              "    </tr>\n",
              "    <tr>\n",
              "      <th>3</th>\n",
              "      <td>New+York</td>\n",
              "      <td>164</td>\n",
              "      <td>19</td>\n",
              "      <td>41</td>\n",
              "      <td>34</td>\n",
              "      <td>18</td>\n",
              "      <td>5</td>\n",
              "      <td>29</td>\n",
              "      <td>36</td>\n",
              "      <td>128</td>\n",
              "      <td>115</td>\n",
              "      <td>13</td>\n",
              "      <td>11</td>\n",
              "      <td>46</td>\n",
              "    </tr>\n",
              "    <tr>\n",
              "      <th>4</th>\n",
              "      <td>Chicago</td>\n",
              "      <td>145</td>\n",
              "      <td>32</td>\n",
              "      <td>19</td>\n",
              "      <td>36</td>\n",
              "      <td>41</td>\n",
              "      <td>6</td>\n",
              "      <td>19</td>\n",
              "      <td>47</td>\n",
              "      <td>101</td>\n",
              "      <td>119</td>\n",
              "      <td>20</td>\n",
              "      <td>9</td>\n",
              "      <td>46</td>\n",
              "    </tr>\n",
              "    <tr>\n",
              "      <th>5</th>\n",
              "      <td>Austin</td>\n",
              "      <td>123</td>\n",
              "      <td>69</td>\n",
              "      <td>63</td>\n",
              "      <td>34</td>\n",
              "      <td>41</td>\n",
              "      <td>8</td>\n",
              "      <td>28</td>\n",
              "      <td>40</td>\n",
              "      <td>101</td>\n",
              "      <td>87</td>\n",
              "      <td>57</td>\n",
              "      <td>15</td>\n",
              "      <td>71</td>\n",
              "    </tr>\n",
              "    <tr>\n",
              "      <th>6</th>\n",
              "      <td>DC</td>\n",
              "      <td>127</td>\n",
              "      <td>47</td>\n",
              "      <td>37</td>\n",
              "      <td>48</td>\n",
              "      <td>42</td>\n",
              "      <td>7</td>\n",
              "      <td>11</td>\n",
              "      <td>17</td>\n",
              "      <td>95</td>\n",
              "      <td>101</td>\n",
              "      <td>26</td>\n",
              "      <td>11</td>\n",
              "      <td>26</td>\n",
              "    </tr>\n",
              "  </tbody>\n",
              "</table>\n",
              "</div>"
            ],
            "text/plain": [
              "            City  Python   C  Java  Tableau  ...  SQL    R  C++  Javascript  Spark\n",
              "0    Los+Angeles     145  36    39       46  ...  119  108   30           2     39\n",
              "1  San+Francisco     157  25    32       30  ...  112  102   18           6     53\n",
              "2         Boston     142  39    43       34  ...   96  102   27           7     31\n",
              "3       New+York     164  19    41       34  ...  128  115   13          11     46\n",
              "4        Chicago     145  32    19       36  ...  101  119   20           9     46\n",
              "5         Austin     123  69    63       34  ...  101   87   57          15     71\n",
              "6             DC     127  47    37       48  ...   95  101   26          11     26\n",
              "\n",
              "[7 rows x 14 columns]"
            ]
          },
          "metadata": {
            "tags": []
          },
          "execution_count": 89
        }
      ]
    },
    {
      "cell_type": "code",
      "metadata": {
        "colab_type": "code",
        "id": "DSXCZafIcaT2",
        "outputId": "73bd7b70-15b8-4df2-e606-0014b45d8b85",
        "colab": {
          "base_uri": "https://localhost:8080/",
          "height": 1000
        }
      },
      "source": [
        "#Python\n",
        "my_colors = ['pink','lime','lightskyblue','deepskyblue','tomato','blue','yellow']\n",
        "fig = plt.figure(figsize=(6, 6))\n",
        "plt.bar(FrequencyData['City'], FrequencyData['Python'], color = my_colors)\n",
        "plt.xticks(FrequencyData['City'], rotation = 90)\n",
        "plt.ylabel('Python Frequency')\n",
        "plt.xlabel('City')\n",
        "plt.title('Python Frequency by Cities')\n",
        "plt.show()\n",
        "\n",
        "#C\n",
        "my_colors = ['pink','lime','lightskyblue','deepskyblue','tomato','blue','yellow']\n",
        "fig = plt.figure(figsize=(6, 6))\n",
        "plt.bar(FrequencyData['City'], FrequencyData['C'], color = my_colors)\n",
        "plt.xticks(FrequencyData['City'], rotation = 90)\n",
        "plt.ylabel('C Frequency')\n",
        "plt.xlabel('City')\n",
        "plt.title('C Frequency by Cities')\n",
        "plt.show()\n",
        "\n",
        "#Java\n",
        "my_colors = ['pink','lime','lightskyblue','deepskyblue','tomato','blue','yellow']\n",
        "fig = plt.figure(figsize=(6, 6))\n",
        "plt.bar(FrequencyData['City'], FrequencyData['Java'], color = my_colors)\n",
        "plt.xticks(FrequencyData['City'], rotation = 90)\n",
        "plt.ylabel('Java Frequency')\n",
        "plt.xlabel('City')\n",
        "plt.title('Java Frequency by Cities')\n",
        "plt.show()\n",
        "\n",
        "#Tableau\n",
        "my_colors = ['pink','lime','lightskyblue','deepskyblue','tomato','blue','yellow']\n",
        "fig = plt.figure(figsize=(6, 6))\n",
        "plt.bar(FrequencyData['City'], FrequencyData['Tableau'], color = my_colors)\n",
        "plt.xticks(FrequencyData['City'], rotation = 90)\n",
        "plt.ylabel('Tableau Frequency')\n",
        "plt.xlabel('City')\n",
        "plt.title('Tableau Frequency by Cities')\n",
        "plt.show()\n",
        "\n",
        "#AWS\n",
        "my_colors = ['pink','lime','lightskyblue','deepskyblue','tomato','blue','yellow']\n",
        "fig = plt.figure(figsize=(6, 6))\n",
        "plt.bar(FrequencyData['City'], FrequencyData['AWS'], color = my_colors)\n",
        "plt.xticks(FrequencyData['City'], rotation = 90)\n",
        "plt.ylabel('AWS Frequency')\n",
        "plt.xlabel('City')\n",
        "plt.title('AWS Frequency by Cities')\n",
        "plt.show()\n",
        "\n",
        "#Pig\n",
        "my_colors = ['pink','lime','lightskyblue','deepskyblue','tomato','blue','yellow']\n",
        "fig = plt.figure(figsize=(6, 6))\n",
        "plt.bar(FrequencyData['City'], FrequencyData['Pig'], color = my_colors)\n",
        "plt.xticks(FrequencyData['City'], rotation = 90)\n",
        "plt.ylabel('Pig Frequency')\n",
        "plt.xlabel('City')\n",
        "plt.title('Pig Frequency by Cities')\n",
        "plt.show()\n",
        "\n",
        "#Hive\n",
        "my_colors = ['pink','lime','lightskyblue','deepskyblue','tomato','blue','yellow']\n",
        "fig = plt.figure(figsize=(6, 6))\n",
        "plt.bar(FrequencyData['City'], FrequencyData['Hive'], color = my_colors)\n",
        "plt.xticks(FrequencyData['City'], rotation = 90)\n",
        "plt.ylabel('Hive Frequency')\n",
        "plt.xlabel('City')\n",
        "plt.title('Hive Frequency by Cities')\n",
        "plt.show()\n",
        "\n",
        "#Hadoop\n",
        "my_colors = ['pink','lime','lightskyblue','deepskyblue','tomato','blue','yellow']\n",
        "fig = plt.figure(figsize=(6, 6))\n",
        "plt.bar(FrequencyData['City'], FrequencyData['Hadoop'], color = my_colors)\n",
        "plt.xticks(FrequencyData['City'], rotation = 90)\n",
        "plt.ylabel('Hadoop Frequency')\n",
        "plt.xlabel('City')\n",
        "plt.title('Hadoop Frequency by Cities')\n",
        "plt.show()\n",
        "\n",
        "#SQL\n",
        "my_colors = ['pink','lime','lightskyblue','deepskyblue','tomato','blue','yellow']\n",
        "fig = plt.figure(figsize=(6, 6))\n",
        "plt.bar(FrequencyData['City'], FrequencyData['SQL'], color = my_colors)\n",
        "plt.xticks(FrequencyData['City'], rotation = 90)\n",
        "plt.ylabel('SQL Frequency')\n",
        "plt.xlabel('City')\n",
        "plt.show()\n",
        "\n",
        "#R\n",
        "my_colors = ['pink','lime','lightskyblue','deepskyblue','tomato','blue','yellow']\n",
        "fig = plt.figure(figsize=(6, 6))\n",
        "plt.bar(FrequencyData['City'], FrequencyData['R'], color = my_colors)\n",
        "plt.xticks(FrequencyData['City'], rotation = 90)\n",
        "plt.ylabel('R Frequency')\n",
        "plt.xlabel('City')\n",
        "plt.title('R Frequency by Cities')\n",
        "plt.show()\n",
        "\n",
        "#C++\n",
        "my_colors = ['pink','lime','lightskyblue','deepskyblue','tomato','blue','yellow']\n",
        "fig = plt.figure(figsize=(6, 6))\n",
        "plt.bar(FrequencyData['City'], FrequencyData['C++'], color = my_colors)\n",
        "plt.xticks(FrequencyData['City'], rotation = 90)\n",
        "plt.ylabel('C++ Frequency')\n",
        "plt.xlabel('City')\n",
        "plt.title('C++ Frequency by Cities')\n",
        "plt.show()\n",
        "\n",
        "#Javascript\n",
        "my_colors = ['pink','lime','lightskyblue','deepskyblue','tomato','blue','yellow']\n",
        "fig = plt.figure(figsize=(6, 6))\n",
        "plt.bar(FrequencyData['City'], FrequencyData['Javascript'], color = my_colors)\n",
        "plt.xticks(FrequencyData['City'], rotation = 90)\n",
        "plt.ylabel('Javascript Frequency')\n",
        "plt.xlabel('City')\n",
        "plt.title('Javascript Frequency by Cities')\n",
        "plt.show()\n",
        "\n",
        "#Spark\n",
        "my_colors = ['pink','lime','lightskyblue','deepskyblue','tomato','blue','yellow']\n",
        "fig = plt.figure(figsize=(6, 6))\n",
        "plt.bar(FrequencyData['City'], FrequencyData['Spark'], color = my_colors)\n",
        "plt.xticks(FrequencyData['City'], rotation = 90)\n",
        "plt.ylabel('Spark Frequency')\n",
        "plt.xlabel('City')\n",
        "plt.title('Spark Frequency by Cities')\n",
        "plt.show()"
      ],
      "execution_count": 0,
      "outputs": [
        {
          "output_type": "display_data",
          "data": {
            "image/png": "[encoded data removed]",
            "text/plain": [
              "<Figure size 432x432 with 1 Axes>"
            ]
          },
          "metadata": {
            "tags": []
          }
        },
        {
          "output_type": "display_data",
          "data": {
            "image/png": "[encoded data removed]",
            "text/plain": [
              "<Figure size 432x432 with 1 Axes>"
            ]
          },
          "metadata": {
            "tags": []
          }
        },
        {
          "output_type": "display_data",
          "data": {
            "image/png": "[encoded data removed]",
            "text/plain": [
              "<Figure size 432x432 with 1 Axes>"
            ]
          },
          "metadata": {
            "tags": []
          }
        },
        {
          "output_type": "display_data",
          "data": {
            "image/png": "[encoded data removed]",
            "text/plain": [
              "<Figure size 432x432 with 1 Axes>"
            ]
          },
          "metadata": {
            "tags": []
          }
        },
        {
          "output_type": "display_data",
          "data": {
            "image/png": "[encoded data removed]",
            "text/plain": [
              "<Figure size 432x432 with 1 Axes>"
            ]
          },
          "metadata": {
            "tags": []
          }
        },
        {
          "output_type": "display_data",
          "data": {
            "image/png": "[encoded data removed]",
            "text/plain": [
              "<Figure size 432x432 with 1 Axes>"
            ]
          },
          "metadata": {
            "tags": []
          }
        },
        {
          "output_type": "display_data",
          "data": {
            "image/png": "[encoded data removed]",
            "text/plain": [
              "<Figure size 432x432 with 1 Axes>"
            ]
          },
          "metadata": {
            "tags": []
          }
        },
        {
          "output_type": "display_data",
          "data": {
            "image/png": "[encoded data removed]",
            "text/plain": [
              "<Figure size 432x432 with 1 Axes>"
            ]
          },
          "metadata": {
            "tags": []
          }
        },
        {
          "output_type": "display_data",
          "data": {
            "image/png": "[encoded data removed]",
            "text/plain": [
              "<Figure size 432x432 with 1 Axes>"
            ]
          },
          "metadata": {
            "tags": []
          }
        },
        {
          "output_type": "display_data",
          "data": {
            "image/png": "[encoded data removed]",
            "text/plain": [
              "<Figure size 432x432 with 1 Axes>"
            ]
          },
          "metadata": {
            "tags": []
          }
        },
        {
          "output_type": "display_data",
          "data": {
            "image/png": "[encoded data removed]",
            "text/plain": [
              "<Figure size 432x432 with 1 Axes>"
            ]
          },
          "metadata": {
            "tags": []
          }
        },
        {
          "output_type": "display_data",
          "data": {
            "image/png": "[encoded data removed]",
            "text/plain": [
              "<Figure size 432x432 with 1 Axes>"
            ]
          },
          "metadata": {
            "tags": []
          }
        },
        {
          "output_type": "display_data",
          "data": {
            "image/png": "[encoded data removed]",
            "text/plain": [
              "<Figure size 432x432 with 1 Axes>"
            ]
          },
          "metadata": {
            "tags": []
          }
        }
      ]
    },
    {
      "cell_type": "markdown",
      "metadata": {
        "colab_type": "text",
        "id": "PEr9TlbgQeoj"
      },
      "source": [
        "###Question 2 (50 points):\n",
        "###Visit https://www.indeed.com/Top-Rated-Workplaces, and search for Data Scientist in Los Angeles. Scrape 50 company reviews of the first 50 companies (if fewer than 50, just get the companies names on the first page). Retrieve the company’s name, title of the reviewer, the date of the review, the title, rating, review content, pros, and cons and the review. The output canto be shown in the form of a table."
      ]
    },
    {
      "cell_type": "code",
      "metadata": {
        "colab_type": "code",
        "id": "49t7vXxq-w38",
        "colab": {}
      },
      "source": [
        "from bs4 import BeautifulSoup\n",
        "import urllib\n",
        "import re\n",
        "import pandas as pd\n",
        "import requests\n",
        "from urllib.request import urlopen\n",
        "import numpy as np\n",
        "import matplotlib.pyplot as plt"
      ],
      "execution_count": 0,
      "outputs": []
    },
    {
      "cell_type": "code",
      "metadata": {
        "id": "htMhjUlsxbgf",
        "colab_type": "code",
        "outputId": "3e2622ae-e2da-4a32-f99f-4f1935306dd2",
        "colab": {
          "base_uri": "https://localhost:8080/",
          "height": 1000
        }
      },
      "source": [
        "companies = []\n",
        "reviewers = []\n",
        "dates = []\n",
        "titles = []\n",
        "rates = []\n",
        "contents = []\n",
        "pros = []\n",
        "cons = []\n",
        "\n",
        "url = \"https://www.indeed.com/cmp?q=Data+scientist&l=Los+Angeles%2C+CA&from=discovery\"\n",
        "page = urlopen(url)\n",
        "soup = BeautifulSoup(page, 'lxml')\n",
        "all_matches = soup.findAll('a',{'class':['cmp-CompanyWidget-name']})\n",
        "for each in all_matches:\n",
        "    jd_url= 'https://www.indeed.com'+each['href']+'/reviews'\n",
        "    for i in range (3):\n",
        "        jd_page =urlopen(jd_url)\n",
        "        jd_soup = BeautifulSoup(jd_page, 'lxml')\n",
        "        jd_reviewsC = jd_soup.findAll('div',{'class':'cmp-review-container'})\n",
        "        for container in jd_reviewsC:\n",
        "            jd_cmp = jd_soup.find('div',{'itemprop':'name'}).text\n",
        "            companies.append(jd_cmp)\n",
        "            jd_reviewerT = container.findAll('span',{'itemprop':'reviewBody'})\n",
        "            for it1 in jd_reviewerT:\n",
        "                if it1 == None:\n",
        "                    reviewers.append('N/A')\n",
        "                else:\n",
        "                    reviewers.append(it1.text)\n",
        "            jd_dateR = container.findAll('span',{'class':'cmp-review-date-created'})\n",
        "            for it2 in jd_dateR:\n",
        "                if it2 == None:\n",
        "                    dates.append('N/A')\n",
        "                else:\n",
        "                    dates.append(it2.text)\n",
        "            jd_titleR = container.findAll('div',{'class':'cmp-review-title'})\n",
        "            for it3 in jd_titleR:\n",
        "                if it3 == None:\n",
        "                    titles.append('N/A')\n",
        "                else:\n",
        "                    titles.append(it3.span.text)\n",
        "            jd_rating = container.findAll('div',{'class':'cmp-ratingNumber'})\n",
        "            for it4 in jd_rating:\n",
        "                if it4 == None:\n",
        "                    rates.append('N/A')\n",
        "                else:\n",
        "                    rates.append(it4.text)\n",
        "            jd_contentR = container.findAll('span',{'itemprop':'reviewBody'})\n",
        "            for it5 in jd_contentR:\n",
        "                if it5 == None:\n",
        "                    contents.append('N/A')\n",
        "                else:\n",
        "                    contents.append(it5.text)\n",
        "            if not container.find('div',{'class':'cmp-review-pro-text'}):\n",
        "                pros.append('N/A')\n",
        "            else:\n",
        "                pros.append(container.find('div',{'class':'cmp-review-pro-text'}).text)\n",
        "            if not container.find('div',{'class':'cmp-review-con-text'}):\n",
        "                cons.append('N/A')\n",
        "            else:\n",
        "                cons.append(container.find('div',{'class':'cmp-review-con-text'}).text)\n",
        "                \n",
        "        print(jd_url)\n",
        "        jd_url = 'https://www.indeed.com'+each['href']+'/reviews'+ '?start=' +str((i+1)*20)\n"
      ],
      "execution_count": 0,
      "outputs": [
        {
          "output_type": "stream",
          "text": [
            "https://www.indeed.com/cmp/Veritone/reviews\n",
            "https://www.indeed.com/cmp/Veritone/reviews?start=20\n",
            "https://www.indeed.com/cmp/Veritone/reviews?start=40\n",
            "https://www.indeed.com/cmp/Hulu/reviews\n",
            "https://www.indeed.com/cmp/Hulu/reviews?start=20\n",
            "https://www.indeed.com/cmp/Hulu/reviews?start=40\n",
            "https://www.indeed.com/cmp/Deloitte/reviews\n",
            "https://www.indeed.com/cmp/Deloitte/reviews?start=20\n",
            "https://www.indeed.com/cmp/Deloitte/reviews?start=40\n",
            "https://www.indeed.com/cmp/City-National-Bank/reviews\n",
            "https://www.indeed.com/cmp/City-National-Bank/reviews?start=20\n",
            "https://www.indeed.com/cmp/City-National-Bank/reviews?start=40\n",
            "https://www.indeed.com/cmp/University-of-California-Los-Angeles/reviews\n",
            "https://www.indeed.com/cmp/University-of-California-Los-Angeles/reviews?start=20\n",
            "https://www.indeed.com/cmp/University-of-California-Los-Angeles/reviews?start=40\n",
            "https://www.indeed.com/cmp/Zs-Associates/reviews\n",
            "https://www.indeed.com/cmp/Zs-Associates/reviews?start=20\n",
            "https://www.indeed.com/cmp/Zs-Associates/reviews?start=40\n",
            "https://www.indeed.com/cmp/Snap-Inc./reviews\n",
            "https://www.indeed.com/cmp/Snap-Inc./reviews?start=20\n",
            "https://www.indeed.com/cmp/Snap-Inc./reviews?start=40\n",
            "https://www.indeed.com/cmp/Ucla-Health/reviews\n",
            "https://www.indeed.com/cmp/Ucla-Health/reviews?start=20\n",
            "https://www.indeed.com/cmp/Ucla-Health/reviews?start=40\n",
            "https://www.indeed.com/cmp/University-of-Southern-California/reviews\n",
            "https://www.indeed.com/cmp/University-of-Southern-California/reviews?start=20\n",
            "https://www.indeed.com/cmp/University-of-Southern-California/reviews?start=40\n",
            "https://www.indeed.com/cmp/Next-Trucking/reviews\n",
            "https://www.indeed.com/cmp/Next-Trucking/reviews?start=20\n",
            "https://www.indeed.com/cmp/Next-Trucking/reviews?start=40\n",
            "https://www.indeed.com/cmp/Kpmg/reviews\n",
            "https://www.indeed.com/cmp/Kpmg/reviews?start=20\n",
            "https://www.indeed.com/cmp/Kpmg/reviews?start=40\n",
            "https://www.indeed.com/cmp/Martin-Luther-King,-Jr.-Community-Hospital/reviews\n",
            "https://www.indeed.com/cmp/Martin-Luther-King,-Jr.-Community-Hospital/reviews?start=20\n",
            "https://www.indeed.com/cmp/Martin-Luther-King,-Jr.-Community-Hospital/reviews?start=40\n",
            "https://www.indeed.com/cmp/Pfizer-Inc./reviews\n",
            "https://www.indeed.com/cmp/Pfizer-Inc./reviews?start=20\n",
            "https://www.indeed.com/cmp/Pfizer-Inc./reviews?start=40\n",
            "https://www.indeed.com/cmp/Riot-Games/reviews\n",
            "https://www.indeed.com/cmp/Riot-Games/reviews?start=20\n",
            "https://www.indeed.com/cmp/Riot-Games/reviews?start=40\n",
            "https://www.indeed.com/cmp/Accenture/reviews\n",
            "https://www.indeed.com/cmp/Accenture/reviews?start=20\n",
            "https://www.indeed.com/cmp/Accenture/reviews?start=40\n",
            "https://www.indeed.com/cmp/Health-Services-Advisory-Group,-Inc./reviews\n",
            "https://www.indeed.com/cmp/Health-Services-Advisory-Group,-Inc./reviews?start=20\n",
            "https://www.indeed.com/cmp/Health-Services-Advisory-Group,-Inc./reviews?start=40\n",
            "https://www.indeed.com/cmp/Uc-SAN-Diego/reviews\n",
            "https://www.indeed.com/cmp/Uc-SAN-Diego/reviews?start=20\n",
            "https://www.indeed.com/cmp/Uc-SAN-Diego/reviews?start=40\n",
            "https://www.indeed.com/cmp/Fabfitfun/reviews\n",
            "https://www.indeed.com/cmp/Fabfitfun/reviews?start=20\n",
            "https://www.indeed.com/cmp/Fabfitfun/reviews?start=40\n",
            "https://www.indeed.com/cmp/Modcloth/reviews\n",
            "https://www.indeed.com/cmp/Modcloth/reviews?start=20\n",
            "https://www.indeed.com/cmp/Modcloth/reviews?start=40\n",
            "https://www.indeed.com/cmp/Cedars--sinai/reviews\n",
            "https://www.indeed.com/cmp/Cedars--sinai/reviews?start=20\n",
            "https://www.indeed.com/cmp/Cedars--sinai/reviews?start=40\n",
            "https://www.indeed.com/cmp/Servicetitan/reviews\n",
            "https://www.indeed.com/cmp/Servicetitan/reviews?start=20\n",
            "https://www.indeed.com/cmp/Servicetitan/reviews?start=40\n",
            "https://www.indeed.com/cmp/Mufg/reviews\n",
            "https://www.indeed.com/cmp/Mufg/reviews?start=20\n",
            "https://www.indeed.com/cmp/Mufg/reviews?start=40\n",
            "https://www.indeed.com/cmp/Viacom/reviews\n",
            "https://www.indeed.com/cmp/Viacom/reviews?start=20\n",
            "https://www.indeed.com/cmp/Viacom/reviews?start=40\n",
            "https://www.indeed.com/cmp/Hyperloop-Transportation-Technologies/reviews\n",
            "https://www.indeed.com/cmp/Hyperloop-Transportation-Technologies/reviews?start=20\n",
            "https://www.indeed.com/cmp/Hyperloop-Transportation-Technologies/reviews?start=40\n",
            "https://www.indeed.com/cmp/Amazon.com/reviews\n",
            "https://www.indeed.com/cmp/Amazon.com/reviews?start=20\n",
            "https://www.indeed.com/cmp/Amazon.com/reviews?start=40\n",
            "https://www.indeed.com/cmp/SAP/reviews\n",
            "https://www.indeed.com/cmp/SAP/reviews?start=20\n",
            "https://www.indeed.com/cmp/SAP/reviews?start=40\n",
            "https://www.indeed.com/cmp/California-State-University/reviews\n",
            "https://www.indeed.com/cmp/California-State-University/reviews?start=20\n",
            "https://www.indeed.com/cmp/California-State-University/reviews?start=40\n",
            "https://www.indeed.com/cmp/American-Heart-Association/reviews\n",
            "https://www.indeed.com/cmp/American-Heart-Association/reviews?start=20\n",
            "https://www.indeed.com/cmp/American-Heart-Association/reviews?start=40\n",
            "https://www.indeed.com/cmp/L.a.-Care-Health-Plan/reviews\n",
            "https://www.indeed.com/cmp/L.a.-Care-Health-Plan/reviews?start=20\n",
            "https://www.indeed.com/cmp/L.a.-Care-Health-Plan/reviews?start=40\n",
            "https://www.indeed.com/cmp/Survios/reviews\n",
            "https://www.indeed.com/cmp/Survios/reviews?start=20\n",
            "https://www.indeed.com/cmp/Survios/reviews?start=40\n",
            "https://www.indeed.com/cmp/Walmart/reviews\n",
            "https://www.indeed.com/cmp/Walmart/reviews?start=20\n",
            "https://www.indeed.com/cmp/Walmart/reviews?start=40\n",
            "https://www.indeed.com/cmp/Dataiku/reviews\n",
            "https://www.indeed.com/cmp/Dataiku/reviews?start=20\n",
            "https://www.indeed.com/cmp/Dataiku/reviews?start=40\n",
            "https://www.indeed.com/cmp/Starz-Entertainment,-LLC/reviews\n",
            "https://www.indeed.com/cmp/Starz-Entertainment,-LLC/reviews?start=20\n",
            "https://www.indeed.com/cmp/Starz-Entertainment,-LLC/reviews?start=40\n",
            "https://www.indeed.com/cmp/General-Assembly/reviews\n",
            "https://www.indeed.com/cmp/General-Assembly/reviews?start=20\n",
            "https://www.indeed.com/cmp/General-Assembly/reviews?start=40\n",
            "https://www.indeed.com/cmp/Citi/reviews\n",
            "https://www.indeed.com/cmp/Citi/reviews?start=20\n",
            "https://www.indeed.com/cmp/Citi/reviews?start=40\n",
            "https://www.indeed.com/cmp/Capgemini/reviews\n",
            "https://www.indeed.com/cmp/Capgemini/reviews?start=20\n",
            "https://www.indeed.com/cmp/Capgemini/reviews?start=40\n",
            "https://www.indeed.com/cmp/Meredith-Corporation/reviews\n",
            "https://www.indeed.com/cmp/Meredith-Corporation/reviews?start=20\n",
            "https://www.indeed.com/cmp/Meredith-Corporation/reviews?start=40\n",
            "https://www.indeed.com/cmp/Third-Republic/reviews\n",
            "https://www.indeed.com/cmp/Third-Republic/reviews?start=20\n",
            "https://www.indeed.com/cmp/Third-Republic/reviews?start=40\n",
            "https://www.indeed.com/cmp/Publicis-Sapient/reviews\n",
            "https://www.indeed.com/cmp/Publicis-Sapient/reviews?start=20\n",
            "https://www.indeed.com/cmp/Publicis-Sapient/reviews?start=40\n",
            "https://www.indeed.com/cmp/Inspire/reviews\n",
            "https://www.indeed.com/cmp/Inspire/reviews?start=20\n",
            "https://www.indeed.com/cmp/Inspire/reviews?start=40\n",
            "https://www.indeed.com/cmp/Google/reviews\n",
            "https://www.indeed.com/cmp/Google/reviews?start=20\n",
            "https://www.indeed.com/cmp/Google/reviews?start=40\n",
            "https://www.indeed.com/cmp/Opendoor/reviews\n",
            "https://www.indeed.com/cmp/Opendoor/reviews?start=20\n",
            "https://www.indeed.com/cmp/Opendoor/reviews?start=40\n",
            "https://www.indeed.com/cmp/Houlihan-Lokey/reviews\n",
            "https://www.indeed.com/cmp/Houlihan-Lokey/reviews?start=20\n",
            "https://www.indeed.com/cmp/Houlihan-Lokey/reviews?start=40\n",
            "https://www.indeed.com/cmp/Union-Bank/reviews\n",
            "https://www.indeed.com/cmp/Union-Bank/reviews?start=20\n",
            "https://www.indeed.com/cmp/Union-Bank/reviews?start=40\n",
            "https://www.indeed.com/cmp/Bridg/reviews\n",
            "https://www.indeed.com/cmp/Bridg/reviews?start=20\n",
            "https://www.indeed.com/cmp/Bridg/reviews?start=40\n",
            "https://www.indeed.com/cmp/Creative-Artists-Agency/reviews\n",
            "https://www.indeed.com/cmp/Creative-Artists-Agency/reviews?start=20\n",
            "https://www.indeed.com/cmp/Creative-Artists-Agency/reviews?start=40\n",
            "https://www.indeed.com/cmp/Infosys/reviews\n",
            "https://www.indeed.com/cmp/Infosys/reviews?start=20\n",
            "https://www.indeed.com/cmp/Infosys/reviews?start=40\n",
            "https://www.indeed.com/cmp/Penn-Schoen-Berland/reviews\n",
            "https://www.indeed.com/cmp/Penn-Schoen-Berland/reviews?start=20\n",
            "https://www.indeed.com/cmp/Penn-Schoen-Berland/reviews?start=40\n",
            "https://www.indeed.com/cmp/Movio/reviews\n",
            "https://www.indeed.com/cmp/Movio/reviews?start=20\n",
            "https://www.indeed.com/cmp/Movio/reviews?start=40\n"
          ],
          "name": "stdout"
        }
      ]
    },
    {
      "cell_type": "code",
      "metadata": {
        "id": "MEd1Q9d2yWJo",
        "colab_type": "code",
        "colab": {}
      },
      "source": [
        "data = {'company': companies,\n",
        "        'title':titles,\n",
        "       'rate':rates,\n",
        "       'date':dates,\n",
        "       'reviewer':reviewers,\n",
        "       'content':contents,\n",
        "        'pro':pros,\n",
        "        'con':cons}"
      ],
      "execution_count": 0,
      "outputs": []
    },
    {
      "cell_type": "code",
      "metadata": {
        "id": "uVK5E7Ofyqup",
        "colab_type": "code",
        "outputId": "3c911c27-06cb-4a8c-b4c3-019108da0812",
        "colab": {
          "base_uri": "https://localhost:8080/",
          "height": 674
        }
      },
      "source": [
        "df = pd.DataFrame.from_dict(data)\n",
        "df"
      ],
      "execution_count": 0,
      "outputs": [
        {
          "output_type": "execute_result",
          "data": {
            "text/html": [
              "<div>\n",
              "<style scoped>\n",
              "    .dataframe tbody tr th:only-of-type {\n",
              "        vertical-align: middle;\n",
              "    }\n",
              "\n",
              "    .dataframe tbody tr th {\n",
              "        vertical-align: top;\n",
              "    }\n",
              "\n",
              "    .dataframe thead th {\n",
              "        text-align: right;\n",
              "    }\n",
              "</style>\n",
              "<table border=\"1\" class=\"dataframe\">\n",
              "  <thead>\n",
              "    <tr style=\"text-align: right;\">\n",
              "      <th></th>\n",
              "      <th>company</th>\n",
              "      <th>title</th>\n",
              "      <th>rate</th>\n",
              "      <th>date</th>\n",
              "      <th>reviewer</th>\n",
              "      <th>content</th>\n",
              "      <th>pro</th>\n",
              "      <th>con</th>\n",
              "    </tr>\n",
              "  </thead>\n",
              "  <tbody>\n",
              "    <tr>\n",
              "      <th>0</th>\n",
              "      <td>Veritone</td>\n",
              "      <td>Great people, but planning leaves something to...</td>\n",
              "      <td>3.0</td>\n",
              "      <td>June 24, 2019</td>\n",
              "      <td>- Relaxed work hours where most managers don't...</td>\n",
              "      <td>- Relaxed work hours where most managers don't...</td>\n",
              "      <td>N/A</td>\n",
              "      <td>N/A</td>\n",
              "    </tr>\n",
              "    <tr>\n",
              "      <th>1</th>\n",
              "      <td>Veritone</td>\n",
              "      <td>Good company with creative atomsphere</td>\n",
              "      <td>5.0</td>\n",
              "      <td>January 2, 2019</td>\n",
              "      <td>A company offers good atmosphere at creative t...</td>\n",
              "      <td>A company offers good atmosphere at creative t...</td>\n",
              "      <td>N/A</td>\n",
              "      <td>N/A</td>\n",
              "    </tr>\n",
              "    <tr>\n",
              "      <th>2</th>\n",
              "      <td>Veritone</td>\n",
              "      <td>Has potential, but job stability is always in ...</td>\n",
              "      <td>3.0</td>\n",
              "      <td>January 7, 2018</td>\n",
              "      <td>Too many parts moving at the same time with un...</td>\n",
              "      <td>Too many parts moving at the same time with un...</td>\n",
              "      <td>Cool new industry</td>\n",
              "      <td>Random unexplained lay-offs</td>\n",
              "    </tr>\n",
              "    <tr>\n",
              "      <th>3</th>\n",
              "      <td>Veritone</td>\n",
              "      <td>Start up company with amazing AI promise</td>\n",
              "      <td>3.0</td>\n",
              "      <td>October 2, 2017</td>\n",
              "      <td>Great AI resources coming out of this soon to ...</td>\n",
              "      <td>Great AI resources coming out of this soon to ...</td>\n",
              "      <td>Cutting edge company</td>\n",
              "      <td>Start ups usual challenges</td>\n",
              "    </tr>\n",
              "    <tr>\n",
              "      <th>4</th>\n",
              "      <td>Veritone</td>\n",
              "      <td>Great people, but planning leaves something to...</td>\n",
              "      <td>3.0</td>\n",
              "      <td>June 24, 2019</td>\n",
              "      <td>- Relaxed work hours where most managers don't...</td>\n",
              "      <td>- Relaxed work hours where most managers don't...</td>\n",
              "      <td>N/A</td>\n",
              "      <td>N/A</td>\n",
              "    </tr>\n",
              "    <tr>\n",
              "      <th>...</th>\n",
              "      <td>...</td>\n",
              "      <td>...</td>\n",
              "      <td>...</td>\n",
              "      <td>...</td>\n",
              "      <td>...</td>\n",
              "      <td>...</td>\n",
              "      <td>...</td>\n",
              "      <td>...</td>\n",
              "    </tr>\n",
              "    <tr>\n",
              "      <th>1839</th>\n",
              "      <td>Penn Schoen Berland</td>\n",
              "      <td>Pretty young and hip workplace</td>\n",
              "      <td>5.0</td>\n",
              "      <td>August 5, 2015</td>\n",
              "      <td>Most of the people I worked with were younger ...</td>\n",
              "      <td>Most of the people I worked with were younger ...</td>\n",
              "      <td>N/A</td>\n",
              "      <td>N/A</td>\n",
              "    </tr>\n",
              "    <tr>\n",
              "      <th>1840</th>\n",
              "      <td>Penn Schoen Berland</td>\n",
              "      <td>Intelligent people passionate about research</td>\n",
              "      <td>3.0</td>\n",
              "      <td>May 7, 2012</td>\n",
              "      <td>Interesting clients, fascinating findings are ...</td>\n",
              "      <td>Interesting clients, fascinating findings are ...</td>\n",
              "      <td>great coworkers</td>\n",
              "      <td>compensation packages seemed low; no 401k plan</td>\n",
              "    </tr>\n",
              "    <tr>\n",
              "      <th>1841</th>\n",
              "      <td>Penn Schoen Berland</td>\n",
              "      <td>Fun work environment</td>\n",
              "      <td>4.0</td>\n",
              "      <td>June 11, 2019</td>\n",
              "      <td>Typical day included calling out of state to d...</td>\n",
              "      <td>Typical day included calling out of state to d...</td>\n",
              "      <td>N/A</td>\n",
              "      <td>N/A</td>\n",
              "    </tr>\n",
              "    <tr>\n",
              "      <th>1842</th>\n",
              "      <td>Penn Schoen Berland</td>\n",
              "      <td>Pretty young and hip workplace</td>\n",
              "      <td>5.0</td>\n",
              "      <td>August 5, 2015</td>\n",
              "      <td>Most of the people I worked with were younger ...</td>\n",
              "      <td>Most of the people I worked with were younger ...</td>\n",
              "      <td>N/A</td>\n",
              "      <td>N/A</td>\n",
              "    </tr>\n",
              "    <tr>\n",
              "      <th>1843</th>\n",
              "      <td>Penn Schoen Berland</td>\n",
              "      <td>Intelligent people passionate about research</td>\n",
              "      <td>3.0</td>\n",
              "      <td>May 7, 2012</td>\n",
              "      <td>Interesting clients, fascinating findings are ...</td>\n",
              "      <td>Interesting clients, fascinating findings are ...</td>\n",
              "      <td>great coworkers</td>\n",
              "      <td>compensation packages seemed low; no 401k plan</td>\n",
              "    </tr>\n",
              "  </tbody>\n",
              "</table>\n",
              "<p>1844 rows × 8 columns</p>\n",
              "</div>"
            ],
            "text/plain": [
              "                  company  ...                                             con\n",
              "0                Veritone  ...                                             N/A\n",
              "1                Veritone  ...                                             N/A\n",
              "2                Veritone  ...                     Random unexplained lay-offs\n",
              "3                Veritone  ...                      Start ups usual challenges\n",
              "4                Veritone  ...                                             N/A\n",
              "...                   ...  ...                                             ...\n",
              "1839  Penn Schoen Berland  ...                                             N/A\n",
              "1840  Penn Schoen Berland  ...  compensation packages seemed low; no 401k plan\n",
              "1841  Penn Schoen Berland  ...                                             N/A\n",
              "1842  Penn Schoen Berland  ...                                             N/A\n",
              "1843  Penn Schoen Berland  ...  compensation packages seemed low; no 401k plan\n",
              "\n",
              "[1844 rows x 8 columns]"
            ]
          },
          "metadata": {
            "tags": []
          },
          "execution_count": 94
        }
      ]
    },
    {
      "cell_type": "code",
      "metadata": {
        "id": "iPNglNRAytrK",
        "colab_type": "code",
        "outputId": "c58d406f-f21f-42da-9a42-d05d11bd53fa",
        "colab": {
          "base_uri": "https://localhost:8080/",
          "height": 657
        }
      },
      "source": [
        "df32 = df.drop_duplicates(subset = ['title', 'date', 'rate', 'reviewer'],keep = 'first')\n",
        "df32"
      ],
      "execution_count": 0,
      "outputs": [
        {
          "output_type": "execute_result",
          "data": {
            "text/html": [
              "<div>\n",
              "<style scoped>\n",
              "    .dataframe tbody tr th:only-of-type {\n",
              "        vertical-align: middle;\n",
              "    }\n",
              "\n",
              "    .dataframe tbody tr th {\n",
              "        vertical-align: top;\n",
              "    }\n",
              "\n",
              "    .dataframe thead th {\n",
              "        text-align: right;\n",
              "    }\n",
              "</style>\n",
              "<table border=\"1\" class=\"dataframe\">\n",
              "  <thead>\n",
              "    <tr style=\"text-align: right;\">\n",
              "      <th></th>\n",
              "      <th>company</th>\n",
              "      <th>title</th>\n",
              "      <th>rate</th>\n",
              "      <th>date</th>\n",
              "      <th>reviewer</th>\n",
              "      <th>content</th>\n",
              "      <th>pro</th>\n",
              "      <th>con</th>\n",
              "    </tr>\n",
              "  </thead>\n",
              "  <tbody>\n",
              "    <tr>\n",
              "      <th>0</th>\n",
              "      <td>Veritone</td>\n",
              "      <td>Great people, but planning leaves something to...</td>\n",
              "      <td>3.0</td>\n",
              "      <td>June 24, 2019</td>\n",
              "      <td>- Relaxed work hours where most managers don't...</td>\n",
              "      <td>- Relaxed work hours where most managers don't...</td>\n",
              "      <td>N/A</td>\n",
              "      <td>N/A</td>\n",
              "    </tr>\n",
              "    <tr>\n",
              "      <th>1</th>\n",
              "      <td>Veritone</td>\n",
              "      <td>Good company with creative atomsphere</td>\n",
              "      <td>5.0</td>\n",
              "      <td>January 2, 2019</td>\n",
              "      <td>A company offers good atmosphere at creative t...</td>\n",
              "      <td>A company offers good atmosphere at creative t...</td>\n",
              "      <td>N/A</td>\n",
              "      <td>N/A</td>\n",
              "    </tr>\n",
              "    <tr>\n",
              "      <th>2</th>\n",
              "      <td>Veritone</td>\n",
              "      <td>Has potential, but job stability is always in ...</td>\n",
              "      <td>3.0</td>\n",
              "      <td>January 7, 2018</td>\n",
              "      <td>Too many parts moving at the same time with un...</td>\n",
              "      <td>Too many parts moving at the same time with un...</td>\n",
              "      <td>Cool new industry</td>\n",
              "      <td>Random unexplained lay-offs</td>\n",
              "    </tr>\n",
              "    <tr>\n",
              "      <th>3</th>\n",
              "      <td>Veritone</td>\n",
              "      <td>Start up company with amazing AI promise</td>\n",
              "      <td>3.0</td>\n",
              "      <td>October 2, 2017</td>\n",
              "      <td>Great AI resources coming out of this soon to ...</td>\n",
              "      <td>Great AI resources coming out of this soon to ...</td>\n",
              "      <td>Cutting edge company</td>\n",
              "      <td>Start ups usual challenges</td>\n",
              "    </tr>\n",
              "    <tr>\n",
              "      <th>8</th>\n",
              "      <td>Hulu</td>\n",
              "      <td>It's okay</td>\n",
              "      <td>3.0</td>\n",
              "      <td>October 25, 2019</td>\n",
              "      <td>I loved working here in the beginning. Once th...</td>\n",
              "      <td>I loved working here in the beginning. Once th...</td>\n",
              "      <td>N/A</td>\n",
              "      <td>N/A</td>\n",
              "    </tr>\n",
              "    <tr>\n",
              "      <th>...</th>\n",
              "      <td>...</td>\n",
              "      <td>...</td>\n",
              "      <td>...</td>\n",
              "      <td>...</td>\n",
              "      <td>...</td>\n",
              "      <td>...</td>\n",
              "      <td>...</td>\n",
              "      <td>...</td>\n",
              "    </tr>\n",
              "    <tr>\n",
              "      <th>1833</th>\n",
              "      <td>Infosys</td>\n",
              "      <td>Compensation is not fair.</td>\n",
              "      <td>1.0</td>\n",
              "      <td>September 11, 2019</td>\n",
              "      <td>Compensation doesn't match with the market at ...</td>\n",
              "      <td>Compensation doesn't match with the market at ...</td>\n",
              "      <td>N/A</td>\n",
              "      <td>N/A</td>\n",
              "    </tr>\n",
              "    <tr>\n",
              "      <th>1834</th>\n",
              "      <td>Infosys</td>\n",
              "      <td>Nice Working in Infosys</td>\n",
              "      <td>5.0</td>\n",
              "      <td>September 11, 2019</td>\n",
              "      <td>The value system of the company is noteworthy....</td>\n",
              "      <td>The value system of the company is noteworthy....</td>\n",
              "      <td>N/A</td>\n",
              "      <td>N/A</td>\n",
              "    </tr>\n",
              "    <tr>\n",
              "      <th>1835</th>\n",
              "      <td>Penn Schoen Berland</td>\n",
              "      <td>Fun work environment</td>\n",
              "      <td>4.0</td>\n",
              "      <td>June 11, 2019</td>\n",
              "      <td>Typical day included calling out of state to d...</td>\n",
              "      <td>Typical day included calling out of state to d...</td>\n",
              "      <td>N/A</td>\n",
              "      <td>N/A</td>\n",
              "    </tr>\n",
              "    <tr>\n",
              "      <th>1836</th>\n",
              "      <td>Penn Schoen Berland</td>\n",
              "      <td>Pretty young and hip workplace</td>\n",
              "      <td>5.0</td>\n",
              "      <td>August 5, 2015</td>\n",
              "      <td>Most of the people I worked with were younger ...</td>\n",
              "      <td>Most of the people I worked with were younger ...</td>\n",
              "      <td>N/A</td>\n",
              "      <td>N/A</td>\n",
              "    </tr>\n",
              "    <tr>\n",
              "      <th>1837</th>\n",
              "      <td>Penn Schoen Berland</td>\n",
              "      <td>Intelligent people passionate about research</td>\n",
              "      <td>3.0</td>\n",
              "      <td>May 7, 2012</td>\n",
              "      <td>Interesting clients, fascinating findings are ...</td>\n",
              "      <td>Interesting clients, fascinating findings are ...</td>\n",
              "      <td>great coworkers</td>\n",
              "      <td>compensation packages seemed low; no 401k plan</td>\n",
              "    </tr>\n",
              "  </tbody>\n",
              "</table>\n",
              "<p>1653 rows × 8 columns</p>\n",
              "</div>"
            ],
            "text/plain": [
              "                  company  ...                                             con\n",
              "0                Veritone  ...                                             N/A\n",
              "1                Veritone  ...                                             N/A\n",
              "2                Veritone  ...                     Random unexplained lay-offs\n",
              "3                Veritone  ...                      Start ups usual challenges\n",
              "8                    Hulu  ...                                             N/A\n",
              "...                   ...  ...                                             ...\n",
              "1833              Infosys  ...                                             N/A\n",
              "1834              Infosys  ...                                             N/A\n",
              "1835  Penn Schoen Berland  ...                                             N/A\n",
              "1836  Penn Schoen Berland  ...                                             N/A\n",
              "1837  Penn Schoen Berland  ...  compensation packages seemed low; no 401k plan\n",
              "\n",
              "[1653 rows x 8 columns]"
            ]
          },
          "metadata": {
            "tags": []
          },
          "execution_count": 95
        }
      ]
    },
    {
      "cell_type": "code",
      "metadata": {
        "id": "mjikQKOhUf0b",
        "colab_type": "code",
        "colab": {}
      },
      "source": [
        ""
      ],
      "execution_count": 0,
      "outputs": []
    }
  ]
}